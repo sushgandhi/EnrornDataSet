{
 "cells": [
  {
   "cell_type": "markdown",
   "metadata": {},
   "source": [
    "### Enron Dataset EDA"
   ]
  },
  {
   "cell_type": "code",
   "execution_count": 88,
   "metadata": {},
   "outputs": [],
   "source": [
    "import numpy as np\n",
    "import pandas as pd\n",
    "import matplotlib.pyplot as plt\n",
    "import seaborn as sns\n",
    "import csv\n",
    "import pickle\n",
    "import random\n",
    "import math\n",
    "from sklearn.cross_validation import train_test_split\n",
    "from sklearn.preprocessing import MinMaxScaler\n",
    "from sklearn.cross_validation import StratifiedShuffleSplit\n",
    "from sklearn.ensemble import RandomForestClassifier\n",
    "from sklearn.naive_bayes import GaussianNB\n",
    "from sklearn.ensemble import AdaBoostClassifier\n",
    "from sklearn.tree import DecisionTreeClassifier \n",
    "from sklearn.ensemble import ExtraTreesClassifier\n",
    "from sklearn.ensemble import BaggingClassifier\n",
    "from sklearn import cross_validation\n",
    "from sklearn.svm import SVC\n",
    "from sklearn.cluster import KMeans\n",
    "from sklearn.model_selection import cross_val_predict\n",
    "from sklearn.model_selection import GridSearchCV\n",
    "from sklearn import metrics\n",
    "\n",
    "from feature_format import featureFormat, targetFeatureSplit\n",
    "from tester import test_classifier, dump_classifier_and_data\n",
    "\n",
    "\n",
    "%matplotlib inline"
   ]
  },
  {
   "cell_type": "code",
   "execution_count": 89,
   "metadata": {
    "collapsed": true
   },
   "outputs": [],
   "source": [
    "with open ('final_project_dataset.pkl','rb') as f:\n",
    "    enron_data = pickle.load(f)"
   ]
  },
  {
   "cell_type": "code",
   "execution_count": 90,
   "metadata": {},
   "outputs": [
    {
     "data": {
      "text/html": [
       "<div>\n",
       "<style>\n",
       "    .dataframe thead tr:only-child th {\n",
       "        text-align: right;\n",
       "    }\n",
       "\n",
       "    .dataframe thead th {\n",
       "        text-align: left;\n",
       "    }\n",
       "\n",
       "    .dataframe tbody tr th {\n",
       "        vertical-align: top;\n",
       "    }\n",
       "</style>\n",
       "<table border=\"1\" class=\"dataframe\">\n",
       "  <thead>\n",
       "    <tr style=\"text-align: right;\">\n",
       "      <th></th>\n",
       "      <th>bonus</th>\n",
       "      <th>deferral_payments</th>\n",
       "      <th>deferred_income</th>\n",
       "      <th>director_fees</th>\n",
       "      <th>email_address</th>\n",
       "      <th>exercised_stock_options</th>\n",
       "      <th>expenses</th>\n",
       "      <th>from_messages</th>\n",
       "      <th>from_poi_to_this_person</th>\n",
       "      <th>from_this_person_to_poi</th>\n",
       "      <th>...</th>\n",
       "      <th>long_term_incentive</th>\n",
       "      <th>other</th>\n",
       "      <th>poi</th>\n",
       "      <th>restricted_stock</th>\n",
       "      <th>restricted_stock_deferred</th>\n",
       "      <th>salary</th>\n",
       "      <th>shared_receipt_with_poi</th>\n",
       "      <th>to_messages</th>\n",
       "      <th>total_payments</th>\n",
       "      <th>total_stock_value</th>\n",
       "    </tr>\n",
       "  </thead>\n",
       "  <tbody>\n",
       "    <tr>\n",
       "      <th>0</th>\n",
       "      <td>600000</td>\n",
       "      <td>NaN</td>\n",
       "      <td>NaN</td>\n",
       "      <td>NaN</td>\n",
       "      <td>mark.metts@enron.com</td>\n",
       "      <td>NaN</td>\n",
       "      <td>94299</td>\n",
       "      <td>29</td>\n",
       "      <td>38</td>\n",
       "      <td>1</td>\n",
       "      <td>...</td>\n",
       "      <td>NaN</td>\n",
       "      <td>1740</td>\n",
       "      <td>False</td>\n",
       "      <td>585062</td>\n",
       "      <td>NaN</td>\n",
       "      <td>365788</td>\n",
       "      <td>702</td>\n",
       "      <td>807</td>\n",
       "      <td>1061827</td>\n",
       "      <td>585062</td>\n",
       "    </tr>\n",
       "    <tr>\n",
       "      <th>1</th>\n",
       "      <td>1200000</td>\n",
       "      <td>1295738</td>\n",
       "      <td>-1386055</td>\n",
       "      <td>NaN</td>\n",
       "      <td>NaN</td>\n",
       "      <td>6680544</td>\n",
       "      <td>11200</td>\n",
       "      <td>NaN</td>\n",
       "      <td>NaN</td>\n",
       "      <td>NaN</td>\n",
       "      <td>...</td>\n",
       "      <td>1586055</td>\n",
       "      <td>2660303</td>\n",
       "      <td>False</td>\n",
       "      <td>3942714</td>\n",
       "      <td>NaN</td>\n",
       "      <td>267102</td>\n",
       "      <td>NaN</td>\n",
       "      <td>NaN</td>\n",
       "      <td>5634343</td>\n",
       "      <td>10623258</td>\n",
       "    </tr>\n",
       "    <tr>\n",
       "      <th>2</th>\n",
       "      <td>350000</td>\n",
       "      <td>NaN</td>\n",
       "      <td>-400729</td>\n",
       "      <td>NaN</td>\n",
       "      <td>steven.elliott@enron.com</td>\n",
       "      <td>4890344</td>\n",
       "      <td>78552</td>\n",
       "      <td>NaN</td>\n",
       "      <td>NaN</td>\n",
       "      <td>NaN</td>\n",
       "      <td>...</td>\n",
       "      <td>NaN</td>\n",
       "      <td>12961</td>\n",
       "      <td>False</td>\n",
       "      <td>1788391</td>\n",
       "      <td>NaN</td>\n",
       "      <td>170941</td>\n",
       "      <td>NaN</td>\n",
       "      <td>NaN</td>\n",
       "      <td>211725</td>\n",
       "      <td>6678735</td>\n",
       "    </tr>\n",
       "    <tr>\n",
       "      <th>3</th>\n",
       "      <td>NaN</td>\n",
       "      <td>NaN</td>\n",
       "      <td>NaN</td>\n",
       "      <td>NaN</td>\n",
       "      <td>bill.cordes@enron.com</td>\n",
       "      <td>651850</td>\n",
       "      <td>NaN</td>\n",
       "      <td>12</td>\n",
       "      <td>10</td>\n",
       "      <td>0</td>\n",
       "      <td>...</td>\n",
       "      <td>NaN</td>\n",
       "      <td>NaN</td>\n",
       "      <td>False</td>\n",
       "      <td>386335</td>\n",
       "      <td>NaN</td>\n",
       "      <td>NaN</td>\n",
       "      <td>58</td>\n",
       "      <td>764</td>\n",
       "      <td>NaN</td>\n",
       "      <td>1038185</td>\n",
       "    </tr>\n",
       "    <tr>\n",
       "      <th>4</th>\n",
       "      <td>1500000</td>\n",
       "      <td>NaN</td>\n",
       "      <td>-3117011</td>\n",
       "      <td>NaN</td>\n",
       "      <td>kevin.hannon@enron.com</td>\n",
       "      <td>5538001</td>\n",
       "      <td>34039</td>\n",
       "      <td>32</td>\n",
       "      <td>32</td>\n",
       "      <td>21</td>\n",
       "      <td>...</td>\n",
       "      <td>1617011</td>\n",
       "      <td>11350</td>\n",
       "      <td>True</td>\n",
       "      <td>853064</td>\n",
       "      <td>NaN</td>\n",
       "      <td>243293</td>\n",
       "      <td>1035</td>\n",
       "      <td>1045</td>\n",
       "      <td>288682</td>\n",
       "      <td>6391065</td>\n",
       "    </tr>\n",
       "  </tbody>\n",
       "</table>\n",
       "<p>5 rows × 21 columns</p>\n",
       "</div>"
      ],
      "text/plain": [
       "     bonus deferral_payments deferred_income director_fees  \\\n",
       "0   600000               NaN             NaN           NaN   \n",
       "1  1200000           1295738        -1386055           NaN   \n",
       "2   350000               NaN         -400729           NaN   \n",
       "3      NaN               NaN             NaN           NaN   \n",
       "4  1500000               NaN        -3117011           NaN   \n",
       "\n",
       "              email_address exercised_stock_options expenses from_messages  \\\n",
       "0      mark.metts@enron.com                     NaN    94299            29   \n",
       "1                       NaN                 6680544    11200           NaN   \n",
       "2  steven.elliott@enron.com                 4890344    78552           NaN   \n",
       "3     bill.cordes@enron.com                  651850      NaN            12   \n",
       "4    kevin.hannon@enron.com                 5538001    34039            32   \n",
       "\n",
       "  from_poi_to_this_person from_this_person_to_poi        ...         \\\n",
       "0                      38                       1        ...          \n",
       "1                     NaN                     NaN        ...          \n",
       "2                     NaN                     NaN        ...          \n",
       "3                      10                       0        ...          \n",
       "4                      32                      21        ...          \n",
       "\n",
       "  long_term_incentive    other    poi  restricted_stock  \\\n",
       "0                 NaN     1740  False            585062   \n",
       "1             1586055  2660303  False           3942714   \n",
       "2                 NaN    12961  False           1788391   \n",
       "3                 NaN      NaN  False            386335   \n",
       "4             1617011    11350   True            853064   \n",
       "\n",
       "  restricted_stock_deferred  salary shared_receipt_with_poi to_messages  \\\n",
       "0                       NaN  365788                     702         807   \n",
       "1                       NaN  267102                     NaN         NaN   \n",
       "2                       NaN  170941                     NaN         NaN   \n",
       "3                       NaN     NaN                      58         764   \n",
       "4                       NaN  243293                    1035        1045   \n",
       "\n",
       "  total_payments total_stock_value  \n",
       "0        1061827            585062  \n",
       "1        5634343          10623258  \n",
       "2         211725           6678735  \n",
       "3            NaN           1038185  \n",
       "4         288682           6391065  \n",
       "\n",
       "[5 rows x 21 columns]"
      ]
     },
     "execution_count": 90,
     "metadata": {},
     "output_type": "execute_result"
    }
   ],
   "source": [
    "df = pd.DataFrame.from_records(list(enron_data.values()))\n",
    "persons = pd.Series(list(enron_data.keys()))\n",
    "\n",
    "df.head()"
   ]
  },
  {
   "cell_type": "code",
   "execution_count": 91,
   "metadata": {
    "collapsed": true
   },
   "outputs": [],
   "source": [
    "df['persons'] = persons"
   ]
  },
  {
   "cell_type": "code",
   "execution_count": 92,
   "metadata": {},
   "outputs": [
    {
     "data": {
      "text/html": [
       "<div>\n",
       "<style>\n",
       "    .dataframe thead tr:only-child th {\n",
       "        text-align: right;\n",
       "    }\n",
       "\n",
       "    .dataframe thead th {\n",
       "        text-align: left;\n",
       "    }\n",
       "\n",
       "    .dataframe tbody tr th {\n",
       "        vertical-align: top;\n",
       "    }\n",
       "</style>\n",
       "<table border=\"1\" class=\"dataframe\">\n",
       "  <thead>\n",
       "    <tr style=\"text-align: right;\">\n",
       "      <th></th>\n",
       "      <th>bonus</th>\n",
       "      <th>deferral_payments</th>\n",
       "      <th>deferred_income</th>\n",
       "      <th>director_fees</th>\n",
       "      <th>email_address</th>\n",
       "      <th>exercised_stock_options</th>\n",
       "      <th>expenses</th>\n",
       "      <th>from_messages</th>\n",
       "      <th>from_poi_to_this_person</th>\n",
       "      <th>from_this_person_to_poi</th>\n",
       "      <th>...</th>\n",
       "      <th>other</th>\n",
       "      <th>poi</th>\n",
       "      <th>restricted_stock</th>\n",
       "      <th>restricted_stock_deferred</th>\n",
       "      <th>salary</th>\n",
       "      <th>shared_receipt_with_poi</th>\n",
       "      <th>to_messages</th>\n",
       "      <th>total_payments</th>\n",
       "      <th>total_stock_value</th>\n",
       "      <th>persons</th>\n",
       "    </tr>\n",
       "  </thead>\n",
       "  <tbody>\n",
       "    <tr>\n",
       "      <th>0</th>\n",
       "      <td>600000</td>\n",
       "      <td>NaN</td>\n",
       "      <td>NaN</td>\n",
       "      <td>NaN</td>\n",
       "      <td>mark.metts@enron.com</td>\n",
       "      <td>NaN</td>\n",
       "      <td>94299</td>\n",
       "      <td>29</td>\n",
       "      <td>38</td>\n",
       "      <td>1</td>\n",
       "      <td>...</td>\n",
       "      <td>1740</td>\n",
       "      <td>False</td>\n",
       "      <td>585062</td>\n",
       "      <td>NaN</td>\n",
       "      <td>365788</td>\n",
       "      <td>702</td>\n",
       "      <td>807</td>\n",
       "      <td>1061827</td>\n",
       "      <td>585062</td>\n",
       "      <td>METTS MARK</td>\n",
       "    </tr>\n",
       "    <tr>\n",
       "      <th>1</th>\n",
       "      <td>1200000</td>\n",
       "      <td>1295738</td>\n",
       "      <td>-1386055</td>\n",
       "      <td>NaN</td>\n",
       "      <td>NaN</td>\n",
       "      <td>6680544</td>\n",
       "      <td>11200</td>\n",
       "      <td>NaN</td>\n",
       "      <td>NaN</td>\n",
       "      <td>NaN</td>\n",
       "      <td>...</td>\n",
       "      <td>2660303</td>\n",
       "      <td>False</td>\n",
       "      <td>3942714</td>\n",
       "      <td>NaN</td>\n",
       "      <td>267102</td>\n",
       "      <td>NaN</td>\n",
       "      <td>NaN</td>\n",
       "      <td>5634343</td>\n",
       "      <td>10623258</td>\n",
       "      <td>BAXTER JOHN C</td>\n",
       "    </tr>\n",
       "    <tr>\n",
       "      <th>2</th>\n",
       "      <td>350000</td>\n",
       "      <td>NaN</td>\n",
       "      <td>-400729</td>\n",
       "      <td>NaN</td>\n",
       "      <td>steven.elliott@enron.com</td>\n",
       "      <td>4890344</td>\n",
       "      <td>78552</td>\n",
       "      <td>NaN</td>\n",
       "      <td>NaN</td>\n",
       "      <td>NaN</td>\n",
       "      <td>...</td>\n",
       "      <td>12961</td>\n",
       "      <td>False</td>\n",
       "      <td>1788391</td>\n",
       "      <td>NaN</td>\n",
       "      <td>170941</td>\n",
       "      <td>NaN</td>\n",
       "      <td>NaN</td>\n",
       "      <td>211725</td>\n",
       "      <td>6678735</td>\n",
       "      <td>ELLIOTT STEVEN</td>\n",
       "    </tr>\n",
       "    <tr>\n",
       "      <th>3</th>\n",
       "      <td>NaN</td>\n",
       "      <td>NaN</td>\n",
       "      <td>NaN</td>\n",
       "      <td>NaN</td>\n",
       "      <td>bill.cordes@enron.com</td>\n",
       "      <td>651850</td>\n",
       "      <td>NaN</td>\n",
       "      <td>12</td>\n",
       "      <td>10</td>\n",
       "      <td>0</td>\n",
       "      <td>...</td>\n",
       "      <td>NaN</td>\n",
       "      <td>False</td>\n",
       "      <td>386335</td>\n",
       "      <td>NaN</td>\n",
       "      <td>NaN</td>\n",
       "      <td>58</td>\n",
       "      <td>764</td>\n",
       "      <td>NaN</td>\n",
       "      <td>1038185</td>\n",
       "      <td>CORDES WILLIAM R</td>\n",
       "    </tr>\n",
       "    <tr>\n",
       "      <th>4</th>\n",
       "      <td>1500000</td>\n",
       "      <td>NaN</td>\n",
       "      <td>-3117011</td>\n",
       "      <td>NaN</td>\n",
       "      <td>kevin.hannon@enron.com</td>\n",
       "      <td>5538001</td>\n",
       "      <td>34039</td>\n",
       "      <td>32</td>\n",
       "      <td>32</td>\n",
       "      <td>21</td>\n",
       "      <td>...</td>\n",
       "      <td>11350</td>\n",
       "      <td>True</td>\n",
       "      <td>853064</td>\n",
       "      <td>NaN</td>\n",
       "      <td>243293</td>\n",
       "      <td>1035</td>\n",
       "      <td>1045</td>\n",
       "      <td>288682</td>\n",
       "      <td>6391065</td>\n",
       "      <td>HANNON KEVIN P</td>\n",
       "    </tr>\n",
       "  </tbody>\n",
       "</table>\n",
       "<p>5 rows × 22 columns</p>\n",
       "</div>"
      ],
      "text/plain": [
       "     bonus deferral_payments deferred_income director_fees  \\\n",
       "0   600000               NaN             NaN           NaN   \n",
       "1  1200000           1295738        -1386055           NaN   \n",
       "2   350000               NaN         -400729           NaN   \n",
       "3      NaN               NaN             NaN           NaN   \n",
       "4  1500000               NaN        -3117011           NaN   \n",
       "\n",
       "              email_address exercised_stock_options expenses from_messages  \\\n",
       "0      mark.metts@enron.com                     NaN    94299            29   \n",
       "1                       NaN                 6680544    11200           NaN   \n",
       "2  steven.elliott@enron.com                 4890344    78552           NaN   \n",
       "3     bill.cordes@enron.com                  651850      NaN            12   \n",
       "4    kevin.hannon@enron.com                 5538001    34039            32   \n",
       "\n",
       "  from_poi_to_this_person from_this_person_to_poi        ...           other  \\\n",
       "0                      38                       1        ...            1740   \n",
       "1                     NaN                     NaN        ...         2660303   \n",
       "2                     NaN                     NaN        ...           12961   \n",
       "3                      10                       0        ...             NaN   \n",
       "4                      32                      21        ...           11350   \n",
       "\n",
       "     poi restricted_stock  restricted_stock_deferred  salary  \\\n",
       "0  False           585062                        NaN  365788   \n",
       "1  False          3942714                        NaN  267102   \n",
       "2  False          1788391                        NaN  170941   \n",
       "3  False           386335                        NaN     NaN   \n",
       "4   True           853064                        NaN  243293   \n",
       "\n",
       "  shared_receipt_with_poi to_messages total_payments total_stock_value  \\\n",
       "0                     702         807        1061827            585062   \n",
       "1                     NaN         NaN        5634343          10623258   \n",
       "2                     NaN         NaN         211725           6678735   \n",
       "3                      58         764            NaN           1038185   \n",
       "4                    1035        1045         288682           6391065   \n",
       "\n",
       "            persons  \n",
       "0        METTS MARK  \n",
       "1     BAXTER JOHN C  \n",
       "2    ELLIOTT STEVEN  \n",
       "3  CORDES WILLIAM R  \n",
       "4    HANNON KEVIN P  \n",
       "\n",
       "[5 rows x 22 columns]"
      ]
     },
     "execution_count": 92,
     "metadata": {},
     "output_type": "execute_result"
    }
   ],
   "source": [
    "df.head()"
   ]
  },
  {
   "cell_type": "code",
   "execution_count": 93,
   "metadata": {},
   "outputs": [
    {
     "data": {
      "text/html": [
       "<div>\n",
       "<style>\n",
       "    .dataframe thead tr:only-child th {\n",
       "        text-align: right;\n",
       "    }\n",
       "\n",
       "    .dataframe thead th {\n",
       "        text-align: left;\n",
       "    }\n",
       "\n",
       "    .dataframe tbody tr th {\n",
       "        vertical-align: top;\n",
       "    }\n",
       "</style>\n",
       "<table border=\"1\" class=\"dataframe\">\n",
       "  <thead>\n",
       "    <tr style=\"text-align: right;\">\n",
       "      <th></th>\n",
       "      <th>bonus</th>\n",
       "      <th>deferral_payments</th>\n",
       "      <th>deferred_income</th>\n",
       "      <th>director_fees</th>\n",
       "      <th>email_address</th>\n",
       "      <th>exercised_stock_options</th>\n",
       "      <th>expenses</th>\n",
       "      <th>from_messages</th>\n",
       "      <th>from_poi_to_this_person</th>\n",
       "      <th>from_this_person_to_poi</th>\n",
       "      <th>...</th>\n",
       "      <th>other</th>\n",
       "      <th>poi</th>\n",
       "      <th>restricted_stock</th>\n",
       "      <th>restricted_stock_deferred</th>\n",
       "      <th>salary</th>\n",
       "      <th>shared_receipt_with_poi</th>\n",
       "      <th>to_messages</th>\n",
       "      <th>total_payments</th>\n",
       "      <th>total_stock_value</th>\n",
       "      <th>persons</th>\n",
       "    </tr>\n",
       "  </thead>\n",
       "  <tbody>\n",
       "    <tr>\n",
       "      <th>109</th>\n",
       "      <td>4175000</td>\n",
       "      <td>2869717</td>\n",
       "      <td>-3081055</td>\n",
       "      <td>NaN</td>\n",
       "      <td>phillip.allen@enron.com</td>\n",
       "      <td>1729541</td>\n",
       "      <td>13868</td>\n",
       "      <td>2195</td>\n",
       "      <td>47</td>\n",
       "      <td>65</td>\n",
       "      <td>...</td>\n",
       "      <td>152</td>\n",
       "      <td>False</td>\n",
       "      <td>126027</td>\n",
       "      <td>-126027</td>\n",
       "      <td>201955</td>\n",
       "      <td>1407</td>\n",
       "      <td>2902</td>\n",
       "      <td>4484442</td>\n",
       "      <td>1729541</td>\n",
       "      <td>ALLEN PHILLIP K</td>\n",
       "    </tr>\n",
       "  </tbody>\n",
       "</table>\n",
       "<p>1 rows × 22 columns</p>\n",
       "</div>"
      ],
      "text/plain": [
       "       bonus deferral_payments deferred_income director_fees  \\\n",
       "109  4175000           2869717        -3081055           NaN   \n",
       "\n",
       "               email_address exercised_stock_options expenses from_messages  \\\n",
       "109  phillip.allen@enron.com                 1729541    13868          2195   \n",
       "\n",
       "    from_poi_to_this_person from_this_person_to_poi       ...        other  \\\n",
       "109                      47                      65       ...          152   \n",
       "\n",
       "       poi restricted_stock  restricted_stock_deferred  salary  \\\n",
       "109  False           126027                    -126027  201955   \n",
       "\n",
       "    shared_receipt_with_poi to_messages total_payments total_stock_value  \\\n",
       "109                    1407        2902        4484442           1729541   \n",
       "\n",
       "             persons  \n",
       "109  ALLEN PHILLIP K  \n",
       "\n",
       "[1 rows x 22 columns]"
      ]
     },
     "execution_count": 93,
     "metadata": {},
     "output_type": "execute_result"
    }
   ],
   "source": [
    "df[df['persons']=='ALLEN PHILLIP K']"
   ]
  },
  {
   "cell_type": "markdown",
   "metadata": {},
   "source": [
    "Let's see what is the distribution of poi is like in the dataset"
   ]
  },
  {
   "cell_type": "code",
   "execution_count": 94,
   "metadata": {},
   "outputs": [
    {
     "data": {
      "text/plain": [
       "<matplotlib.axes._subplots.AxesSubplot at 0x1a1b1dfe90>"
      ]
     },
     "execution_count": 94,
     "metadata": {},
     "output_type": "execute_result"
    },
    {
     "data": {
      "image/png": "[encoded data removed]",
      "text/plain": [
       "<matplotlib.figure.Figure at 0x1a1bc7e8d0>"
      ]
     },
     "metadata": {},
     "output_type": "display_data"
    }
   ],
   "source": [
    "sns.countplot(data = df,x = \"poi\")"
   ]
  },
  {
   "cell_type": "markdown",
   "metadata": {},
   "source": [
    "We can see that most of the poi's are really less compared to non poi data points"
   ]
  },
  {
   "cell_type": "markdown",
   "metadata": {},
   "source": [
    "Analysing the relation between salary/bonus and poi"
   ]
  },
  {
   "cell_type": "code",
   "execution_count": 95,
   "metadata": {},
   "outputs": [
    {
     "data": {
      "text/plain": [
       "<matplotlib.text.Text at 0x1a1bdb9a10>"
      ]
     },
     "execution_count": 95,
     "metadata": {},
     "output_type": "execute_result"
    },
    {
     "data": {
      "image/png": "[encoded data removed]",
      "text/plain": [
       "<matplotlib.figure.Figure at 0x1a1bdce8d0>"
      ]
     },
     "metadata": {},
     "output_type": "display_data"
    }
   ],
   "source": [
    "p1 = sns.kdeplot(df['salary'])\n",
    "p2 = sns.kdeplot(df['bonus'])\n",
    "plt.xlabel('value')\n",
    "plt.ylabel('count')"
   ]
  },
  {
   "cell_type": "code",
   "execution_count": 96,
   "metadata": {},
   "outputs": [
    {
     "data": {
      "text/plain": [
       "<matplotlib.text.Text at 0x1a1b9cbfd0>"
      ]
     },
     "execution_count": 96,
     "metadata": {},
     "output_type": "execute_result"
    },
    {
     "data": {
      "image/png": "[encoded data removed]",
      "text/plain": [
       "<matplotlib.figure.Figure at 0x1a1bf2e5d0>"
      ]
     },
     "metadata": {},
     "output_type": "display_data"
    }
   ],
   "source": [
    "#sns.regplot(x=df[\"salary\"], y=df[\"bonus\"])\n",
    "plt.plot(df['bonus'],df['salary'],\"o\")\n",
    "plt.xlabel('bonus')\n",
    "plt.ylabel('salary')"
   ]
  },
  {
   "cell_type": "markdown",
   "metadata": {},
   "source": [
    "^^ There are calealy some outliers, Let's remove them for now, just for simplicity sake. <br>"
   ]
  },
  {
   "cell_type": "code",
   "execution_count": 97,
   "metadata": {},
   "outputs": [
    {
     "data": {
      "text/plain": [
       "count     146\n",
       "unique     42\n",
       "top       NaN\n",
       "freq       64\n",
       "Name: bonus, dtype: object"
      ]
     },
     "execution_count": 97,
     "metadata": {},
     "output_type": "execute_result"
    }
   ],
   "source": [
    "df['bonus'].describe()"
   ]
  },
  {
   "cell_type": "markdown",
   "metadata": {},
   "source": [
    "Looks like we have lot of NaNs in the dataset"
   ]
  },
  {
   "cell_type": "code",
   "execution_count": 98,
   "metadata": {},
   "outputs": [
    {
     "data": {
      "text/plain": [
       "bonus                        0\n",
       "deferral_payments            0\n",
       "deferred_income              0\n",
       "director_fees                0\n",
       "email_address                0\n",
       "exercised_stock_options      0\n",
       "expenses                     0\n",
       "from_messages                0\n",
       "from_poi_to_this_person      0\n",
       "from_this_person_to_poi      0\n",
       "loan_advances                0\n",
       "long_term_incentive          0\n",
       "other                        0\n",
       "poi                          0\n",
       "restricted_stock             0\n",
       "restricted_stock_deferred    0\n",
       "salary                       0\n",
       "shared_receipt_with_poi      0\n",
       "to_messages                  0\n",
       "total_payments               0\n",
       "total_stock_value            0\n",
       "persons                      0\n",
       "dtype: int64"
      ]
     },
     "execution_count": 98,
     "metadata": {},
     "output_type": "execute_result"
    }
   ],
   "source": [
    "df.isnull().sum()"
   ]
  },
  {
   "cell_type": "markdown",
   "metadata": {},
   "source": [
    "To further clean the data for exploration as matplotlib/seaborn don't work well with NaN, replacing all 'NaN's with 0, And Having a backup DataFrame in case we need to refer something."
   ]
  },
  {
   "cell_type": "code",
   "execution_count": 99,
   "metadata": {
    "collapsed": true
   },
   "outputs": [],
   "source": [
    "df_backup = df"
   ]
  },
  {
   "cell_type": "code",
   "execution_count": 100,
   "metadata": {
    "collapsed": true
   },
   "outputs": [],
   "source": [
    "df = df.replace('NaN', 0)"
   ]
  },
  {
   "cell_type": "code",
   "execution_count": 101,
   "metadata": {},
   "outputs": [
    {
     "data": {
      "text/plain": [
       "count    1.460000e+02\n",
       "mean     3.658114e+05\n",
       "std      2.203575e+06\n",
       "min      0.000000e+00\n",
       "25%      0.000000e+00\n",
       "50%      2.105960e+05\n",
       "75%      2.708505e+05\n",
       "max      2.670423e+07\n",
       "Name: salary, dtype: float64"
      ]
     },
     "execution_count": 101,
     "metadata": {},
     "output_type": "execute_result"
    }
   ],
   "source": [
    "df['salary'].describe()"
   ]
  },
  {
   "cell_type": "code",
   "execution_count": 102,
   "metadata": {},
   "outputs": [
    {
     "data": {
      "text/plain": [
       "26704229"
      ]
     },
     "execution_count": 102,
     "metadata": {},
     "output_type": "execute_result"
    }
   ],
   "source": [
    "df['salary'].max()"
   ]
  },
  {
   "cell_type": "code",
   "execution_count": 103,
   "metadata": {},
   "outputs": [
    {
     "data": {
      "text/plain": [
       "count    1.460000e+02\n",
       "mean     1.333474e+06\n",
       "std      8.094029e+06\n",
       "min      0.000000e+00\n",
       "25%      0.000000e+00\n",
       "50%      3.000000e+05\n",
       "75%      8.000000e+05\n",
       "max      9.734362e+07\n",
       "Name: bonus, dtype: float64"
      ]
     },
     "execution_count": 103,
     "metadata": {},
     "output_type": "execute_result"
    }
   ],
   "source": [
    "df['bonus'].describe()"
   ]
  },
  {
   "cell_type": "code",
   "execution_count": 104,
   "metadata": {},
   "outputs": [
    {
     "data": {
      "text/plain": [
       "97343619"
      ]
     },
     "execution_count": 104,
     "metadata": {},
     "output_type": "execute_result"
    }
   ],
   "source": [
    "df['bonus'].max()"
   ]
  },
  {
   "cell_type": "code",
   "execution_count": 105,
   "metadata": {},
   "outputs": [
    {
     "data": {
      "text/html": [
       "<div>\n",
       "<style>\n",
       "    .dataframe thead tr:only-child th {\n",
       "        text-align: right;\n",
       "    }\n",
       "\n",
       "    .dataframe thead th {\n",
       "        text-align: left;\n",
       "    }\n",
       "\n",
       "    .dataframe tbody tr th {\n",
       "        vertical-align: top;\n",
       "    }\n",
       "</style>\n",
       "<table border=\"1\" class=\"dataframe\">\n",
       "  <thead>\n",
       "    <tr style=\"text-align: right;\">\n",
       "      <th></th>\n",
       "      <th>bonus</th>\n",
       "      <th>deferral_payments</th>\n",
       "      <th>deferred_income</th>\n",
       "      <th>director_fees</th>\n",
       "      <th>email_address</th>\n",
       "      <th>exercised_stock_options</th>\n",
       "      <th>expenses</th>\n",
       "      <th>from_messages</th>\n",
       "      <th>from_poi_to_this_person</th>\n",
       "      <th>from_this_person_to_poi</th>\n",
       "      <th>...</th>\n",
       "      <th>other</th>\n",
       "      <th>poi</th>\n",
       "      <th>restricted_stock</th>\n",
       "      <th>restricted_stock_deferred</th>\n",
       "      <th>salary</th>\n",
       "      <th>shared_receipt_with_poi</th>\n",
       "      <th>to_messages</th>\n",
       "      <th>total_payments</th>\n",
       "      <th>total_stock_value</th>\n",
       "      <th>persons</th>\n",
       "    </tr>\n",
       "  </thead>\n",
       "  <tbody>\n",
       "    <tr>\n",
       "      <th>104</th>\n",
       "      <td>97343619</td>\n",
       "      <td>32083396</td>\n",
       "      <td>-27992891</td>\n",
       "      <td>1398517</td>\n",
       "      <td>0</td>\n",
       "      <td>311764000</td>\n",
       "      <td>5235198</td>\n",
       "      <td>0</td>\n",
       "      <td>0</td>\n",
       "      <td>0</td>\n",
       "      <td>...</td>\n",
       "      <td>42667589</td>\n",
       "      <td>False</td>\n",
       "      <td>130322299</td>\n",
       "      <td>-7576788</td>\n",
       "      <td>26704229</td>\n",
       "      <td>0</td>\n",
       "      <td>0</td>\n",
       "      <td>309886585</td>\n",
       "      <td>434509511</td>\n",
       "      <td>TOTAL</td>\n",
       "    </tr>\n",
       "  </tbody>\n",
       "</table>\n",
       "<p>1 rows × 22 columns</p>\n",
       "</div>"
      ],
      "text/plain": [
       "        bonus  deferral_payments  deferred_income  director_fees  \\\n",
       "104  97343619           32083396        -27992891        1398517   \n",
       "\n",
       "    email_address  exercised_stock_options  expenses  from_messages  \\\n",
       "104             0                311764000   5235198              0   \n",
       "\n",
       "     from_poi_to_this_person  from_this_person_to_poi   ...        other  \\\n",
       "104                        0                        0   ...     42667589   \n",
       "\n",
       "       poi  restricted_stock  restricted_stock_deferred    salary  \\\n",
       "104  False         130322299                   -7576788  26704229   \n",
       "\n",
       "     shared_receipt_with_poi  to_messages  total_payments  total_stock_value  \\\n",
       "104                        0            0       309886585          434509511   \n",
       "\n",
       "     persons  \n",
       "104    TOTAL  \n",
       "\n",
       "[1 rows x 22 columns]"
      ]
     },
     "execution_count": 105,
     "metadata": {},
     "output_type": "execute_result"
    }
   ],
   "source": [
    "df[df['salary']==26704229]"
   ]
  },
  {
   "cell_type": "markdown",
   "metadata": {},
   "source": [
    "^^ Looks like this number is for 'TOTAL' salary/bonus, we can remove this"
   ]
  },
  {
   "cell_type": "code",
   "execution_count": 106,
   "metadata": {
    "collapsed": true
   },
   "outputs": [],
   "source": [
    "df.drop(df.index[[104]],inplace=True)"
   ]
  },
  {
   "cell_type": "code",
   "execution_count": 107,
   "metadata": {},
   "outputs": [
    {
     "data": {
      "text/plain": [
       "<matplotlib.text.Text at 0x1a1c10bd50>"
      ]
     },
     "execution_count": 107,
     "metadata": {},
     "output_type": "execute_result"
    },
    {
     "data": {
      "image/png": "[encoded data removed]",
      "text/plain": [
       "<matplotlib.figure.Figure at 0x1a1becb650>"
      ]
     },
     "metadata": {},
     "output_type": "display_data"
    }
   ],
   "source": [
    "plt.plot(df['bonus'],df['salary'],\"o\")\n",
    "plt.xlabel('bonus')\n",
    "plt.ylabel('salary')"
   ]
  },
  {
   "cell_type": "markdown",
   "metadata": {},
   "source": [
    "^^ This is a much better representaion of the data."
   ]
  },
  {
   "cell_type": "code",
   "execution_count": 108,
   "metadata": {},
   "outputs": [
    {
     "data": {
      "text/html": [
       "<div>\n",
       "<style>\n",
       "    .dataframe thead tr:only-child th {\n",
       "        text-align: right;\n",
       "    }\n",
       "\n",
       "    .dataframe thead th {\n",
       "        text-align: left;\n",
       "    }\n",
       "\n",
       "    .dataframe tbody tr th {\n",
       "        vertical-align: top;\n",
       "    }\n",
       "</style>\n",
       "<table border=\"1\" class=\"dataframe\">\n",
       "  <thead>\n",
       "    <tr style=\"text-align: right;\">\n",
       "      <th></th>\n",
       "      <th>bonus</th>\n",
       "      <th>deferral_payments</th>\n",
       "      <th>deferred_income</th>\n",
       "      <th>director_fees</th>\n",
       "      <th>email_address</th>\n",
       "      <th>exercised_stock_options</th>\n",
       "      <th>expenses</th>\n",
       "      <th>from_messages</th>\n",
       "      <th>from_poi_to_this_person</th>\n",
       "      <th>from_this_person_to_poi</th>\n",
       "      <th>...</th>\n",
       "      <th>other</th>\n",
       "      <th>poi</th>\n",
       "      <th>restricted_stock</th>\n",
       "      <th>restricted_stock_deferred</th>\n",
       "      <th>salary</th>\n",
       "      <th>shared_receipt_with_poi</th>\n",
       "      <th>to_messages</th>\n",
       "      <th>total_payments</th>\n",
       "      <th>total_stock_value</th>\n",
       "      <th>persons</th>\n",
       "    </tr>\n",
       "  </thead>\n",
       "  <tbody>\n",
       "    <tr>\n",
       "      <th>23</th>\n",
       "      <td>0</td>\n",
       "      <td>0</td>\n",
       "      <td>-98784</td>\n",
       "      <td>98784</td>\n",
       "      <td>0</td>\n",
       "      <td>0</td>\n",
       "      <td>0</td>\n",
       "      <td>0</td>\n",
       "      <td>0</td>\n",
       "      <td>0</td>\n",
       "      <td>...</td>\n",
       "      <td>0</td>\n",
       "      <td>False</td>\n",
       "      <td>32460</td>\n",
       "      <td>-32460</td>\n",
       "      <td>0</td>\n",
       "      <td>0</td>\n",
       "      <td>0</td>\n",
       "      <td>0</td>\n",
       "      <td>0</td>\n",
       "      <td>CHAN RONNIE</td>\n",
       "    </tr>\n",
       "    <tr>\n",
       "      <th>28</th>\n",
       "      <td>0</td>\n",
       "      <td>0</td>\n",
       "      <td>-36666</td>\n",
       "      <td>36666</td>\n",
       "      <td>0</td>\n",
       "      <td>0</td>\n",
       "      <td>228656</td>\n",
       "      <td>0</td>\n",
       "      <td>0</td>\n",
       "      <td>0</td>\n",
       "      <td>...</td>\n",
       "      <td>0</td>\n",
       "      <td>False</td>\n",
       "      <td>0</td>\n",
       "      <td>0</td>\n",
       "      <td>0</td>\n",
       "      <td>0</td>\n",
       "      <td>0</td>\n",
       "      <td>228656</td>\n",
       "      <td>0</td>\n",
       "      <td>URQUHART JOHN A</td>\n",
       "    </tr>\n",
       "    <tr>\n",
       "      <th>35</th>\n",
       "      <td>0</td>\n",
       "      <td>0</td>\n",
       "      <td>-103750</td>\n",
       "      <td>103750</td>\n",
       "      <td>0</td>\n",
       "      <td>0</td>\n",
       "      <td>148</td>\n",
       "      <td>0</td>\n",
       "      <td>0</td>\n",
       "      <td>0</td>\n",
       "      <td>...</td>\n",
       "      <td>0</td>\n",
       "      <td>False</td>\n",
       "      <td>0</td>\n",
       "      <td>0</td>\n",
       "      <td>0</td>\n",
       "      <td>0</td>\n",
       "      <td>0</td>\n",
       "      <td>148</td>\n",
       "      <td>0</td>\n",
       "      <td>MENDELSOHN JOHN</td>\n",
       "    </tr>\n",
       "    <tr>\n",
       "      <th>37</th>\n",
       "      <td>0</td>\n",
       "      <td>0</td>\n",
       "      <td>0</td>\n",
       "      <td>0</td>\n",
       "      <td>0</td>\n",
       "      <td>0</td>\n",
       "      <td>0</td>\n",
       "      <td>0</td>\n",
       "      <td>0</td>\n",
       "      <td>0</td>\n",
       "      <td>...</td>\n",
       "      <td>0</td>\n",
       "      <td>False</td>\n",
       "      <td>662086</td>\n",
       "      <td>-472568</td>\n",
       "      <td>0</td>\n",
       "      <td>0</td>\n",
       "      <td>0</td>\n",
       "      <td>0</td>\n",
       "      <td>189518</td>\n",
       "      <td>CLINE KENNETH W</td>\n",
       "    </tr>\n",
       "    <tr>\n",
       "      <th>46</th>\n",
       "      <td>0</td>\n",
       "      <td>0</td>\n",
       "      <td>0</td>\n",
       "      <td>109298</td>\n",
       "      <td>0</td>\n",
       "      <td>0</td>\n",
       "      <td>103773</td>\n",
       "      <td>0</td>\n",
       "      <td>0</td>\n",
       "      <td>0</td>\n",
       "      <td>...</td>\n",
       "      <td>0</td>\n",
       "      <td>False</td>\n",
       "      <td>0</td>\n",
       "      <td>0</td>\n",
       "      <td>0</td>\n",
       "      <td>0</td>\n",
       "      <td>0</td>\n",
       "      <td>213071</td>\n",
       "      <td>0</td>\n",
       "      <td>WAKEHAM JOHN</td>\n",
       "    </tr>\n",
       "    <tr>\n",
       "      <th>64</th>\n",
       "      <td>0</td>\n",
       "      <td>0</td>\n",
       "      <td>-38346</td>\n",
       "      <td>38346</td>\n",
       "      <td>0</td>\n",
       "      <td>0</td>\n",
       "      <td>2151</td>\n",
       "      <td>0</td>\n",
       "      <td>0</td>\n",
       "      <td>0</td>\n",
       "      <td>...</td>\n",
       "      <td>0</td>\n",
       "      <td>False</td>\n",
       "      <td>0</td>\n",
       "      <td>0</td>\n",
       "      <td>0</td>\n",
       "      <td>0</td>\n",
       "      <td>0</td>\n",
       "      <td>2151</td>\n",
       "      <td>0</td>\n",
       "      <td>MEYER JEROME J</td>\n",
       "    </tr>\n",
       "    <tr>\n",
       "      <th>90</th>\n",
       "      <td>0</td>\n",
       "      <td>0</td>\n",
       "      <td>0</td>\n",
       "      <td>0</td>\n",
       "      <td>0</td>\n",
       "      <td>0</td>\n",
       "      <td>0</td>\n",
       "      <td>0</td>\n",
       "      <td>0</td>\n",
       "      <td>0</td>\n",
       "      <td>...</td>\n",
       "      <td>0</td>\n",
       "      <td>False</td>\n",
       "      <td>0</td>\n",
       "      <td>0</td>\n",
       "      <td>0</td>\n",
       "      <td>0</td>\n",
       "      <td>0</td>\n",
       "      <td>0</td>\n",
       "      <td>0</td>\n",
       "      <td>LOCKHART EUGENE E</td>\n",
       "    </tr>\n",
       "    <tr>\n",
       "      <th>93</th>\n",
       "      <td>0</td>\n",
       "      <td>0</td>\n",
       "      <td>-101250</td>\n",
       "      <td>101250</td>\n",
       "      <td>0</td>\n",
       "      <td>0</td>\n",
       "      <td>27942</td>\n",
       "      <td>0</td>\n",
       "      <td>0</td>\n",
       "      <td>0</td>\n",
       "      <td>...</td>\n",
       "      <td>0</td>\n",
       "      <td>False</td>\n",
       "      <td>0</td>\n",
       "      <td>0</td>\n",
       "      <td>0</td>\n",
       "      <td>0</td>\n",
       "      <td>0</td>\n",
       "      <td>27942</td>\n",
       "      <td>0</td>\n",
       "      <td>PEREIRA PAULO V. FERRAZ</td>\n",
       "    </tr>\n",
       "    <tr>\n",
       "      <th>96</th>\n",
       "      <td>0</td>\n",
       "      <td>0</td>\n",
       "      <td>-113784</td>\n",
       "      <td>113784</td>\n",
       "      <td>0</td>\n",
       "      <td>0</td>\n",
       "      <td>1279</td>\n",
       "      <td>0</td>\n",
       "      <td>0</td>\n",
       "      <td>0</td>\n",
       "      <td>...</td>\n",
       "      <td>0</td>\n",
       "      <td>False</td>\n",
       "      <td>0</td>\n",
       "      <td>0</td>\n",
       "      <td>0</td>\n",
       "      <td>0</td>\n",
       "      <td>0</td>\n",
       "      <td>1279</td>\n",
       "      <td>0</td>\n",
       "      <td>BLAKE JR. NORMAN P</td>\n",
       "    </tr>\n",
       "    <tr>\n",
       "      <th>99</th>\n",
       "      <td>0</td>\n",
       "      <td>93585</td>\n",
       "      <td>0</td>\n",
       "      <td>0</td>\n",
       "      <td>0</td>\n",
       "      <td>0</td>\n",
       "      <td>0</td>\n",
       "      <td>0</td>\n",
       "      <td>0</td>\n",
       "      <td>0</td>\n",
       "      <td>...</td>\n",
       "      <td>680833</td>\n",
       "      <td>False</td>\n",
       "      <td>0</td>\n",
       "      <td>0</td>\n",
       "      <td>6615</td>\n",
       "      <td>0</td>\n",
       "      <td>0</td>\n",
       "      <td>1146658</td>\n",
       "      <td>0</td>\n",
       "      <td>GRAY RODNEY</td>\n",
       "    </tr>\n",
       "    <tr>\n",
       "      <th>101</th>\n",
       "      <td>0</td>\n",
       "      <td>0</td>\n",
       "      <td>0</td>\n",
       "      <td>0</td>\n",
       "      <td>0</td>\n",
       "      <td>0</td>\n",
       "      <td>0</td>\n",
       "      <td>0</td>\n",
       "      <td>0</td>\n",
       "      <td>0</td>\n",
       "      <td>...</td>\n",
       "      <td>362096</td>\n",
       "      <td>False</td>\n",
       "      <td>0</td>\n",
       "      <td>0</td>\n",
       "      <td>0</td>\n",
       "      <td>0</td>\n",
       "      <td>0</td>\n",
       "      <td>362096</td>\n",
       "      <td>0</td>\n",
       "      <td>THE TRAVEL AGENCY IN THE PARK</td>\n",
       "    </tr>\n",
       "    <tr>\n",
       "      <th>102</th>\n",
       "      <td>0</td>\n",
       "      <td>774401</td>\n",
       "      <td>0</td>\n",
       "      <td>0</td>\n",
       "      <td>0</td>\n",
       "      <td>0</td>\n",
       "      <td>0</td>\n",
       "      <td>0</td>\n",
       "      <td>0</td>\n",
       "      <td>0</td>\n",
       "      <td>...</td>\n",
       "      <td>0</td>\n",
       "      <td>False</td>\n",
       "      <td>463261</td>\n",
       "      <td>-94556</td>\n",
       "      <td>0</td>\n",
       "      <td>0</td>\n",
       "      <td>0</td>\n",
       "      <td>774401</td>\n",
       "      <td>368705</td>\n",
       "      <td>NOLES JAMES L</td>\n",
       "    </tr>\n",
       "    <tr>\n",
       "      <th>112</th>\n",
       "      <td>0</td>\n",
       "      <td>0</td>\n",
       "      <td>-25000</td>\n",
       "      <td>108579</td>\n",
       "      <td>0</td>\n",
       "      <td>0</td>\n",
       "      <td>1413</td>\n",
       "      <td>0</td>\n",
       "      <td>0</td>\n",
       "      <td>0</td>\n",
       "      <td>...</td>\n",
       "      <td>0</td>\n",
       "      <td>False</td>\n",
       "      <td>0</td>\n",
       "      <td>0</td>\n",
       "      <td>0</td>\n",
       "      <td>0</td>\n",
       "      <td>0</td>\n",
       "      <td>84992</td>\n",
       "      <td>0</td>\n",
       "      <td>WINOKUR JR. HERBERT S</td>\n",
       "    </tr>\n",
       "    <tr>\n",
       "      <th>136</th>\n",
       "      <td>0</td>\n",
       "      <td>0</td>\n",
       "      <td>-121284</td>\n",
       "      <td>125034</td>\n",
       "      <td>0</td>\n",
       "      <td>0</td>\n",
       "      <td>0</td>\n",
       "      <td>0</td>\n",
       "      <td>0</td>\n",
       "      <td>0</td>\n",
       "      <td>...</td>\n",
       "      <td>0</td>\n",
       "      <td>False</td>\n",
       "      <td>0</td>\n",
       "      <td>0</td>\n",
       "      <td>0</td>\n",
       "      <td>0</td>\n",
       "      <td>0</td>\n",
       "      <td>3750</td>\n",
       "      <td>0</td>\n",
       "      <td>SAVAGE FRANK</td>\n",
       "    </tr>\n",
       "    <tr>\n",
       "      <th>141</th>\n",
       "      <td>0</td>\n",
       "      <td>0</td>\n",
       "      <td>0</td>\n",
       "      <td>119292</td>\n",
       "      <td>0</td>\n",
       "      <td>0</td>\n",
       "      <td>0</td>\n",
       "      <td>0</td>\n",
       "      <td>0</td>\n",
       "      <td>0</td>\n",
       "      <td>...</td>\n",
       "      <td>0</td>\n",
       "      <td>False</td>\n",
       "      <td>0</td>\n",
       "      <td>0</td>\n",
       "      <td>0</td>\n",
       "      <td>0</td>\n",
       "      <td>0</td>\n",
       "      <td>119292</td>\n",
       "      <td>0</td>\n",
       "      <td>GRAMM WENDY L</td>\n",
       "    </tr>\n",
       "  </tbody>\n",
       "</table>\n",
       "<p>15 rows × 22 columns</p>\n",
       "</div>"
      ],
      "text/plain": [
       "     bonus  deferral_payments  deferred_income  director_fees email_address  \\\n",
       "23       0                  0           -98784          98784             0   \n",
       "28       0                  0           -36666          36666             0   \n",
       "35       0                  0          -103750         103750             0   \n",
       "37       0                  0                0              0             0   \n",
       "46       0                  0                0         109298             0   \n",
       "64       0                  0           -38346          38346             0   \n",
       "90       0                  0                0              0             0   \n",
       "93       0                  0          -101250         101250             0   \n",
       "96       0                  0          -113784         113784             0   \n",
       "99       0              93585                0              0             0   \n",
       "101      0                  0                0              0             0   \n",
       "102      0             774401                0              0             0   \n",
       "112      0                  0           -25000         108579             0   \n",
       "136      0                  0          -121284         125034             0   \n",
       "141      0                  0                0         119292             0   \n",
       "\n",
       "     exercised_stock_options  expenses  from_messages  \\\n",
       "23                         0         0              0   \n",
       "28                         0    228656              0   \n",
       "35                         0       148              0   \n",
       "37                         0         0              0   \n",
       "46                         0    103773              0   \n",
       "64                         0      2151              0   \n",
       "90                         0         0              0   \n",
       "93                         0     27942              0   \n",
       "96                         0      1279              0   \n",
       "99                         0         0              0   \n",
       "101                        0         0              0   \n",
       "102                        0         0              0   \n",
       "112                        0      1413              0   \n",
       "136                        0         0              0   \n",
       "141                        0         0              0   \n",
       "\n",
       "     from_poi_to_this_person  from_this_person_to_poi  \\\n",
       "23                         0                        0   \n",
       "28                         0                        0   \n",
       "35                         0                        0   \n",
       "37                         0                        0   \n",
       "46                         0                        0   \n",
       "64                         0                        0   \n",
       "90                         0                        0   \n",
       "93                         0                        0   \n",
       "96                         0                        0   \n",
       "99                         0                        0   \n",
       "101                        0                        0   \n",
       "102                        0                        0   \n",
       "112                        0                        0   \n",
       "136                        0                        0   \n",
       "141                        0                        0   \n",
       "\n",
       "                 ...                 other    poi  restricted_stock  \\\n",
       "23               ...                     0  False             32460   \n",
       "28               ...                     0  False                 0   \n",
       "35               ...                     0  False                 0   \n",
       "37               ...                     0  False            662086   \n",
       "46               ...                     0  False                 0   \n",
       "64               ...                     0  False                 0   \n",
       "90               ...                     0  False                 0   \n",
       "93               ...                     0  False                 0   \n",
       "96               ...                     0  False                 0   \n",
       "99               ...                680833  False                 0   \n",
       "101              ...                362096  False                 0   \n",
       "102              ...                     0  False            463261   \n",
       "112              ...                     0  False                 0   \n",
       "136              ...                     0  False                 0   \n",
       "141              ...                     0  False                 0   \n",
       "\n",
       "     restricted_stock_deferred  salary  shared_receipt_with_poi  to_messages  \\\n",
       "23                      -32460       0                        0            0   \n",
       "28                           0       0                        0            0   \n",
       "35                           0       0                        0            0   \n",
       "37                     -472568       0                        0            0   \n",
       "46                           0       0                        0            0   \n",
       "64                           0       0                        0            0   \n",
       "90                           0       0                        0            0   \n",
       "93                           0       0                        0            0   \n",
       "96                           0       0                        0            0   \n",
       "99                           0    6615                        0            0   \n",
       "101                          0       0                        0            0   \n",
       "102                     -94556       0                        0            0   \n",
       "112                          0       0                        0            0   \n",
       "136                          0       0                        0            0   \n",
       "141                          0       0                        0            0   \n",
       "\n",
       "     total_payments  total_stock_value                        persons  \n",
       "23                0                  0                    CHAN RONNIE  \n",
       "28           228656                  0                URQUHART JOHN A  \n",
       "35              148                  0                MENDELSOHN JOHN  \n",
       "37                0             189518                CLINE KENNETH W  \n",
       "46           213071                  0                   WAKEHAM JOHN  \n",
       "64             2151                  0                 MEYER JEROME J  \n",
       "90                0                  0              LOCKHART EUGENE E  \n",
       "93            27942                  0        PEREIRA PAULO V. FERRAZ  \n",
       "96             1279                  0             BLAKE JR. NORMAN P  \n",
       "99          1146658                  0                    GRAY RODNEY  \n",
       "101          362096                  0  THE TRAVEL AGENCY IN THE PARK  \n",
       "102          774401             368705                  NOLES JAMES L  \n",
       "112           84992                  0          WINOKUR JR. HERBERT S  \n",
       "136            3750                  0                   SAVAGE FRANK  \n",
       "141          119292                  0                  GRAMM WENDY L  \n",
       "\n",
       "[15 rows x 22 columns]"
      ]
     },
     "execution_count": 108,
     "metadata": {},
     "output_type": "execute_result"
    }
   ],
   "source": [
    "df[(df['email_address'] == 0) & (df['bonus'] == 0) & (df['exercised_stock_options'] == 0)]"
   ]
  },
  {
   "cell_type": "markdown",
   "metadata": {},
   "source": [
    "'LOCKHART EUGENE E' and 'THE TRAVEL AGENCY IN THE PARK' have all the features as 0 and 'THE TRAVEL AGENCY IN THE PARK' is not a person.\n",
    "\n",
    "Dropping these features"
   ]
  },
  {
   "cell_type": "code",
   "execution_count": 109,
   "metadata": {
    "collapsed": true
   },
   "outputs": [],
   "source": [
    "df.drop(df.index[[101]],inplace=True)"
   ]
  },
  {
   "cell_type": "code",
   "execution_count": 110,
   "metadata": {
    "collapsed": true
   },
   "outputs": [],
   "source": [
    "df.drop(df.index[[90]],inplace=True)"
   ]
  },
  {
   "cell_type": "code",
   "execution_count": 111,
   "metadata": {},
   "outputs": [
    {
     "data": {
      "text/html": [
       "<div>\n",
       "<style>\n",
       "    .dataframe thead tr:only-child th {\n",
       "        text-align: right;\n",
       "    }\n",
       "\n",
       "    .dataframe thead th {\n",
       "        text-align: left;\n",
       "    }\n",
       "\n",
       "    .dataframe tbody tr th {\n",
       "        vertical-align: top;\n",
       "    }\n",
       "</style>\n",
       "<table border=\"1\" class=\"dataframe\">\n",
       "  <thead>\n",
       "    <tr style=\"text-align: right;\">\n",
       "      <th></th>\n",
       "      <th>bonus</th>\n",
       "      <th>deferral_payments</th>\n",
       "      <th>deferred_income</th>\n",
       "      <th>director_fees</th>\n",
       "      <th>email_address</th>\n",
       "      <th>exercised_stock_options</th>\n",
       "      <th>expenses</th>\n",
       "      <th>from_messages</th>\n",
       "      <th>from_poi_to_this_person</th>\n",
       "      <th>from_this_person_to_poi</th>\n",
       "      <th>...</th>\n",
       "      <th>other</th>\n",
       "      <th>poi</th>\n",
       "      <th>restricted_stock</th>\n",
       "      <th>restricted_stock_deferred</th>\n",
       "      <th>salary</th>\n",
       "      <th>shared_receipt_with_poi</th>\n",
       "      <th>to_messages</th>\n",
       "      <th>total_payments</th>\n",
       "      <th>total_stock_value</th>\n",
       "      <th>persons</th>\n",
       "    </tr>\n",
       "  </thead>\n",
       "  <tbody>\n",
       "    <tr>\n",
       "      <th>23</th>\n",
       "      <td>0</td>\n",
       "      <td>0</td>\n",
       "      <td>-98784</td>\n",
       "      <td>98784</td>\n",
       "      <td>0</td>\n",
       "      <td>0</td>\n",
       "      <td>0</td>\n",
       "      <td>0</td>\n",
       "      <td>0</td>\n",
       "      <td>0</td>\n",
       "      <td>...</td>\n",
       "      <td>0</td>\n",
       "      <td>False</td>\n",
       "      <td>32460</td>\n",
       "      <td>-32460</td>\n",
       "      <td>0</td>\n",
       "      <td>0</td>\n",
       "      <td>0</td>\n",
       "      <td>0</td>\n",
       "      <td>0</td>\n",
       "      <td>CHAN RONNIE</td>\n",
       "    </tr>\n",
       "    <tr>\n",
       "      <th>28</th>\n",
       "      <td>0</td>\n",
       "      <td>0</td>\n",
       "      <td>-36666</td>\n",
       "      <td>36666</td>\n",
       "      <td>0</td>\n",
       "      <td>0</td>\n",
       "      <td>228656</td>\n",
       "      <td>0</td>\n",
       "      <td>0</td>\n",
       "      <td>0</td>\n",
       "      <td>...</td>\n",
       "      <td>0</td>\n",
       "      <td>False</td>\n",
       "      <td>0</td>\n",
       "      <td>0</td>\n",
       "      <td>0</td>\n",
       "      <td>0</td>\n",
       "      <td>0</td>\n",
       "      <td>228656</td>\n",
       "      <td>0</td>\n",
       "      <td>URQUHART JOHN A</td>\n",
       "    </tr>\n",
       "    <tr>\n",
       "      <th>35</th>\n",
       "      <td>0</td>\n",
       "      <td>0</td>\n",
       "      <td>-103750</td>\n",
       "      <td>103750</td>\n",
       "      <td>0</td>\n",
       "      <td>0</td>\n",
       "      <td>148</td>\n",
       "      <td>0</td>\n",
       "      <td>0</td>\n",
       "      <td>0</td>\n",
       "      <td>...</td>\n",
       "      <td>0</td>\n",
       "      <td>False</td>\n",
       "      <td>0</td>\n",
       "      <td>0</td>\n",
       "      <td>0</td>\n",
       "      <td>0</td>\n",
       "      <td>0</td>\n",
       "      <td>148</td>\n",
       "      <td>0</td>\n",
       "      <td>MENDELSOHN JOHN</td>\n",
       "    </tr>\n",
       "    <tr>\n",
       "      <th>37</th>\n",
       "      <td>0</td>\n",
       "      <td>0</td>\n",
       "      <td>0</td>\n",
       "      <td>0</td>\n",
       "      <td>0</td>\n",
       "      <td>0</td>\n",
       "      <td>0</td>\n",
       "      <td>0</td>\n",
       "      <td>0</td>\n",
       "      <td>0</td>\n",
       "      <td>...</td>\n",
       "      <td>0</td>\n",
       "      <td>False</td>\n",
       "      <td>662086</td>\n",
       "      <td>-472568</td>\n",
       "      <td>0</td>\n",
       "      <td>0</td>\n",
       "      <td>0</td>\n",
       "      <td>0</td>\n",
       "      <td>189518</td>\n",
       "      <td>CLINE KENNETH W</td>\n",
       "    </tr>\n",
       "    <tr>\n",
       "      <th>46</th>\n",
       "      <td>0</td>\n",
       "      <td>0</td>\n",
       "      <td>0</td>\n",
       "      <td>109298</td>\n",
       "      <td>0</td>\n",
       "      <td>0</td>\n",
       "      <td>103773</td>\n",
       "      <td>0</td>\n",
       "      <td>0</td>\n",
       "      <td>0</td>\n",
       "      <td>...</td>\n",
       "      <td>0</td>\n",
       "      <td>False</td>\n",
       "      <td>0</td>\n",
       "      <td>0</td>\n",
       "      <td>0</td>\n",
       "      <td>0</td>\n",
       "      <td>0</td>\n",
       "      <td>213071</td>\n",
       "      <td>0</td>\n",
       "      <td>WAKEHAM JOHN</td>\n",
       "    </tr>\n",
       "    <tr>\n",
       "      <th>64</th>\n",
       "      <td>0</td>\n",
       "      <td>0</td>\n",
       "      <td>-38346</td>\n",
       "      <td>38346</td>\n",
       "      <td>0</td>\n",
       "      <td>0</td>\n",
       "      <td>2151</td>\n",
       "      <td>0</td>\n",
       "      <td>0</td>\n",
       "      <td>0</td>\n",
       "      <td>...</td>\n",
       "      <td>0</td>\n",
       "      <td>False</td>\n",
       "      <td>0</td>\n",
       "      <td>0</td>\n",
       "      <td>0</td>\n",
       "      <td>0</td>\n",
       "      <td>0</td>\n",
       "      <td>2151</td>\n",
       "      <td>0</td>\n",
       "      <td>MEYER JEROME J</td>\n",
       "    </tr>\n",
       "    <tr>\n",
       "      <th>93</th>\n",
       "      <td>0</td>\n",
       "      <td>0</td>\n",
       "      <td>-101250</td>\n",
       "      <td>101250</td>\n",
       "      <td>0</td>\n",
       "      <td>0</td>\n",
       "      <td>27942</td>\n",
       "      <td>0</td>\n",
       "      <td>0</td>\n",
       "      <td>0</td>\n",
       "      <td>...</td>\n",
       "      <td>0</td>\n",
       "      <td>False</td>\n",
       "      <td>0</td>\n",
       "      <td>0</td>\n",
       "      <td>0</td>\n",
       "      <td>0</td>\n",
       "      <td>0</td>\n",
       "      <td>27942</td>\n",
       "      <td>0</td>\n",
       "      <td>PEREIRA PAULO V. FERRAZ</td>\n",
       "    </tr>\n",
       "    <tr>\n",
       "      <th>96</th>\n",
       "      <td>0</td>\n",
       "      <td>0</td>\n",
       "      <td>-113784</td>\n",
       "      <td>113784</td>\n",
       "      <td>0</td>\n",
       "      <td>0</td>\n",
       "      <td>1279</td>\n",
       "      <td>0</td>\n",
       "      <td>0</td>\n",
       "      <td>0</td>\n",
       "      <td>...</td>\n",
       "      <td>0</td>\n",
       "      <td>False</td>\n",
       "      <td>0</td>\n",
       "      <td>0</td>\n",
       "      <td>0</td>\n",
       "      <td>0</td>\n",
       "      <td>0</td>\n",
       "      <td>1279</td>\n",
       "      <td>0</td>\n",
       "      <td>BLAKE JR. NORMAN P</td>\n",
       "    </tr>\n",
       "    <tr>\n",
       "      <th>99</th>\n",
       "      <td>0</td>\n",
       "      <td>93585</td>\n",
       "      <td>0</td>\n",
       "      <td>0</td>\n",
       "      <td>0</td>\n",
       "      <td>0</td>\n",
       "      <td>0</td>\n",
       "      <td>0</td>\n",
       "      <td>0</td>\n",
       "      <td>0</td>\n",
       "      <td>...</td>\n",
       "      <td>680833</td>\n",
       "      <td>False</td>\n",
       "      <td>0</td>\n",
       "      <td>0</td>\n",
       "      <td>6615</td>\n",
       "      <td>0</td>\n",
       "      <td>0</td>\n",
       "      <td>1146658</td>\n",
       "      <td>0</td>\n",
       "      <td>GRAY RODNEY</td>\n",
       "    </tr>\n",
       "    <tr>\n",
       "      <th>102</th>\n",
       "      <td>0</td>\n",
       "      <td>774401</td>\n",
       "      <td>0</td>\n",
       "      <td>0</td>\n",
       "      <td>0</td>\n",
       "      <td>0</td>\n",
       "      <td>0</td>\n",
       "      <td>0</td>\n",
       "      <td>0</td>\n",
       "      <td>0</td>\n",
       "      <td>...</td>\n",
       "      <td>0</td>\n",
       "      <td>False</td>\n",
       "      <td>463261</td>\n",
       "      <td>-94556</td>\n",
       "      <td>0</td>\n",
       "      <td>0</td>\n",
       "      <td>0</td>\n",
       "      <td>774401</td>\n",
       "      <td>368705</td>\n",
       "      <td>NOLES JAMES L</td>\n",
       "    </tr>\n",
       "    <tr>\n",
       "      <th>112</th>\n",
       "      <td>0</td>\n",
       "      <td>0</td>\n",
       "      <td>-25000</td>\n",
       "      <td>108579</td>\n",
       "      <td>0</td>\n",
       "      <td>0</td>\n",
       "      <td>1413</td>\n",
       "      <td>0</td>\n",
       "      <td>0</td>\n",
       "      <td>0</td>\n",
       "      <td>...</td>\n",
       "      <td>0</td>\n",
       "      <td>False</td>\n",
       "      <td>0</td>\n",
       "      <td>0</td>\n",
       "      <td>0</td>\n",
       "      <td>0</td>\n",
       "      <td>0</td>\n",
       "      <td>84992</td>\n",
       "      <td>0</td>\n",
       "      <td>WINOKUR JR. HERBERT S</td>\n",
       "    </tr>\n",
       "    <tr>\n",
       "      <th>136</th>\n",
       "      <td>0</td>\n",
       "      <td>0</td>\n",
       "      <td>-121284</td>\n",
       "      <td>125034</td>\n",
       "      <td>0</td>\n",
       "      <td>0</td>\n",
       "      <td>0</td>\n",
       "      <td>0</td>\n",
       "      <td>0</td>\n",
       "      <td>0</td>\n",
       "      <td>...</td>\n",
       "      <td>0</td>\n",
       "      <td>False</td>\n",
       "      <td>0</td>\n",
       "      <td>0</td>\n",
       "      <td>0</td>\n",
       "      <td>0</td>\n",
       "      <td>0</td>\n",
       "      <td>3750</td>\n",
       "      <td>0</td>\n",
       "      <td>SAVAGE FRANK</td>\n",
       "    </tr>\n",
       "    <tr>\n",
       "      <th>141</th>\n",
       "      <td>0</td>\n",
       "      <td>0</td>\n",
       "      <td>0</td>\n",
       "      <td>119292</td>\n",
       "      <td>0</td>\n",
       "      <td>0</td>\n",
       "      <td>0</td>\n",
       "      <td>0</td>\n",
       "      <td>0</td>\n",
       "      <td>0</td>\n",
       "      <td>...</td>\n",
       "      <td>0</td>\n",
       "      <td>False</td>\n",
       "      <td>0</td>\n",
       "      <td>0</td>\n",
       "      <td>0</td>\n",
       "      <td>0</td>\n",
       "      <td>0</td>\n",
       "      <td>119292</td>\n",
       "      <td>0</td>\n",
       "      <td>GRAMM WENDY L</td>\n",
       "    </tr>\n",
       "  </tbody>\n",
       "</table>\n",
       "<p>13 rows × 22 columns</p>\n",
       "</div>"
      ],
      "text/plain": [
       "     bonus  deferral_payments  deferred_income  director_fees email_address  \\\n",
       "23       0                  0           -98784          98784             0   \n",
       "28       0                  0           -36666          36666             0   \n",
       "35       0                  0          -103750         103750             0   \n",
       "37       0                  0                0              0             0   \n",
       "46       0                  0                0         109298             0   \n",
       "64       0                  0           -38346          38346             0   \n",
       "93       0                  0          -101250         101250             0   \n",
       "96       0                  0          -113784         113784             0   \n",
       "99       0              93585                0              0             0   \n",
       "102      0             774401                0              0             0   \n",
       "112      0                  0           -25000         108579             0   \n",
       "136      0                  0          -121284         125034             0   \n",
       "141      0                  0                0         119292             0   \n",
       "\n",
       "     exercised_stock_options  expenses  from_messages  \\\n",
       "23                         0         0              0   \n",
       "28                         0    228656              0   \n",
       "35                         0       148              0   \n",
       "37                         0         0              0   \n",
       "46                         0    103773              0   \n",
       "64                         0      2151              0   \n",
       "93                         0     27942              0   \n",
       "96                         0      1279              0   \n",
       "99                         0         0              0   \n",
       "102                        0         0              0   \n",
       "112                        0      1413              0   \n",
       "136                        0         0              0   \n",
       "141                        0         0              0   \n",
       "\n",
       "     from_poi_to_this_person  from_this_person_to_poi  \\\n",
       "23                         0                        0   \n",
       "28                         0                        0   \n",
       "35                         0                        0   \n",
       "37                         0                        0   \n",
       "46                         0                        0   \n",
       "64                         0                        0   \n",
       "93                         0                        0   \n",
       "96                         0                        0   \n",
       "99                         0                        0   \n",
       "102                        0                        0   \n",
       "112                        0                        0   \n",
       "136                        0                        0   \n",
       "141                        0                        0   \n",
       "\n",
       "              ...              other    poi  restricted_stock  \\\n",
       "23            ...                  0  False             32460   \n",
       "28            ...                  0  False                 0   \n",
       "35            ...                  0  False                 0   \n",
       "37            ...                  0  False            662086   \n",
       "46            ...                  0  False                 0   \n",
       "64            ...                  0  False                 0   \n",
       "93            ...                  0  False                 0   \n",
       "96            ...                  0  False                 0   \n",
       "99            ...             680833  False                 0   \n",
       "102           ...                  0  False            463261   \n",
       "112           ...                  0  False                 0   \n",
       "136           ...                  0  False                 0   \n",
       "141           ...                  0  False                 0   \n",
       "\n",
       "     restricted_stock_deferred  salary  shared_receipt_with_poi  to_messages  \\\n",
       "23                      -32460       0                        0            0   \n",
       "28                           0       0                        0            0   \n",
       "35                           0       0                        0            0   \n",
       "37                     -472568       0                        0            0   \n",
       "46                           0       0                        0            0   \n",
       "64                           0       0                        0            0   \n",
       "93                           0       0                        0            0   \n",
       "96                           0       0                        0            0   \n",
       "99                           0    6615                        0            0   \n",
       "102                     -94556       0                        0            0   \n",
       "112                          0       0                        0            0   \n",
       "136                          0       0                        0            0   \n",
       "141                          0       0                        0            0   \n",
       "\n",
       "     total_payments  total_stock_value                  persons  \n",
       "23                0                  0              CHAN RONNIE  \n",
       "28           228656                  0          URQUHART JOHN A  \n",
       "35              148                  0          MENDELSOHN JOHN  \n",
       "37                0             189518          CLINE KENNETH W  \n",
       "46           213071                  0             WAKEHAM JOHN  \n",
       "64             2151                  0           MEYER JEROME J  \n",
       "93            27942                  0  PEREIRA PAULO V. FERRAZ  \n",
       "96             1279                  0       BLAKE JR. NORMAN P  \n",
       "99          1146658                  0              GRAY RODNEY  \n",
       "102          774401             368705            NOLES JAMES L  \n",
       "112           84992                  0    WINOKUR JR. HERBERT S  \n",
       "136            3750                  0             SAVAGE FRANK  \n",
       "141          119292                  0            GRAMM WENDY L  \n",
       "\n",
       "[13 rows x 22 columns]"
      ]
     },
     "execution_count": 111,
     "metadata": {},
     "output_type": "execute_result"
    }
   ],
   "source": [
    "df[(df['email_address'] == 0) & (df['bonus'] == 0) & (df['exercised_stock_options'] == 0)]"
   ]
  },
  {
   "cell_type": "markdown",
   "metadata": {},
   "source": [
    "Now that we have removed the outliers let's see how the distribution of different features is"
   ]
  },
  {
   "cell_type": "code",
   "execution_count": 112,
   "metadata": {},
   "outputs": [
    {
     "data": {
      "text/plain": [
       "<matplotlib.axes._subplots.AxesSubplot at 0x1a1c1294d0>"
      ]
     },
     "execution_count": 112,
     "metadata": {},
     "output_type": "execute_result"
    },
    {
     "data": {
      "image/png": "[encoded data removed]",
      "text/plain": [
       "<matplotlib.figure.Figure at 0x1a1b9a6190>"
      ]
     },
     "metadata": {},
     "output_type": "display_data"
    }
   ],
   "source": [
    "sns.countplot(data = df,x = \"poi\")"
   ]
  },
  {
   "cell_type": "code",
   "execution_count": 113,
   "metadata": {
    "collapsed": true
   },
   "outputs": [],
   "source": [
    "poic = df[df['poi'] == True].persons.count()\n",
    "npoic = df[df['poi'] != True].persons.count()"
   ]
  },
  {
   "cell_type": "code",
   "execution_count": 114,
   "metadata": {},
   "outputs": [
    {
     "data": {
      "text/plain": [
       "(18, 125)"
      ]
     },
     "execution_count": 114,
     "metadata": {},
     "output_type": "execute_result"
    }
   ],
   "source": [
    "poic,npoic"
   ]
  },
  {
   "cell_type": "markdown",
   "metadata": {
    "collapsed": true
   },
   "source": [
    "Again, The number of 'poi's is actaually really less in the dataset."
   ]
  },
  {
   "cell_type": "code",
   "execution_count": 115,
   "metadata": {},
   "outputs": [
    {
     "data": {
      "text/plain": [
       "Index([u'bonus', u'deferral_payments', u'deferred_income', u'director_fees',\n",
       "       u'email_address', u'exercised_stock_options', u'expenses',\n",
       "       u'from_messages', u'from_poi_to_this_person',\n",
       "       u'from_this_person_to_poi', u'loan_advances', u'long_term_incentive',\n",
       "       u'other', u'poi', u'restricted_stock', u'restricted_stock_deferred',\n",
       "       u'salary', u'shared_receipt_with_poi', u'to_messages',\n",
       "       u'total_payments', u'total_stock_value', u'persons'],\n",
       "      dtype='object')"
      ]
     },
     "execution_count": 115,
     "metadata": {},
     "output_type": "execute_result"
    }
   ],
   "source": [
    "df.columns"
   ]
  },
  {
   "cell_type": "code",
   "execution_count": 116,
   "metadata": {
    "collapsed": true
   },
   "outputs": [],
   "source": [
    "df_poi = df[df['poi'] == True]\n",
    "df_npoi = df[df['poi'] != True]"
   ]
  },
  {
   "cell_type": "markdown",
   "metadata": {},
   "source": [
    "Let's See how different features are distributed"
   ]
  },
  {
   "cell_type": "code",
   "execution_count": 117,
   "metadata": {},
   "outputs": [
    {
     "data": {
      "text/plain": [
       "<matplotlib.axes._subplots.AxesSubplot at 0x1a1c32cfd0>"
      ]
     },
     "execution_count": 117,
     "metadata": {},
     "output_type": "execute_result"
    },
    {
     "data": {
      "image/png": "[encoded data removed]",
      "text/plain": [
       "<matplotlib.figure.Figure at 0x1a1c23d290>"
      ]
     },
     "metadata": {},
     "output_type": "display_data"
    }
   ],
   "source": [
    "#fig, ax = plt.subplots()\n",
    "plt.subplots(figsize=(20,8))\n",
    "sns.countplot(df['deferral_payments'])"
   ]
  },
  {
   "cell_type": "code",
   "execution_count": 118,
   "metadata": {},
   "outputs": [
    {
     "data": {
      "text/plain": [
       "<matplotlib.legend.Legend at 0x1a1c88cdd0>"
      ]
     },
     "execution_count": 118,
     "metadata": {},
     "output_type": "execute_result"
    },
    {
     "data": {
      "image/png": "[encoded data removed]",
      "text/plain": [
       "<matplotlib.figure.Figure at 0x1a1c5bcb90>"
      ]
     },
     "metadata": {},
     "output_type": "display_data"
    }
   ],
   "source": [
    "sns.distplot(df_poi['deferral_payments'],kde=0, norm_hist=False, label = 'POI')\n",
    "sns.distplot(df_npoi['deferral_payments'],kde=0, norm_hist=False, label = 'Non POI')\n",
    "plt.xlabel('Deferred Payments')\n",
    "plt.ylabel('Distribution')\n",
    "plt.legend()"
   ]
  },
  {
   "cell_type": "code",
   "execution_count": 119,
   "metadata": {},
   "outputs": [
    {
     "data": {
      "text/plain": [
       "<matplotlib.axes._subplots.AxesSubplot at 0x1a1cb6b9d0>"
      ]
     },
     "execution_count": 119,
     "metadata": {},
     "output_type": "execute_result"
    },
    {
     "data": {
      "image/png": "[encoded data removed]",
      "text/plain": [
       "<matplotlib.figure.Figure at 0x1a1c5c9950>"
      ]
     },
     "metadata": {},
     "output_type": "display_data"
    }
   ],
   "source": [
    "plt.subplots(figsize=(20,8))\n",
    "sns.countplot(df['bonus'])"
   ]
  },
  {
   "cell_type": "code",
   "execution_count": 120,
   "metadata": {},
   "outputs": [
    {
     "data": {
      "text/plain": [
       "<matplotlib.legend.Legend at 0x1a1bdce090>"
      ]
     },
     "execution_count": 120,
     "metadata": {},
     "output_type": "execute_result"
    },
    {
     "data": {
      "image/png": "[encoded data removed]",
      "text/plain": [
       "<matplotlib.figure.Figure at 0x1a1cd0d050>"
      ]
     },
     "metadata": {},
     "output_type": "display_data"
    }
   ],
   "source": [
    "\n",
    "sns.distplot(df_poi['bonus'],kde=0, norm_hist=False, label = 'POI')\n",
    "sns.distplot(df_npoi['bonus'],kde=0, norm_hist=False, label = 'Non POI')\n",
    "plt.xlabel('Bonus')\n",
    "plt.ylabel('Distribution')\n",
    "plt.legend()"
   ]
  },
  {
   "cell_type": "code",
   "execution_count": 121,
   "metadata": {},
   "outputs": [
    {
     "data": {
      "text/plain": [
       "<matplotlib.axes._subplots.AxesSubplot at 0x1a1d136f90>"
      ]
     },
     "execution_count": 121,
     "metadata": {},
     "output_type": "execute_result"
    },
    {
     "data": {
      "image/png": "[encoded data removed]",
      "text/plain": [
       "<matplotlib.figure.Figure at 0x1a1cd17250>"
      ]
     },
     "metadata": {},
     "output_type": "display_data"
    }
   ],
   "source": [
    "plt.subplots(figsize=(20,8))\n",
    "sns.countplot(df['salary'])"
   ]
  },
  {
   "cell_type": "code",
   "execution_count": 122,
   "metadata": {},
   "outputs": [
    {
     "data": {
      "text/plain": [
       "<matplotlib.legend.Legend at 0x1a1cd22410>"
      ]
     },
     "execution_count": 122,
     "metadata": {},
     "output_type": "execute_result"
    },
    {
     "data": {
      "image/png": "[encoded data removed]",
      "text/plain": [
       "<matplotlib.figure.Figure at 0x1a1d2f8410>"
      ]
     },
     "metadata": {},
     "output_type": "display_data"
    }
   ],
   "source": [
    "sns.distplot(df_poi['salary'],kde=0, norm_hist=False, label = 'POI')\n",
    "sns.distplot(df_npoi['salary'],kde=0, norm_hist=False, label = 'Non POI')\n",
    "plt.xlabel('Salary')\n",
    "plt.ylabel('Distribution')\n",
    "plt.legend()"
   ]
  },
  {
   "cell_type": "code",
   "execution_count": 123,
   "metadata": {},
   "outputs": [
    {
     "data": {
      "text/plain": [
       "<matplotlib.axes._subplots.AxesSubplot at 0x1a1d87fed0>"
      ]
     },
     "execution_count": 123,
     "metadata": {},
     "output_type": "execute_result"
    },
    {
     "data": {
      "image/png": "[encoded data removed]",
      "text/plain": [
       "<matplotlib.figure.Figure at 0x1a1d190ad0>"
      ]
     },
     "metadata": {},
     "output_type": "display_data"
    }
   ],
   "source": [
    "plt.subplots(figsize=(20,8))\n",
    "sns.countplot(df['deferred_income'])"
   ]
  },
  {
   "cell_type": "code",
   "execution_count": 124,
   "metadata": {},
   "outputs": [
    {
     "data": {
      "text/plain": [
       "<matplotlib.legend.Legend at 0x1a1de8ef10>"
      ]
     },
     "execution_count": 124,
     "metadata": {},
     "output_type": "execute_result"
    },
    {
     "data": {
      "image/png": "[encoded data removed]",
      "text/plain": [
       "<matplotlib.figure.Figure at 0x1a1d9ad2d0>"
      ]
     },
     "metadata": {},
     "output_type": "display_data"
    }
   ],
   "source": [
    "sns.distplot(df_poi['deferred_income'],kde=0, norm_hist=False, label = 'POI')\n",
    "sns.distplot(df_npoi['deferred_income'],kde=0, norm_hist=False, label = 'Non POI')\n",
    "plt.xlabel('Deferred Income')\n",
    "plt.ylabel('Distribution')\n",
    "plt.legend()"
   ]
  },
  {
   "cell_type": "code",
   "execution_count": 125,
   "metadata": {},
   "outputs": [
    {
     "data": {
      "text/plain": [
       "<matplotlib.axes._subplots.AxesSubplot at 0x1a1dbb22d0>"
      ]
     },
     "execution_count": 125,
     "metadata": {},
     "output_type": "execute_result"
    },
    {
     "data": {
      "image/png": "[encoded data removed]",
      "text/plain": [
       "<matplotlib.figure.Figure at 0x1a1daaea50>"
      ]
     },
     "metadata": {},
     "output_type": "display_data"
    }
   ],
   "source": [
    "plt.subplots(figsize=(20,8))\n",
    "sns.countplot(df['exercised_stock_options'])"
   ]
  },
  {
   "cell_type": "code",
   "execution_count": 126,
   "metadata": {},
   "outputs": [
    {
     "data": {
      "text/plain": [
       "<matplotlib.legend.Legend at 0x1a1e80cbd0>"
      ]
     },
     "execution_count": 126,
     "metadata": {},
     "output_type": "execute_result"
    },
    {
     "data": {
      "image/png": "[encoded data removed]",
      "text/plain": [
       "<matplotlib.figure.Figure at 0x1a1e24b950>"
      ]
     },
     "metadata": {},
     "output_type": "display_data"
    }
   ],
   "source": [
    "sns.distplot(df_poi['exercised_stock_options'],kde=0, norm_hist=False, label = 'POI')\n",
    "sns.distplot(df_npoi['exercised_stock_options'],kde=0, norm_hist=False, label = 'Non POI')\n",
    "plt.xlabel('Exercised Stock Options')\n",
    "plt.ylabel('Distribution')\n",
    "plt.legend()"
   ]
  },
  {
   "cell_type": "code",
   "execution_count": 127,
   "metadata": {},
   "outputs": [
    {
     "data": {
      "text/plain": [
       "<matplotlib.axes._subplots.AxesSubplot at 0x1a1e8bf590>"
      ]
     },
     "execution_count": 127,
     "metadata": {},
     "output_type": "execute_result"
    },
    {
     "data": {
      "image/png": "[encoded data removed]",
      "text/plain": [
       "<matplotlib.figure.Figure at 0x1a1e20da50>"
      ]
     },
     "metadata": {},
     "output_type": "display_data"
    }
   ],
   "source": [
    "plt.subplots(figsize=(20,8))\n",
    "sns.countplot(df['expenses'])"
   ]
  },
  {
   "cell_type": "code",
   "execution_count": 128,
   "metadata": {},
   "outputs": [
    {
     "data": {
      "text/plain": [
       "<matplotlib.legend.Legend at 0x1a1d27af10>"
      ]
     },
     "execution_count": 128,
     "metadata": {},
     "output_type": "execute_result"
    },
    {
     "data": {
      "image/png": "[encoded data removed]",
      "text/plain": [
       "<matplotlib.figure.Figure at 0x1a1eae4a50>"
      ]
     },
     "metadata": {},
     "output_type": "display_data"
    }
   ],
   "source": [
    "sns.distplot(df_poi['expenses'],kde=0, norm_hist=False, label = 'POI')\n",
    "sns.distplot(df_npoi['expenses'],kde=0, norm_hist=False, label = 'Non POI')\n",
    "plt.xlabel('Expenses')\n",
    "plt.ylabel('Distribution')\n",
    "plt.legend()"
   ]
  },
  {
   "cell_type": "code",
   "execution_count": 129,
   "metadata": {},
   "outputs": [
    {
     "data": {
      "text/plain": [
       "<matplotlib.axes._subplots.AxesSubplot at 0x1a1f0f8ed0>"
      ]
     },
     "execution_count": 129,
     "metadata": {},
     "output_type": "execute_result"
    },
    {
     "data": {
      "image/png": "[encoded data removed]",
      "text/plain": [
       "<matplotlib.figure.Figure at 0x1a1eaa9f90>"
      ]
     },
     "metadata": {},
     "output_type": "display_data"
    }
   ],
   "source": [
    "plt.subplots(figsize=(20,8))\n",
    "sns.countplot(df['total_payments'])"
   ]
  },
  {
   "cell_type": "code",
   "execution_count": 130,
   "metadata": {},
   "outputs": [
    {
     "data": {
      "text/plain": [
       "<matplotlib.legend.Legend at 0x1a1f879890>"
      ]
     },
     "execution_count": 130,
     "metadata": {},
     "output_type": "execute_result"
    },
    {
     "data": {
      "image/png": "[encoded data removed]",
      "text/plain": [
       "<matplotlib.figure.Figure at 0x1a1f35dd50>"
      ]
     },
     "metadata": {},
     "output_type": "display_data"
    }
   ],
   "source": [
    "sns.distplot(df_poi['total_payments'],kde=0, norm_hist=False, label = 'POI')\n",
    "sns.distplot(df_npoi['total_payments'],kde=0, norm_hist=False, label = 'Non POI')\n",
    "plt.xlabel('Total Payments')\n",
    "plt.ylabel('Distribution')\n",
    "plt.legend()"
   ]
  },
  {
   "cell_type": "code",
   "execution_count": 131,
   "metadata": {},
   "outputs": [
    {
     "data": {
      "text/plain": [
       "<matplotlib.axes._subplots.AxesSubplot at 0x1a1face6d0>"
      ]
     },
     "execution_count": 131,
     "metadata": {},
     "output_type": "execute_result"
    },
    {
     "data": {
      "image/png": "[encoded data removed]",
      "text/plain": [
       "<matplotlib.figure.Figure at 0x1a1f8090d0>"
      ]
     },
     "metadata": {},
     "output_type": "display_data"
    }
   ],
   "source": [
    "plt.subplots(figsize=(20,8))\n",
    "sns.countplot(df['total_stock_value'])"
   ]
  },
  {
   "cell_type": "code",
   "execution_count": 132,
   "metadata": {},
   "outputs": [
    {
     "data": {
      "text/plain": [
       "<matplotlib.legend.Legend at 0x1a1f2c5190>"
      ]
     },
     "execution_count": 132,
     "metadata": {},
     "output_type": "execute_result"
    },
    {
     "data": {
      "image/png": "[encoded data removed]",
      "text/plain": [
       "<matplotlib.figure.Figure at 0x1a1ec31d50>"
      ]
     },
     "metadata": {},
     "output_type": "display_data"
    }
   ],
   "source": [
    "sns.distplot(df_poi['total_stock_value'],kde=0, norm_hist=False, label = 'POI')\n",
    "sns.distplot(df_npoi['total_stock_value'],kde=0, norm_hist=False, label = 'Non POI')\n",
    "plt.xlabel('Tota Stock Value')\n",
    "plt.ylabel('Distribution')\n",
    "plt.legend()"
   ]
  },
  {
   "cell_type": "markdown",
   "metadata": {},
   "source": [
    "#### Summary of above analysis."
   ]
  },
  {
   "cell_type": "markdown",
   "metadata": {},
   "source": [
    "It looks like because the of the distribution in the data.\n",
    "\n",
    "Most of the data points are either NaN/0, and tough to draw any conclusions form that.\n",
    "\n",
    "Also, for most features explored above if compare the distribution of POI vs Non-POI it is mostly similar.\n",
    "\n",
    "Some differences can be seen in Exercised stock options and total stock value.\n",
    "\n",
    "Maybe there is something interesting their which we can explore further."
   ]
  },
  {
   "cell_type": "markdown",
   "metadata": {},
   "source": [
    "Based on limited inferences from univariate analysis let's try and compare multiple features on how they viaried with each other, also let's try and engineer some feature and see if they had any different distributions and if we can see if they impacted the POI/Not-POI"
   ]
  },
  {
   "cell_type": "markdown",
   "metadata": {},
   "source": [
    "Let's see how both salary and bonus varies with each other"
   ]
  },
  {
   "cell_type": "code",
   "execution_count": 133,
   "metadata": {},
   "outputs": [
    {
     "data": {
      "text/plain": [
       "<matplotlib.text.Text at 0x1a2055ca10>"
      ]
     },
     "execution_count": 133,
     "metadata": {},
     "output_type": "execute_result"
    },
    {
     "data": {
      "image/png": "[encoded data removed]",
      "text/plain": [
       "<matplotlib.figure.Figure at 0x1a1f6d9d10>"
      ]
     },
     "metadata": {},
     "output_type": "display_data"
    }
   ],
   "source": [
    "plt.plot(df['bonus'],df['salary'],\"o\")\n",
    "plt.xlabel('bonus')\n",
    "plt.ylabel('salary')"
   ]
  },
  {
   "cell_type": "code",
   "execution_count": 134,
   "metadata": {},
   "outputs": [
    {
     "data": {
      "text/plain": [
       "<matplotlib.text.Text at 0x1a206f3f10>"
      ]
     },
     "execution_count": 134,
     "metadata": {},
     "output_type": "execute_result"
    },
    {
     "data": {
      "image/png": "[encoded data removed]",
      "text/plain": [
       "<matplotlib.figure.Figure at 0x1a206d3e10>"
      ]
     },
     "metadata": {},
     "output_type": "display_data"
    }
   ],
   "source": [
    "p1 = sns.kdeplot(df['salary'])\n",
    "p2 = sns.kdeplot(df['bonus'])\n",
    "plt.xlabel('value')\n",
    "plt.ylabel('count')"
   ]
  },
  {
   "cell_type": "markdown",
   "metadata": {},
   "source": [
    "Let's See if total stock value and exercised stock options had any relation with poi or not."
   ]
  },
  {
   "cell_type": "code",
   "execution_count": 135,
   "metadata": {},
   "outputs": [
    {
     "data": {
      "text/plain": [
       "<matplotlib.text.Text at 0x1a2083d250>"
      ]
     },
     "execution_count": 135,
     "metadata": {},
     "output_type": "execute_result"
    },
    {
     "data": {
      "image/png": "[encoded data removed]",
      "text/plain": [
       "<matplotlib.figure.Figure at 0x1a20861b10>"
      ]
     },
     "metadata": {},
     "output_type": "display_data"
    }
   ],
   "source": [
    "#plt.plot(df['total_stock_value'],df['exercised_stock_options'],\"o\")\n",
    "sns.lmplot(x=\"total_stock_value\", y=\"exercised_stock_options\",data = df,fit_reg=False, hue = 'poi')\n",
    "plt.xlabel('total_stock_value')\n",
    "plt.ylabel('exercised_stock_options')"
   ]
  },
  {
   "cell_type": "markdown",
   "metadata": {},
   "source": [
    "exercised_stock_options and total_stock_value looks like have a corelation, let's create a new feature to see how it is dostributed"
   ]
  },
  {
   "cell_type": "code",
   "execution_count": 136,
   "metadata": {
    "collapsed": true
   },
   "outputs": [],
   "source": [
    "df['exercised_stock_options'] = df['exercised_stock_options'].astype('int') \n",
    "df['total_stock_value'] = df['total_stock_value'].astype('int') \n",
    "df['eso/tsv'] = df['exercised_stock_options'] / df['total_stock_value']"
   ]
  },
  {
   "cell_type": "code",
   "execution_count": 137,
   "metadata": {
    "collapsed": true
   },
   "outputs": [],
   "source": [
    "df_poi = df[df['poi'] == True]\n",
    "df_npoi = df[df['poi'] != True]"
   ]
  },
  {
   "cell_type": "code",
   "execution_count": 138,
   "metadata": {},
   "outputs": [
    {
     "data": {
      "text/plain": [
       "<matplotlib.legend.Legend at 0x1a20c1f110>"
      ]
     },
     "execution_count": 138,
     "metadata": {},
     "output_type": "execute_result"
    },
    {
     "data": {
      "image/png": "[encoded data removed]",
      "text/plain": [
       "<matplotlib.figure.Figure at 0x1a209bb310>"
      ]
     },
     "metadata": {},
     "output_type": "display_data"
    }
   ],
   "source": [
    "#sns.countplot(df['eso/tsv'])\n",
    "\n",
    "p1 = sns.kdeplot(df_poi['eso/tsv'],label = 'POI')\n",
    "p2 = sns.kdeplot(df_npoi['eso/tsv'],label = 'Not POI')\n",
    "\n",
    "plt.xlabel('ExercisedStockOptions/TotalStockValue')\n",
    "plt.ylabel('Density')\n",
    "plt.legend()"
   ]
  },
  {
   "cell_type": "code",
   "execution_count": 139,
   "metadata": {},
   "outputs": [
    {
     "data": {
      "text/plain": [
       "<matplotlib.text.Text at 0x1a20c41710>"
      ]
     },
     "execution_count": 139,
     "metadata": {},
     "output_type": "execute_result"
    },
    {
     "data": {
      "image/png": "[encoded data removed]",
      "text/plain": [
       "<matplotlib.figure.Figure at 0x1a20c516d0>"
      ]
     },
     "metadata": {},
     "output_type": "display_data"
    }
   ],
   "source": [
    "sns.lmplot(x=\"total_stock_value\", y=\"total_payments\",data = df,fit_reg=False, hue = 'poi')\n",
    "plt.xlabel('total_stock_value')\n",
    "plt.ylabel('payments')"
   ]
  },
  {
   "cell_type": "code",
   "execution_count": 140,
   "metadata": {},
   "outputs": [
    {
     "data": {
      "text/plain": [
       "<matplotlib.text.Text at 0x1a20d593d0>"
      ]
     },
     "execution_count": 140,
     "metadata": {},
     "output_type": "execute_result"
    },
    {
     "data": {
      "image/png": "[encoded data removed]",
      "text/plain": [
       "<matplotlib.figure.Figure at 0x1a20c84450>"
      ]
     },
     "metadata": {},
     "output_type": "display_data"
    }
   ],
   "source": [
    "sns.lmplot(x=\"deferral_payments\", y=\"deferred_income\",data = df,fit_reg=False, hue = 'poi')\n",
    "plt.xlabel('deferral_payments')\n",
    "plt.ylabel('deferred_income')"
   ]
  },
  {
   "cell_type": "code",
   "execution_count": 141,
   "metadata": {},
   "outputs": [
    {
     "data": {
      "text/plain": [
       "<matplotlib.text.Text at 0x1a20f5c610>"
      ]
     },
     "execution_count": 141,
     "metadata": {},
     "output_type": "execute_result"
    },
    {
     "data": {
      "image/png": "[encoded data removed]",
      "text/plain": [
       "<matplotlib.figure.Figure at 0x1a20f3d190>"
      ]
     },
     "metadata": {},
     "output_type": "display_data"
    }
   ],
   "source": [
    "sns.lmplot(x=\"to_messages\", y=\"from_poi_to_this_person\",data = df,fit_reg=False, hue = 'poi')\n",
    "plt.xlabel('to_messages')\n",
    "plt.ylabel('from_poi_to_this_person')"
   ]
  },
  {
   "cell_type": "code",
   "execution_count": 142,
   "metadata": {},
   "outputs": [
    {
     "data": {
      "text/plain": [
       "<matplotlib.text.Text at 0x1a21173c50>"
      ]
     },
     "execution_count": 142,
     "metadata": {},
     "output_type": "execute_result"
    },
    {
     "data": {
      "image/png": "[encoded data removed]",
      "text/plain": [
       "<matplotlib.figure.Figure at 0x1a1ec52410>"
      ]
     },
     "metadata": {},
     "output_type": "display_data"
    }
   ],
   "source": [
    "sns.lmplot(x=\"from_messages\", y=\"from_this_person_to_poi\",data = df,fit_reg=False, hue = 'poi')\n",
    "plt.xlabel('from_messages')\n",
    "plt.ylabel('from_this_person_to_poi')"
   ]
  },
  {
   "cell_type": "code",
   "execution_count": 143,
   "metadata": {},
   "outputs": [
    {
     "data": {
      "text/plain": [
       "<matplotlib.text.Text at 0x1a21305e50>"
      ]
     },
     "execution_count": 143,
     "metadata": {},
     "output_type": "execute_result"
    },
    {
     "data": {
      "image/png": "[encoded data removed]",
      "text/plain": [
       "<matplotlib.figure.Figure at 0x1a2118d190>"
      ]
     },
     "metadata": {},
     "output_type": "display_data"
    }
   ],
   "source": [
    "sns.lmplot(x=\"total_stock_value\", y=\"restricted_stock\",data = df,fit_reg=False, hue = 'poi')\n",
    "plt.xlabel('total_stock_value')\n",
    "plt.ylabel('restricted_stock')"
   ]
  },
  {
   "cell_type": "code",
   "execution_count": 144,
   "metadata": {},
   "outputs": [
    {
     "data": {
      "text/plain": [
       "<matplotlib.axes._subplots.AxesSubplot at 0x1a2133fb50>"
      ]
     },
     "execution_count": 144,
     "metadata": {},
     "output_type": "execute_result"
    },
    {
     "data": {
      "image/png": "[encoded data removed]",
      "text/plain": [
       "<matplotlib.figure.Figure at 0x1a20d59850>"
      ]
     },
     "metadata": {},
     "output_type": "display_data"
    }
   ],
   "source": [
    "corr = df.corr()\n",
    "sns.heatmap(corr, \n",
    "            xticklabels=corr.columns.values,\n",
    "            yticklabels=corr.columns.values)"
   ]
  },
  {
   "cell_type": "markdown",
   "metadata": {},
   "source": [
    "### Feature Selection"
   ]
  },
  {
   "cell_type": "markdown",
   "metadata": {},
   "source": []
  },
  {
   "cell_type": "markdown",
   "metadata": {
    "collapsed": true
   },
   "source": [
    "For actuall processing instead of using '0' for NaN using numpy.nan"
   ]
  },
  {
   "cell_type": "code",
   "execution_count": 145,
   "metadata": {
    "collapsed": true
   },
   "outputs": [],
   "source": [
    "df_processing = df_backup.copy()"
   ]
  },
  {
   "cell_type": "code",
   "execution_count": 146,
   "metadata": {
    "collapsed": true
   },
   "outputs": [],
   "source": [
    "df_processing.replace(to_replace='NaN',value=np.nan, inplace=True )"
   ]
  },
  {
   "cell_type": "code",
   "execution_count": 147,
   "metadata": {},
   "outputs": [
    {
     "data": {
      "text/html": [
       "<div>\n",
       "<style>\n",
       "    .dataframe thead tr:only-child th {\n",
       "        text-align: right;\n",
       "    }\n",
       "\n",
       "    .dataframe thead th {\n",
       "        text-align: left;\n",
       "    }\n",
       "\n",
       "    .dataframe tbody tr th {\n",
       "        vertical-align: top;\n",
       "    }\n",
       "</style>\n",
       "<table border=\"1\" class=\"dataframe\">\n",
       "  <thead>\n",
       "    <tr style=\"text-align: right;\">\n",
       "      <th></th>\n",
       "      <th>bonus</th>\n",
       "      <th>deferral_payments</th>\n",
       "      <th>deferred_income</th>\n",
       "      <th>director_fees</th>\n",
       "      <th>email_address</th>\n",
       "      <th>exercised_stock_options</th>\n",
       "      <th>expenses</th>\n",
       "      <th>from_messages</th>\n",
       "      <th>from_poi_to_this_person</th>\n",
       "      <th>from_this_person_to_poi</th>\n",
       "      <th>...</th>\n",
       "      <th>other</th>\n",
       "      <th>poi</th>\n",
       "      <th>restricted_stock</th>\n",
       "      <th>restricted_stock_deferred</th>\n",
       "      <th>salary</th>\n",
       "      <th>shared_receipt_with_poi</th>\n",
       "      <th>to_messages</th>\n",
       "      <th>total_payments</th>\n",
       "      <th>total_stock_value</th>\n",
       "      <th>persons</th>\n",
       "    </tr>\n",
       "  </thead>\n",
       "  <tbody>\n",
       "    <tr>\n",
       "      <th>0</th>\n",
       "      <td>600000.0</td>\n",
       "      <td>NaN</td>\n",
       "      <td>NaN</td>\n",
       "      <td>NaN</td>\n",
       "      <td>mark.metts@enron.com</td>\n",
       "      <td>NaN</td>\n",
       "      <td>94299.0</td>\n",
       "      <td>29.0</td>\n",
       "      <td>38.0</td>\n",
       "      <td>1.0</td>\n",
       "      <td>...</td>\n",
       "      <td>1740.0</td>\n",
       "      <td>False</td>\n",
       "      <td>585062.0</td>\n",
       "      <td>NaN</td>\n",
       "      <td>365788.0</td>\n",
       "      <td>702.0</td>\n",
       "      <td>807.0</td>\n",
       "      <td>1061827.0</td>\n",
       "      <td>585062.0</td>\n",
       "      <td>METTS MARK</td>\n",
       "    </tr>\n",
       "    <tr>\n",
       "      <th>1</th>\n",
       "      <td>1200000.0</td>\n",
       "      <td>1295738.0</td>\n",
       "      <td>-1386055.0</td>\n",
       "      <td>NaN</td>\n",
       "      <td>NaN</td>\n",
       "      <td>6680544.0</td>\n",
       "      <td>11200.0</td>\n",
       "      <td>NaN</td>\n",
       "      <td>NaN</td>\n",
       "      <td>NaN</td>\n",
       "      <td>...</td>\n",
       "      <td>2660303.0</td>\n",
       "      <td>False</td>\n",
       "      <td>3942714.0</td>\n",
       "      <td>NaN</td>\n",
       "      <td>267102.0</td>\n",
       "      <td>NaN</td>\n",
       "      <td>NaN</td>\n",
       "      <td>5634343.0</td>\n",
       "      <td>10623258.0</td>\n",
       "      <td>BAXTER JOHN C</td>\n",
       "    </tr>\n",
       "    <tr>\n",
       "      <th>2</th>\n",
       "      <td>350000.0</td>\n",
       "      <td>NaN</td>\n",
       "      <td>-400729.0</td>\n",
       "      <td>NaN</td>\n",
       "      <td>steven.elliott@enron.com</td>\n",
       "      <td>4890344.0</td>\n",
       "      <td>78552.0</td>\n",
       "      <td>NaN</td>\n",
       "      <td>NaN</td>\n",
       "      <td>NaN</td>\n",
       "      <td>...</td>\n",
       "      <td>12961.0</td>\n",
       "      <td>False</td>\n",
       "      <td>1788391.0</td>\n",
       "      <td>NaN</td>\n",
       "      <td>170941.0</td>\n",
       "      <td>NaN</td>\n",
       "      <td>NaN</td>\n",
       "      <td>211725.0</td>\n",
       "      <td>6678735.0</td>\n",
       "      <td>ELLIOTT STEVEN</td>\n",
       "    </tr>\n",
       "    <tr>\n",
       "      <th>3</th>\n",
       "      <td>NaN</td>\n",
       "      <td>NaN</td>\n",
       "      <td>NaN</td>\n",
       "      <td>NaN</td>\n",
       "      <td>bill.cordes@enron.com</td>\n",
       "      <td>651850.0</td>\n",
       "      <td>NaN</td>\n",
       "      <td>12.0</td>\n",
       "      <td>10.0</td>\n",
       "      <td>0.0</td>\n",
       "      <td>...</td>\n",
       "      <td>NaN</td>\n",
       "      <td>False</td>\n",
       "      <td>386335.0</td>\n",
       "      <td>NaN</td>\n",
       "      <td>NaN</td>\n",
       "      <td>58.0</td>\n",
       "      <td>764.0</td>\n",
       "      <td>NaN</td>\n",
       "      <td>1038185.0</td>\n",
       "      <td>CORDES WILLIAM R</td>\n",
       "    </tr>\n",
       "    <tr>\n",
       "      <th>4</th>\n",
       "      <td>1500000.0</td>\n",
       "      <td>NaN</td>\n",
       "      <td>-3117011.0</td>\n",
       "      <td>NaN</td>\n",
       "      <td>kevin.hannon@enron.com</td>\n",
       "      <td>5538001.0</td>\n",
       "      <td>34039.0</td>\n",
       "      <td>32.0</td>\n",
       "      <td>32.0</td>\n",
       "      <td>21.0</td>\n",
       "      <td>...</td>\n",
       "      <td>11350.0</td>\n",
       "      <td>True</td>\n",
       "      <td>853064.0</td>\n",
       "      <td>NaN</td>\n",
       "      <td>243293.0</td>\n",
       "      <td>1035.0</td>\n",
       "      <td>1045.0</td>\n",
       "      <td>288682.0</td>\n",
       "      <td>6391065.0</td>\n",
       "      <td>HANNON KEVIN P</td>\n",
       "    </tr>\n",
       "  </tbody>\n",
       "</table>\n",
       "<p>5 rows × 22 columns</p>\n",
       "</div>"
      ],
      "text/plain": [
       "       bonus  deferral_payments  deferred_income  director_fees  \\\n",
       "0   600000.0                NaN              NaN            NaN   \n",
       "1  1200000.0          1295738.0       -1386055.0            NaN   \n",
       "2   350000.0                NaN        -400729.0            NaN   \n",
       "3        NaN                NaN              NaN            NaN   \n",
       "4  1500000.0                NaN       -3117011.0            NaN   \n",
       "\n",
       "              email_address  exercised_stock_options  expenses  from_messages  \\\n",
       "0      mark.metts@enron.com                      NaN   94299.0           29.0   \n",
       "1                       NaN                6680544.0   11200.0            NaN   \n",
       "2  steven.elliott@enron.com                4890344.0   78552.0            NaN   \n",
       "3     bill.cordes@enron.com                 651850.0       NaN           12.0   \n",
       "4    kevin.hannon@enron.com                5538001.0   34039.0           32.0   \n",
       "\n",
       "   from_poi_to_this_person  from_this_person_to_poi        ...         \\\n",
       "0                     38.0                      1.0        ...          \n",
       "1                      NaN                      NaN        ...          \n",
       "2                      NaN                      NaN        ...          \n",
       "3                     10.0                      0.0        ...          \n",
       "4                     32.0                     21.0        ...          \n",
       "\n",
       "       other    poi  restricted_stock  restricted_stock_deferred    salary  \\\n",
       "0     1740.0  False          585062.0                        NaN  365788.0   \n",
       "1  2660303.0  False         3942714.0                        NaN  267102.0   \n",
       "2    12961.0  False         1788391.0                        NaN  170941.0   \n",
       "3        NaN  False          386335.0                        NaN       NaN   \n",
       "4    11350.0   True          853064.0                        NaN  243293.0   \n",
       "\n",
       "   shared_receipt_with_poi  to_messages  total_payments  total_stock_value  \\\n",
       "0                    702.0        807.0       1061827.0           585062.0   \n",
       "1                      NaN          NaN       5634343.0         10623258.0   \n",
       "2                      NaN          NaN        211725.0          6678735.0   \n",
       "3                     58.0        764.0             NaN          1038185.0   \n",
       "4                   1035.0       1045.0        288682.0          6391065.0   \n",
       "\n",
       "            persons  \n",
       "0        METTS MARK  \n",
       "1     BAXTER JOHN C  \n",
       "2    ELLIOTT STEVEN  \n",
       "3  CORDES WILLIAM R  \n",
       "4    HANNON KEVIN P  \n",
       "\n",
       "[5 rows x 22 columns]"
      ]
     },
     "execution_count": 147,
     "metadata": {},
     "output_type": "execute_result"
    }
   ],
   "source": [
    "df_processing.head()"
   ]
  },
  {
   "cell_type": "markdown",
   "metadata": {},
   "source": [
    "First let's try and select the features manually based on exploration instead of using any of the alogorithms like K-Best.\n",
    "\n"
   ]
  },
  {
   "cell_type": "markdown",
   "metadata": {},
   "source": [
    "Dropping 'email_address' and 'persons' as well"
   ]
  },
  {
   "cell_type": "code",
   "execution_count": 148,
   "metadata": {},
   "outputs": [],
   "source": [
    "df_processing.drop('email_address', axis=1, inplace=True)\n",
    "df_processing.drop('persons', axis=1, inplace=True)\n",
    "\n"
   ]
  },
  {
   "cell_type": "code",
   "execution_count": 149,
   "metadata": {},
   "outputs": [
    {
     "data": {
      "text/plain": [
       "['bonus',\n",
       " 'deferral_payments',\n",
       " 'deferred_income',\n",
       " 'director_fees',\n",
       " 'exercised_stock_options',\n",
       " 'expenses',\n",
       " 'from_messages',\n",
       " 'from_poi_to_this_person',\n",
       " 'from_this_person_to_poi',\n",
       " 'loan_advances',\n",
       " 'long_term_incentive',\n",
       " 'other',\n",
       " 'poi',\n",
       " 'restricted_stock',\n",
       " 'restricted_stock_deferred',\n",
       " 'salary',\n",
       " 'shared_receipt_with_poi',\n",
       " 'to_messages',\n",
       " 'total_payments',\n",
       " 'total_stock_value']"
      ]
     },
     "execution_count": 149,
     "metadata": {},
     "output_type": "execute_result"
    }
   ],
   "source": [
    "df_processing.axes[1].tolist()"
   ]
  },
  {
   "cell_type": "markdown",
   "metadata": {},
   "source": [
    "Benchmarks without any feature selection"
   ]
  },
  {
   "cell_type": "code",
   "execution_count": 150,
   "metadata": {
    "collapsed": true
   },
   "outputs": [],
   "source": [
    "test_labels_init = df_processing['poi'].copy(deep=True).astype(int).as_matrix()\n",
    "test_features_init = (df_processing.drop('poi', axis=1)).fillna(0).copy(deep=True).as_matrix()\n",
    "test_shuffle_init = StratifiedShuffleSplit(test_labels_init, 4, test_size=0.3, random_state=0)\n",
    "clf_rfc_init = RandomForestClassifier(n_estimators=10,)"
   ]
  },
  {
   "cell_type": "code",
   "execution_count": 151,
   "metadata": {
    "collapsed": true
   },
   "outputs": [],
   "source": [
    "list_cols_init = list(df_processing.columns.values)\n",
    "list_cols_init.remove('poi')\n",
    "list_cols_init.insert(0, 'poi')#poi has to be first feature\n",
    "data = df_processing[list_cols_init].fillna(0).to_dict(orient='records')\n",
    "enron_data_sub_init = {}\n",
    "counter = 0\n",
    "for item in data:\n",
    "    enron_data_sub_init[counter] = item\n",
    "    counter += 1"
   ]
  },
  {
   "cell_type": "code",
   "execution_count": 152,
   "metadata": {},
   "outputs": [
    {
     "name": "stdout",
     "output_type": "stream",
     "text": [
      "RandomForestClassifier(bootstrap=True, class_weight=None, criterion='gini',\n",
      "            max_depth=None, max_features='auto', max_leaf_nodes=None,\n",
      "            min_impurity_decrease=0.0, min_impurity_split=None,\n",
      "            min_samples_leaf=1, min_samples_split=2,\n",
      "            min_weight_fraction_leaf=0.0, n_estimators=10, n_jobs=1,\n",
      "            oob_score=False, random_state=None, verbose=0,\n",
      "            warm_start=False)\n",
      "\tAccuracy: 0.85127\tPrecision: 0.31754\tRecall: 0.10050\tF1: 0.15268\tF2: 0.11641\n",
      "\tTotal predictions: 15000\tTrue positives:  201\tFalse positives:  432\tFalse negatives: 1799\tTrue negatives: 12568\n",
      "\n"
     ]
    }
   ],
   "source": [
    "test_classifier(clf_rfc_init, enron_data_sub_init, list_cols_init)"
   ]
  },
  {
   "cell_type": "markdown",
   "metadata": {},
   "source": [
    "Based on the EDA. Let's start removing features that at least eleminate those features that have too many NaNs."
   ]
  },
  {
   "cell_type": "code",
   "execution_count": 153,
   "metadata": {},
   "outputs": [
    {
     "data": {
      "text/plain": [
       "bonus                         64\n",
       "deferral_payments            107\n",
       "deferred_income               97\n",
       "director_fees                129\n",
       "exercised_stock_options       44\n",
       "expenses                      51\n",
       "from_messages                 60\n",
       "from_poi_to_this_person       60\n",
       "from_this_person_to_poi       60\n",
       "loan_advances                142\n",
       "long_term_incentive           80\n",
       "other                         53\n",
       "poi                            0\n",
       "restricted_stock              36\n",
       "restricted_stock_deferred    128\n",
       "salary                        51\n",
       "shared_receipt_with_poi       60\n",
       "to_messages                   60\n",
       "total_payments                21\n",
       "total_stock_value             20\n",
       "dtype: int64"
      ]
     },
     "execution_count": 153,
     "metadata": {},
     "output_type": "execute_result"
    }
   ],
   "source": [
    "df_processing.isnull().sum()"
   ]
  },
  {
   "cell_type": "code",
   "execution_count": 154,
   "metadata": {
    "collapsed": true
   },
   "outputs": [],
   "source": [
    "nans = []\n",
    "features = df_processing.axes[1].tolist()\n",
    "\n",
    "for i,k in enumerate(df_processing.isnull().sum()):\n",
    "    if k > 75:\n",
    "        nans.append(features[i])"
   ]
  },
  {
   "cell_type": "code",
   "execution_count": 155,
   "metadata": {},
   "outputs": [
    {
     "data": {
      "text/plain": [
       "['deferral_payments',\n",
       " 'deferred_income',\n",
       " 'director_fees',\n",
       " 'loan_advances',\n",
       " 'long_term_incentive',\n",
       " 'restricted_stock_deferred']"
      ]
     },
     "execution_count": 155,
     "metadata": {},
     "output_type": "execute_result"
    }
   ],
   "source": [
    "nans"
   ]
  },
  {
   "cell_type": "code",
   "execution_count": 156,
   "metadata": {
    "collapsed": true
   },
   "outputs": [],
   "source": [
    "for c, s in df_processing.iteritems():\n",
    "    if(c in nans):\n",
    "        df_processing.drop(c, axis=1, inplace=True)"
   ]
  },
  {
   "cell_type": "code",
   "execution_count": 66,
   "metadata": {},
   "outputs": [
    {
     "data": {
      "text/plain": [
       "['bonus',\n",
       " 'exercised_stock_options',\n",
       " 'expenses',\n",
       " 'from_messages',\n",
       " 'from_poi_to_this_person',\n",
       " 'from_this_person_to_poi',\n",
       " 'other',\n",
       " 'poi',\n",
       " 'restricted_stock',\n",
       " 'salary',\n",
       " 'shared_receipt_with_poi',\n",
       " 'to_messages',\n",
       " 'total_payments',\n",
       " 'total_stock_value']"
      ]
     },
     "execution_count": 66,
     "metadata": {},
     "output_type": "execute_result"
    }
   ],
   "source": [
    "\n",
    "features = df_processing.axes[1].tolist()\n",
    "features"
   ]
  },
  {
   "cell_type": "markdown",
   "metadata": {},
   "source": [
    "Let's do some benchmarks before feature creation"
   ]
  },
  {
   "cell_type": "code",
   "execution_count": 157,
   "metadata": {},
   "outputs": [
    {
     "data": {
      "text/plain": [
       "['bonus',\n",
       " 'exercised_stock_options',\n",
       " 'expenses',\n",
       " 'from_messages',\n",
       " 'from_poi_to_this_person',\n",
       " 'from_this_person_to_poi',\n",
       " 'other',\n",
       " 'poi',\n",
       " 'restricted_stock',\n",
       " 'salary',\n",
       " 'shared_receipt_with_poi',\n",
       " 'to_messages',\n",
       " 'total_payments',\n",
       " 'total_stock_value']"
      ]
     },
     "execution_count": 157,
     "metadata": {},
     "output_type": "execute_result"
    }
   ],
   "source": [
    "features_before = df_processing.axes[1].tolist()\n",
    "features_before"
   ]
  },
  {
   "cell_type": "code",
   "execution_count": 158,
   "metadata": {},
   "outputs": [],
   "source": [
    "test_labels_before = df_processing['poi'].copy(deep=True).astype(int).as_matrix()\n",
    "test_features_before = (df_processing.drop('poi', axis=1)).fillna(0).copy(deep=True).as_matrix()\n",
    "test_shuffle_before = StratifiedShuffleSplit(test_labels_before, 4, test_size=0.3, random_state=0)\n",
    "clf_rfc_before = RandomForestClassifier(n_estimators=10,)"
   ]
  },
  {
   "cell_type": "code",
   "execution_count": 159,
   "metadata": {},
   "outputs": [],
   "source": [
    "list_cols_before = list(df_processing.columns.values)\n",
    "list_cols_before.remove('poi')\n",
    "list_cols_before.insert(0, 'poi')#poi has to be first feature\n",
    "data = df_processing[list_cols_before].fillna(0).to_dict(orient='records')\n",
    "enron_data_sub_before = {}\n",
    "counter = 0\n",
    "for item in data:\n",
    "    enron_data_sub_before[counter] = item\n",
    "    counter += 1"
   ]
  },
  {
   "cell_type": "code",
   "execution_count": 160,
   "metadata": {},
   "outputs": [
    {
     "name": "stdout",
     "output_type": "stream",
     "text": [
      "RandomForestClassifier(bootstrap=True, class_weight=None, criterion='gini',\n",
      "            max_depth=None, max_features='auto', max_leaf_nodes=None,\n",
      "            min_impurity_decrease=0.0, min_impurity_split=None,\n",
      "            min_samples_leaf=1, min_samples_split=2,\n",
      "            min_weight_fraction_leaf=0.0, n_estimators=10, n_jobs=1,\n",
      "            oob_score=False, random_state=None, verbose=0,\n",
      "            warm_start=False)\n",
      "\tAccuracy: 0.84553\tPrecision: 0.26379\tRecall: 0.08850\tF1: 0.13253\tF2: 0.10206\n",
      "\tTotal predictions: 15000\tTrue positives:  177\tFalse positives:  494\tFalse negatives: 1823\tTrue negatives: 12506\n",
      "\n"
     ]
    }
   ],
   "source": [
    "test_classifier(clf_rfc_before, enron_data_sub_before, list_cols_before)"
   ]
  },
  {
   "cell_type": "markdown",
   "metadata": {},
   "source": [
    "### Feature Creation"
   ]
  },
  {
   "cell_type": "markdown",
   "metadata": {},
   "source": [
    "we are gonna create new features using ->\n",
    "\n",
    "exercised_stock_options, total_stock_value, from_messages, from_poi_to_this_person,from_this_person_to_poi,to_messages\n"
   ]
  },
  {
   "cell_type": "code",
   "execution_count": 161,
   "metadata": {
    "collapsed": true
   },
   "outputs": [],
   "source": [
    "df_processing['eso/tsv'] = df_processing['exercised_stock_options'] / df_processing['total_stock_value']\n",
    "df_processing.drop(['exercised_stock_options','total_stock_value'], axis=1, inplace=True)"
   ]
  },
  {
   "cell_type": "markdown",
   "metadata": {},
   "source": [
    "Benchmarks only using 'eso/tsv' feature"
   ]
  },
  {
   "cell_type": "code",
   "execution_count": 162,
   "metadata": {
    "collapsed": true
   },
   "outputs": [],
   "source": [
    "test_labels_eso = df_processing['poi'].copy(deep=True).astype(int).as_matrix()\n",
    "test_features_eso = (df_processing.drop('poi', axis=1)).fillna(0).copy(deep=True).as_matrix()\n",
    "test_shuffle_eso = StratifiedShuffleSplit(test_labels_eso, 4, test_size=0.3, random_state=0)\n",
    "clf_rfc_eso = RandomForestClassifier(n_estimators=10,)"
   ]
  },
  {
   "cell_type": "code",
   "execution_count": 163,
   "metadata": {},
   "outputs": [],
   "source": [
    "list_cols_eso = list(df_processing.columns.values)\n",
    "list_cols_eso.remove('poi')\n",
    "list_cols_eso.insert(0, 'poi')#poi has to be first feature\n",
    "data = df_processing[list_cols_eso].fillna(0).to_dict(orient='records')\n",
    "enron_data_sub_eso = {}\n",
    "counter = 0\n",
    "for item in data:\n",
    "    enron_data_sub_eso[counter] = item\n",
    "    counter += 1"
   ]
  },
  {
   "cell_type": "code",
   "execution_count": 164,
   "metadata": {},
   "outputs": [
    {
     "name": "stdout",
     "output_type": "stream",
     "text": [
      "RandomForestClassifier(bootstrap=True, class_weight=None, criterion='gini',\n",
      "            max_depth=None, max_features='auto', max_leaf_nodes=None,\n",
      "            min_impurity_decrease=0.0, min_impurity_split=None,\n",
      "            min_samples_leaf=1, min_samples_split=2,\n",
      "            min_weight_fraction_leaf=0.0, n_estimators=10, n_jobs=1,\n",
      "            oob_score=False, random_state=None, verbose=0,\n",
      "            warm_start=False)\n",
      "\tAccuracy: 0.84500\tPrecision: 0.21934\tRecall: 0.06350\tF1: 0.09849\tF2: 0.07402\n",
      "\tTotal predictions: 15000\tTrue positives:  127\tFalse positives:  452\tFalse negatives: 1873\tTrue negatives: 12548\n",
      "\n"
     ]
    }
   ],
   "source": [
    "test_classifier(clf_rfc_eso, enron_data_sub_eso, list_cols_eso)"
   ]
  },
  {
   "cell_type": "code",
   "execution_count": 165,
   "metadata": {
    "collapsed": true
   },
   "outputs": [],
   "source": [
    "df_test_proc = df_processing.copy()"
   ]
  },
  {
   "cell_type": "code",
   "execution_count": 166,
   "metadata": {
    "collapsed": true
   },
   "outputs": [],
   "source": [
    "df_test_proc.drop('eso/tsv', axis=1, inplace=True)"
   ]
  },
  {
   "cell_type": "code",
   "execution_count": 167,
   "metadata": {
    "collapsed": true
   },
   "outputs": [],
   "source": [
    "df_test_proc['from_poi/to_msg'] = df_test_proc['from_poi_to_this_person']/df_test_proc['to_messages']\n",
    "df_test_proc['to_poi/from_msg'] = df_test_proc['from_this_person_to_poi']/df_test_proc['from_messages']\n",
    "df_test_proc.drop(['from_messages', 'from_poi_to_this_person','from_this_person_to_poi','to_messages'], axis=1, inplace=True)"
   ]
  },
  {
   "cell_type": "code",
   "execution_count": 168,
   "metadata": {
    "collapsed": true
   },
   "outputs": [],
   "source": [
    "test_labels_em = df_test_proc['poi'].copy(deep=True).astype(int).as_matrix()\n",
    "test_features_em = (df_test_proc.drop('poi', axis=1)).fillna(0).copy(deep=True).as_matrix()\n",
    "test_shuffle_em = StratifiedShuffleSplit(test_labels_em, 4, test_size=0.3, random_state=0)\n",
    "clf_rfc_em = RandomForestClassifier(n_estimators=10,)"
   ]
  },
  {
   "cell_type": "code",
   "execution_count": 169,
   "metadata": {
    "collapsed": true
   },
   "outputs": [],
   "source": [
    "list_cols_em = list(df_test_proc.columns.values)\n",
    "list_cols_em.remove('poi')\n",
    "list_cols_em.insert(0, 'poi')#poi has to be first feature\n",
    "data = df_test_proc[list_cols_em].fillna(0).to_dict(orient='records')\n",
    "enron_data_sub_em = {}\n",
    "counter = 0\n",
    "for item in data:\n",
    "    enron_data_sub_em[counter] = item\n",
    "    counter += 1"
   ]
  },
  {
   "cell_type": "code",
   "execution_count": 170,
   "metadata": {},
   "outputs": [
    {
     "name": "stdout",
     "output_type": "stream",
     "text": [
      "RandomForestClassifier(bootstrap=True, class_weight=None, criterion='gini',\n",
      "            max_depth=None, max_features='auto', max_leaf_nodes=None,\n",
      "            min_impurity_decrease=0.0, min_impurity_split=None,\n",
      "            min_samples_leaf=1, min_samples_split=2,\n",
      "            min_weight_fraction_leaf=0.0, n_estimators=10, n_jobs=1,\n",
      "            oob_score=False, random_state=None, verbose=0,\n",
      "            warm_start=False)\n",
      "\tAccuracy: 0.85513\tPrecision: 0.38036\tRecall: 0.13750\tF1: 0.20198\tF2: 0.15763\n",
      "\tTotal predictions: 15000\tTrue positives:  275\tFalse positives:  448\tFalse negatives: 1725\tTrue negatives: 12552\n",
      "\n"
     ]
    }
   ],
   "source": [
    "test_classifier(clf_rfc_em, enron_data_sub_em, list_cols_em)"
   ]
  },
  {
   "cell_type": "code",
   "execution_count": 171,
   "metadata": {},
   "outputs": [],
   "source": [
    "df_processing['from_poi/to_msg'] = df_processing['from_poi_to_this_person']/df_processing['to_messages']"
   ]
  },
  {
   "cell_type": "code",
   "execution_count": 172,
   "metadata": {
    "collapsed": true
   },
   "outputs": [],
   "source": [
    "df_processing['to_poi/from_msg'] = df_processing['from_this_person_to_poi']/df_processing['from_messages']"
   ]
  },
  {
   "cell_type": "code",
   "execution_count": 173,
   "metadata": {},
   "outputs": [
    {
     "data": {
      "text/plain": [
       "['bonus',\n",
       " 'expenses',\n",
       " 'from_messages',\n",
       " 'from_poi_to_this_person',\n",
       " 'from_this_person_to_poi',\n",
       " 'other',\n",
       " 'poi',\n",
       " 'restricted_stock',\n",
       " 'salary',\n",
       " 'shared_receipt_with_poi',\n",
       " 'to_messages',\n",
       " 'total_payments',\n",
       " 'eso/tsv',\n",
       " 'from_poi/to_msg',\n",
       " 'to_poi/from_msg']"
      ]
     },
     "execution_count": 173,
     "metadata": {},
     "output_type": "execute_result"
    }
   ],
   "source": [
    "features = df_processing.axes[1].tolist()\n",
    "features"
   ]
  },
  {
   "cell_type": "markdown",
   "metadata": {},
   "source": [
    "Dropping the features -> exercised_stock_options, total_stock_value, from_messages, from_poi_to_this_person,from_this_person_to_poi,to_messages\n",
    "\n",
    "As they were to used to create new features"
   ]
  },
  {
   "cell_type": "code",
   "execution_count": 174,
   "metadata": {
    "collapsed": true
   },
   "outputs": [],
   "source": [
    "to_drop = ['from_messages', 'from_poi_to_this_person','from_this_person_to_poi','to_messages']"
   ]
  },
  {
   "cell_type": "code",
   "execution_count": 175,
   "metadata": {
    "collapsed": true
   },
   "outputs": [],
   "source": [
    "df_processing.drop(to_drop, axis=1, inplace=True)"
   ]
  },
  {
   "cell_type": "code",
   "execution_count": 176,
   "metadata": {},
   "outputs": [
    {
     "data": {
      "text/plain": [
       "['bonus',\n",
       " 'expenses',\n",
       " 'other',\n",
       " 'poi',\n",
       " 'restricted_stock',\n",
       " 'salary',\n",
       " 'shared_receipt_with_poi',\n",
       " 'total_payments',\n",
       " 'eso/tsv',\n",
       " 'from_poi/to_msg',\n",
       " 'to_poi/from_msg']"
      ]
     },
     "execution_count": 176,
     "metadata": {},
     "output_type": "execute_result"
    }
   ],
   "source": [
    "features = df_processing.axes[1].tolist()\n",
    "features"
   ]
  },
  {
   "cell_type": "code",
   "execution_count": 182,
   "metadata": {},
   "outputs": [
    {
     "data": {
      "text/html": [
       "<div>\n",
       "<style>\n",
       "    .dataframe thead tr:only-child th {\n",
       "        text-align: right;\n",
       "    }\n",
       "\n",
       "    .dataframe thead th {\n",
       "        text-align: left;\n",
       "    }\n",
       "\n",
       "    .dataframe tbody tr th {\n",
       "        vertical-align: top;\n",
       "    }\n",
       "</style>\n",
       "<table border=\"1\" class=\"dataframe\">\n",
       "  <thead>\n",
       "    <tr style=\"text-align: right;\">\n",
       "      <th></th>\n",
       "      <th>bonus</th>\n",
       "      <th>expenses</th>\n",
       "      <th>other</th>\n",
       "      <th>poi</th>\n",
       "      <th>restricted_stock</th>\n",
       "      <th>salary</th>\n",
       "      <th>shared_receipt_with_poi</th>\n",
       "      <th>total_payments</th>\n",
       "      <th>eso/tsv</th>\n",
       "      <th>from_poi/to_msg</th>\n",
       "      <th>to_poi/from_msg</th>\n",
       "    </tr>\n",
       "  </thead>\n",
       "  <tbody>\n",
       "    <tr>\n",
       "      <th>0</th>\n",
       "      <td>600000.0</td>\n",
       "      <td>94299.0</td>\n",
       "      <td>1740.0</td>\n",
       "      <td>False</td>\n",
       "      <td>585062.0</td>\n",
       "      <td>365788.0</td>\n",
       "      <td>702.0</td>\n",
       "      <td>1061827.0</td>\n",
       "      <td>NaN</td>\n",
       "      <td>0.047088</td>\n",
       "      <td>0.034483</td>\n",
       "    </tr>\n",
       "    <tr>\n",
       "      <th>1</th>\n",
       "      <td>1200000.0</td>\n",
       "      <td>11200.0</td>\n",
       "      <td>2660303.0</td>\n",
       "      <td>False</td>\n",
       "      <td>3942714.0</td>\n",
       "      <td>267102.0</td>\n",
       "      <td>NaN</td>\n",
       "      <td>5634343.0</td>\n",
       "      <td>0.628860</td>\n",
       "      <td>NaN</td>\n",
       "      <td>NaN</td>\n",
       "    </tr>\n",
       "    <tr>\n",
       "      <th>2</th>\n",
       "      <td>350000.0</td>\n",
       "      <td>78552.0</td>\n",
       "      <td>12961.0</td>\n",
       "      <td>False</td>\n",
       "      <td>1788391.0</td>\n",
       "      <td>170941.0</td>\n",
       "      <td>NaN</td>\n",
       "      <td>211725.0</td>\n",
       "      <td>0.732226</td>\n",
       "      <td>NaN</td>\n",
       "      <td>NaN</td>\n",
       "    </tr>\n",
       "    <tr>\n",
       "      <th>3</th>\n",
       "      <td>NaN</td>\n",
       "      <td>NaN</td>\n",
       "      <td>NaN</td>\n",
       "      <td>False</td>\n",
       "      <td>386335.0</td>\n",
       "      <td>NaN</td>\n",
       "      <td>58.0</td>\n",
       "      <td>NaN</td>\n",
       "      <td>0.627875</td>\n",
       "      <td>0.013089</td>\n",
       "      <td>0.000000</td>\n",
       "    </tr>\n",
       "    <tr>\n",
       "      <th>4</th>\n",
       "      <td>1500000.0</td>\n",
       "      <td>34039.0</td>\n",
       "      <td>11350.0</td>\n",
       "      <td>True</td>\n",
       "      <td>853064.0</td>\n",
       "      <td>243293.0</td>\n",
       "      <td>1035.0</td>\n",
       "      <td>288682.0</td>\n",
       "      <td>0.866522</td>\n",
       "      <td>0.030622</td>\n",
       "      <td>0.656250</td>\n",
       "    </tr>\n",
       "  </tbody>\n",
       "</table>\n",
       "</div>"
      ],
      "text/plain": [
       "       bonus  expenses      other    poi  restricted_stock    salary  \\\n",
       "0   600000.0   94299.0     1740.0  False          585062.0  365788.0   \n",
       "1  1200000.0   11200.0  2660303.0  False         3942714.0  267102.0   \n",
       "2   350000.0   78552.0    12961.0  False         1788391.0  170941.0   \n",
       "3        NaN       NaN        NaN  False          386335.0       NaN   \n",
       "4  1500000.0   34039.0    11350.0   True          853064.0  243293.0   \n",
       "\n",
       "   shared_receipt_with_poi  total_payments   eso/tsv  from_poi/to_msg  \\\n",
       "0                    702.0       1061827.0       NaN         0.047088   \n",
       "1                      NaN       5634343.0  0.628860              NaN   \n",
       "2                      NaN        211725.0  0.732226              NaN   \n",
       "3                     58.0             NaN  0.627875         0.013089   \n",
       "4                   1035.0        288682.0  0.866522         0.030622   \n",
       "\n",
       "   to_poi/from_msg  \n",
       "0         0.034483  \n",
       "1              NaN  \n",
       "2              NaN  \n",
       "3         0.000000  \n",
       "4         0.656250  "
      ]
     },
     "execution_count": 182,
     "metadata": {},
     "output_type": "execute_result"
    }
   ],
   "source": [
    "df_processing.head()"
   ]
  },
  {
   "cell_type": "code",
   "execution_count": 178,
   "metadata": {},
   "outputs": [],
   "source": [
    "test_labels = df_processing['poi'].copy(deep=True).astype(int).as_matrix()\n",
    "test_features = (df_processing.drop('poi', axis=1)).fillna(0).copy(deep=True).as_matrix()\n",
    "test_shuffle = StratifiedShuffleSplit(test_labels, 4, test_size=0.3, random_state=0)"
   ]
  },
  {
   "cell_type": "code",
   "execution_count": 179,
   "metadata": {
    "collapsed": true
   },
   "outputs": [],
   "source": [
    "clf_rfc = RandomForestClassifier(n_estimators=10,)"
   ]
  },
  {
   "cell_type": "code",
   "execution_count": 185,
   "metadata": {
    "collapsed": true
   },
   "outputs": [],
   "source": [
    "list_cols = list(df_processing.columns.values)\n",
    "list_cols.remove('poi')\n",
    "list_cols.insert(0, 'poi')#poi has to be first feature\n",
    "data = df_processing[list_cols].fillna(0).to_dict(orient='records')\n",
    "enron_data_sub = {}\n",
    "counter = 0\n",
    "for item in data:\n",
    "    enron_data_sub[counter] = item\n",
    "    counter += 1"
   ]
  },
  {
   "cell_type": "code",
   "execution_count": 186,
   "metadata": {},
   "outputs": [
    {
     "data": {
      "text/plain": [
       "['poi',\n",
       " 'bonus',\n",
       " 'expenses',\n",
       " 'other',\n",
       " 'restricted_stock',\n",
       " 'salary',\n",
       " 'shared_receipt_with_poi',\n",
       " 'total_payments',\n",
       " 'eso/tsv',\n",
       " 'from_poi/to_msg',\n",
       " 'to_poi/from_msg']"
      ]
     },
     "execution_count": 186,
     "metadata": {},
     "output_type": "execute_result"
    }
   ],
   "source": [
    "list_cols"
   ]
  },
  {
   "cell_type": "code",
   "execution_count": 187,
   "metadata": {},
   "outputs": [
    {
     "data": {
      "text/plain": [
       "{0: {'bonus': 600000.0,\n",
       "  'eso/tsv': 0.0,\n",
       "  'expenses': 94299.0,\n",
       "  'from_poi/to_msg': 0.04708798017348203,\n",
       "  'other': 1740.0,\n",
       "  'poi': False,\n",
       "  'restricted_stock': 585062.0,\n",
       "  'salary': 365788.0,\n",
       "  'shared_receipt_with_poi': 702.0,\n",
       "  'to_poi/from_msg': 0.034482758620689655,\n",
       "  'total_payments': 1061827.0},\n",
       " 1: {'bonus': 1200000.0,\n",
       "  'eso/tsv': 0.6288601858299968,\n",
       "  'expenses': 11200.0,\n",
       "  'from_poi/to_msg': 0.0,\n",
       "  'other': 2660303.0,\n",
       "  'poi': False,\n",
       "  'restricted_stock': 3942714.0,\n",
       "  'salary': 267102.0,\n",
       "  'shared_receipt_with_poi': 0.0,\n",
       "  'to_poi/from_msg': 0.0,\n",
       "  'total_payments': 5634343.0},\n",
       " 2: {'bonus': 350000.0,\n",
       "  'eso/tsv': 0.7322260877246963,\n",
       "  'expenses': 78552.0,\n",
       "  'from_poi/to_msg': 0.0,\n",
       "  'other': 12961.0,\n",
       "  'poi': False,\n",
       "  'restricted_stock': 1788391.0,\n",
       "  'salary': 170941.0,\n",
       "  'shared_receipt_with_poi': 0.0,\n",
       "  'to_poi/from_msg': 0.0,\n",
       "  'total_payments': 211725.0},\n",
       " 3: {'bonus': 0.0,\n",
       "  'eso/tsv': 0.6278746080900803,\n",
       "  'expenses': 0.0,\n",
       "  'from_poi/to_msg': 0.013089005235602094,\n",
       "  'other': 0.0,\n",
       "  'poi': False,\n",
       "  'restricted_stock': 386335.0,\n",
       "  'salary': 0.0,\n",
       "  'shared_receipt_with_poi': 58.0,\n",
       "  'to_poi/from_msg': 0.0,\n",
       "  'total_payments': 0.0},\n",
       " 4: {'bonus': 1500000.0,\n",
       "  'eso/tsv': 0.8665224027607292,\n",
       "  'expenses': 34039.0,\n",
       "  'from_poi/to_msg': 0.03062200956937799,\n",
       "  'other': 11350.0,\n",
       "  'poi': True,\n",
       "  'restricted_stock': 853064.0,\n",
       "  'salary': 243293.0,\n",
       "  'shared_receipt_with_poi': 1035.0,\n",
       "  'to_poi/from_msg': 0.65625,\n",
       "  'total_payments': 288682.0},\n",
       " 5: {'bonus': 325000.0,\n",
       "  'eso/tsv': 0.0,\n",
       "  'expenses': 35018.0,\n",
       "  'from_poi/to_msg': 0.0,\n",
       "  'other': 1411.0,\n",
       "  'poi': False,\n",
       "  'restricted_stock': 208510.0,\n",
       "  'salary': 267093.0,\n",
       "  'shared_receipt_with_poi': 0.0,\n",
       "  'to_poi/from_msg': 0.0,\n",
       "  'total_payments': 628522.0},\n",
       " 6: {'bonus': 0.0,\n",
       "  'eso/tsv': 0.5162704668925684,\n",
       "  'expenses': 0.0,\n",
       "  'from_poi/to_msg': 0.0,\n",
       "  'other': 0.0,\n",
       "  'poi': False,\n",
       "  'restricted_stock': 462384.0,\n",
       "  'salary': 0.0,\n",
       "  'shared_receipt_with_poi': 22.0,\n",
       "  'to_poi/from_msg': 0.0,\n",
       "  'total_payments': 1848227.0},\n",
       " 7: {'bonus': 2600000.0,\n",
       "  'eso/tsv': 0.6639508556067727,\n",
       "  'expenses': 137108.0,\n",
       "  'from_poi/to_msg': 0.024628450106157114,\n",
       "  'other': 297353.0,\n",
       "  'poi': False,\n",
       "  'restricted_stock': 558801.0,\n",
       "  'salary': 370448.0,\n",
       "  'shared_receipt_with_poi': 2228.0,\n",
       "  'to_poi/from_msg': 0.5416666666666666,\n",
       "  'total_payments': 4099771.0},\n",
       " 8: {'bonus': 0.0,\n",
       "  'eso/tsv': 0.7180407538025821,\n",
       "  'expenses': 0.0,\n",
       "  'from_poi/to_msg': 0.01872340425531915,\n",
       "  'other': 0.0,\n",
       "  'poi': False,\n",
       "  'restricted_stock': 2046079.0,\n",
       "  'salary': 0.0,\n",
       "  'shared_receipt_with_poi': 1074.0,\n",
       "  'to_poi/from_msg': 0.013979496738117428,\n",
       "  'total_payments': 3131860.0},\n",
       " 9: {'bonus': 400000.0,\n",
       "  'eso/tsv': 1.0,\n",
       "  'expenses': 43057.0,\n",
       "  'from_poi/to_msg': 0.049273021001615507,\n",
       "  'other': 778.0,\n",
       "  'poi': False,\n",
       "  'restricted_stock': 409554.0,\n",
       "  'salary': 197091.0,\n",
       "  'shared_receipt_with_poi': 742.0,\n",
       "  'to_poi/from_msg': 0.21621621621621623,\n",
       "  'total_payments': 1737629.0},\n",
       " 10: {'bonus': 0.0,\n",
       "  'eso/tsv': 1.0,\n",
       "  'expenses': 4994.0,\n",
       "  'from_poi/to_msg': 0.078125,\n",
       "  'other': 0.0,\n",
       "  'poi': False,\n",
       "  'restricted_stock': 0.0,\n",
       "  'salary': 130724.0,\n",
       "  'shared_receipt_with_poi': 119.0,\n",
       "  'to_poi/from_msg': 1.0,\n",
       "  'total_payments': 3100224.0},\n",
       " 11: {'bonus': 788750.0,\n",
       "  'eso/tsv': 0.0,\n",
       "  'expenses': 53122.0,\n",
       "  'from_poi/to_msg': 0.10810810810810811,\n",
       "  'other': 0.0,\n",
       "  'poi': False,\n",
       "  'restricted_stock': 0.0,\n",
       "  'salary': 288589.0,\n",
       "  'shared_receipt_with_poi': 41.0,\n",
       "  'to_poi/from_msg': 0.0,\n",
       "  'total_payments': 1130461.0},\n",
       " 12: {'bonus': 850000.0,\n",
       "  'eso/tsv': 0.8019173178925221,\n",
       "  'expenses': 84208.0,\n",
       "  'from_poi/to_msg': 0.010101010101010102,\n",
       "  'other': 272.0,\n",
       "  'poi': False,\n",
       "  'restricted_stock': 189041.0,\n",
       "  'salary': 248546.0,\n",
       "  'shared_receipt_with_poi': 2326.0,\n",
       "  'to_poi/from_msg': 0.14285714285714285,\n",
       "  'total_payments': 2014835.0},\n",
       " 13: {'bonus': 700000.0,\n",
       "  'eso/tsv': 0.0,\n",
       "  'expenses': 0.0,\n",
       "  'from_poi/to_msg': 0.013978088401964487,\n",
       "  'other': 111122.0,\n",
       "  'poi': False,\n",
       "  'restricted_stock': 698920.0,\n",
       "  'salary': 257486.0,\n",
       "  'shared_receipt_with_poi': 2565.0,\n",
       "  'to_poi/from_msg': 0.34210526315789475,\n",
       "  'total_payments': 1545059.0},\n",
       " 14: {'bonus': 0.0,\n",
       "  'eso/tsv': 1.0,\n",
       "  'expenses': 0.0,\n",
       "  'from_poi/to_msg': 0.0,\n",
       "  'other': 0.0,\n",
       "  'poi': False,\n",
       "  'restricted_stock': 0.0,\n",
       "  'salary': 0.0,\n",
       "  'shared_receipt_with_poi': 23.0,\n",
       "  'to_poi/from_msg': 0.0,\n",
       "  'total_payments': 966522.0},\n",
       " 15: {'bonus': 0.0,\n",
       "  'eso/tsv': 1.0,\n",
       "  'expenses': 0.0,\n",
       "  'from_poi/to_msg': 0.0,\n",
       "  'other': 0.0,\n",
       "  'poi': False,\n",
       "  'restricted_stock': 153686.0,\n",
       "  'salary': 0.0,\n",
       "  'shared_receipt_with_poi': 0.0,\n",
       "  'to_poi/from_msg': 0.0,\n",
       "  'total_payments': 0.0},\n",
       " 16: {'bonus': 1200000.0,\n",
       "  'eso/tsv': 0.0,\n",
       "  'expenses': 16514.0,\n",
       "  'from_poi/to_msg': 0.13651877133105803,\n",
       "  'other': 101740.0,\n",
       "  'poi': True,\n",
       "  'restricted_stock': 698242.0,\n",
       "  'salary': 288542.0,\n",
       "  'shared_receipt_with_poi': 1132.0,\n",
       "  'to_poi/from_msg': 0.275,\n",
       "  'total_payments': 1490344.0},\n",
       " 17: {'bonus': 1100000.0,\n",
       "  'eso/tsv': 0.7455422176549636,\n",
       "  'expenses': 0.0,\n",
       "  'from_poi/to_msg': 0.08823529411764706,\n",
       "  'other': 947.0,\n",
       "  'poi': False,\n",
       "  'restricted_stock': 360528.0,\n",
       "  'salary': 251654.0,\n",
       "  'shared_receipt_with_poi': 114.0,\n",
       "  'to_poi/from_msg': 0.0,\n",
       "  'total_payments': 3202070.0},\n",
       " 18: {'bonus': 250000.0,\n",
       "  'eso/tsv': 0.25500079230021977,\n",
       "  'expenses': 10181.0,\n",
       "  'from_poi/to_msg': 0.09689922480620156,\n",
       "  'other': 2435.0,\n",
       "  'poi': False,\n",
       "  'restricted_stock': 540672.0,\n",
       "  'salary': 288558.0,\n",
       "  'shared_receipt_with_poi': 117.0,\n",
       "  'to_poi/from_msg': 0.3392857142857143,\n",
       "  'total_payments': 551174.0},\n",
       " 19: {'bonus': 0.0,\n",
       "  'eso/tsv': 0.0,\n",
       "  'expenses': 51870.0,\n",
       "  'from_poi/to_msg': 0.0,\n",
       "  'other': 401130.0,\n",
       "  'poi': False,\n",
       "  'restricted_stock': 384930.0,\n",
       "  'salary': 63744.0,\n",
       "  'shared_receipt_with_poi': 0.0,\n",
       "  'to_poi/from_msg': 0.0,\n",
       "  'total_payments': 762135.0},\n",
       " 20: {'bonus': 0.0,\n",
       "  'eso/tsv': 1.0,\n",
       "  'expenses': 33785.0,\n",
       "  'from_poi/to_msg': 0.0,\n",
       "  'other': 0.0,\n",
       "  'poi': False,\n",
       "  'restricted_stock': 0.0,\n",
       "  'salary': 0.0,\n",
       "  'shared_receipt_with_poi': 0.0,\n",
       "  'to_poi/from_msg': 0.0,\n",
       "  'total_payments': 87410.0},\n",
       " 21: {'bonus': 850000.0,\n",
       "  'eso/tsv': 0.7368276335790643,\n",
       "  'expenses': 50936.0,\n",
       "  'from_poi/to_msg': 0.02533532041728763,\n",
       "  'other': 2.0,\n",
       "  'poi': False,\n",
       "  'restricted_stock': 1552453.0,\n",
       "  'salary': 357091.0,\n",
       "  'shared_receipt_with_poi': 215.0,\n",
       "  'to_poi/from_msg': 0.0,\n",
       "  'total_payments': 1798780.0},\n",
       " 22: {'bonus': 3100000.0,\n",
       "  'eso/tsv': 0.14811849918577044,\n",
       "  'expenses': 5774.0,\n",
       "  'from_poi/to_msg': 0.030222757375075255,\n",
       "  'other': 93925.0,\n",
       "  'poi': False,\n",
       "  'restricted_stock': 466101.0,\n",
       "  'salary': 271442.0,\n",
       "  'shared_receipt_with_poi': 3669.0,\n",
       "  'to_poi/from_msg': 0.11226851851851852,\n",
       "  'total_payments': 3471141.0},\n",
       " 23: {'bonus': 0.0,\n",
       "  'eso/tsv': 0.0,\n",
       "  'expenses': 0.0,\n",
       "  'from_poi/to_msg': 0.0,\n",
       "  'other': 0.0,\n",
       "  'poi': False,\n",
       "  'restricted_stock': 32460.0,\n",
       "  'salary': 0.0,\n",
       "  'shared_receipt_with_poi': 0.0,\n",
       "  'to_poi/from_msg': 0.0,\n",
       "  'total_payments': 0.0},\n",
       " 24: {'bonus': 0.0,\n",
       "  'eso/tsv': -0.07450162157258522,\n",
       "  'expenses': 0.0,\n",
       "  'from_poi/to_msg': 0.0,\n",
       "  'other': 0.0,\n",
       "  'poi': False,\n",
       "  'restricted_stock': 0.0,\n",
       "  'salary': 0.0,\n",
       "  'shared_receipt_with_poi': 0.0,\n",
       "  'to_poi/from_msg': 0.0,\n",
       "  'total_payments': 102500.0},\n",
       " 25: {'bonus': 2000000.0,\n",
       "  'eso/tsv': 0.6958849633331483,\n",
       "  'expenses': 178979.0,\n",
       "  'from_poi/to_msg': 0.029183483390251473,\n",
       "  'other': 1191.0,\n",
       "  'poi': False,\n",
       "  'restricted_stock': 630137.0,\n",
       "  'salary': 304110.0,\n",
       "  'shared_receipt_with_poi': 1730.0,\n",
       "  'to_poi/from_msg': 0.030958597538232,\n",
       "  'total_payments': 3038702.0},\n",
       " 26: {'bonus': 0.0,\n",
       "  'eso/tsv': 0.0,\n",
       "  'expenses': 0.0,\n",
       "  'from_poi/to_msg': 0.0,\n",
       "  'other': 189583.0,\n",
       "  'poi': False,\n",
       "  'restricted_stock': 0.0,\n",
       "  'salary': 0.0,\n",
       "  'shared_receipt_with_poi': 0.0,\n",
       "  'to_poi/from_msg': 0.0,\n",
       "  'total_payments': 189583.0},\n",
       " 27: {'bonus': 250000.0,\n",
       "  'eso/tsv': 0.0,\n",
       "  'expenses': 59175.0,\n",
       "  'from_poi/to_msg': 0.010443864229765013,\n",
       "  'other': 427316.0,\n",
       "  'poi': False,\n",
       "  'restricted_stock': 659249.0,\n",
       "  'salary': 187922.0,\n",
       "  'shared_receipt_with_poi': 233.0,\n",
       "  'to_poi/from_msg': 0.0,\n",
       "  'total_payments': 618850.0},\n",
       " 28: {'bonus': 0.0,\n",
       "  'eso/tsv': 0.0,\n",
       "  'expenses': 228656.0,\n",
       "  'from_poi/to_msg': 0.0,\n",
       "  'other': 0.0,\n",
       "  'poi': False,\n",
       "  'restricted_stock': 0.0,\n",
       "  'salary': 0.0,\n",
       "  'shared_receipt_with_poi': 0.0,\n",
       "  'to_poi/from_msg': 0.0,\n",
       "  'total_payments': 228656.0},\n",
       " 29: {'bonus': 1000000.0,\n",
       "  'eso/tsv': 0.7949459165122768,\n",
       "  'expenses': 38559.0,\n",
       "  'from_poi/to_msg': 0.01431238332296204,\n",
       "  'other': 425688.0,\n",
       "  'poi': False,\n",
       "  'restricted_stock': 378082.0,\n",
       "  'salary': 213625.0,\n",
       "  'shared_receipt_with_poi': 1336.0,\n",
       "  'to_poi/from_msg': 0.2,\n",
       "  'total_payments': 2047593.0},\n",
       " 30: {'bonus': 700000.0,\n",
       "  'eso/tsv': 0.8521804566918219,\n",
       "  'expenses': 33271.0,\n",
       "  'from_poi/to_msg': 0.02635542168674699,\n",
       "  'other': 1950.0,\n",
       "  'poi': True,\n",
       "  'restricted_stock': 283649.0,\n",
       "  'salary': 249201.0,\n",
       "  'shared_receipt_with_poi': 1258.0,\n",
       "  'to_poi/from_msg': 0.5853658536585366,\n",
       "  'total_payments': 1099100.0},\n",
       " 31: {'bonus': 0.0,\n",
       "  'eso/tsv': 1.0,\n",
       "  'expenses': 0.0,\n",
       "  'from_poi/to_msg': 0.0,\n",
       "  'other': 0.0,\n",
       "  'poi': False,\n",
       "  'restricted_stock': 0.0,\n",
       "  'salary': 0.0,\n",
       "  'shared_receipt_with_poi': 0.0,\n",
       "  'to_poi/from_msg': 0.0,\n",
       "  'total_payments': 0.0},\n",
       " 32: {'bonus': 700000.0,\n",
       "  'eso/tsv': 0.0,\n",
       "  'expenses': 37172.0,\n",
       "  'from_poi/to_msg': 0.01968557758031442,\n",
       "  'other': 566.0,\n",
       "  'poi': False,\n",
       "  'restricted_stock': 126027.0,\n",
       "  'salary': 231330.0,\n",
       "  'shared_receipt_with_poi': 2639.0,\n",
       "  'to_poi/from_msg': 0.08887865530739121,\n",
       "  'total_payments': 969068.0},\n",
       " 33: {'bonus': 0.0,\n",
       "  'eso/tsv': 0.0,\n",
       "  'expenses': 475.0,\n",
       "  'from_poi/to_msg': 0.006980802792321117,\n",
       "  'other': 0.0,\n",
       "  'poi': False,\n",
       "  'restricted_stock': 2217299.0,\n",
       "  'salary': 0.0,\n",
       "  'shared_receipt_with_poi': 471.0,\n",
       "  'to_poi/from_msg': 0.3684210526315789,\n",
       "  'total_payments': 475.0},\n",
       " 34: {'bonus': 200000.0,\n",
       "  'eso/tsv': 0.5961081966140735,\n",
       "  'expenses': 21530.0,\n",
       "  'from_poi/to_msg': 0.0,\n",
       "  'other': 53775.0,\n",
       "  'poi': False,\n",
       "  'restricted_stock': 407503.0,\n",
       "  'salary': 182245.0,\n",
       "  'shared_receipt_with_poi': 0.0,\n",
       "  'to_poi/from_msg': 0.0,\n",
       "  'total_payments': 2692324.0},\n",
       " 35: {'bonus': 0.0,\n",
       "  'eso/tsv': 0.0,\n",
       "  'expenses': 148.0,\n",
       "  'from_poi/to_msg': 0.0,\n",
       "  'other': 0.0,\n",
       "  'poi': False,\n",
       "  'restricted_stock': 0.0,\n",
       "  'salary': 0.0,\n",
       "  'shared_receipt_with_poi': 0.0,\n",
       "  'to_poi/from_msg': 0.0,\n",
       "  'total_payments': 148.0},\n",
       " 36: {'bonus': 1700000.0,\n",
       "  'eso/tsv': 0.0,\n",
       "  'expenses': 98849.0,\n",
       "  'from_poi/to_msg': 0.030303030303030304,\n",
       "  'other': 1936.0,\n",
       "  'poi': False,\n",
       "  'restricted_stock': 441096.0,\n",
       "  'salary': 211788.0,\n",
       "  'shared_receipt_with_poi': 900.0,\n",
       "  'to_poi/from_msg': 0.037037037037037035,\n",
       "  'total_payments': 2081796.0},\n",
       " 37: {'bonus': 0.0,\n",
       "  'eso/tsv': 0.0,\n",
       "  'expenses': 0.0,\n",
       "  'from_poi/to_msg': 0.0,\n",
       "  'other': 0.0,\n",
       "  'poi': False,\n",
       "  'restricted_stock': 662086.0,\n",
       "  'salary': 0.0,\n",
       "  'shared_receipt_with_poi': 0.0,\n",
       "  'to_poi/from_msg': 0.0,\n",
       "  'total_payments': 0.0},\n",
       " 38: {'bonus': 0.0,\n",
       "  'eso/tsv': 1.0,\n",
       "  'expenses': 0.0,\n",
       "  'from_poi/to_msg': 0.01050420168067227,\n",
       "  'other': 0.0,\n",
       "  'poi': False,\n",
       "  'restricted_stock': 0.0,\n",
       "  'salary': 0.0,\n",
       "  'shared_receipt_with_poi': 739.0,\n",
       "  'to_poi/from_msg': 0.0,\n",
       "  'total_payments': 0.0},\n",
       " 39: {'bonus': 0.0,\n",
       "  'eso/tsv': 0.0,\n",
       "  'expenses': 0.0,\n",
       "  'from_poi/to_msg': 0.031746031746031744,\n",
       "  'other': 0.0,\n",
       "  'poi': False,\n",
       "  'restricted_stock': 151418.0,\n",
       "  'salary': 0.0,\n",
       "  'shared_receipt_with_poi': 50.0,\n",
       "  'to_poi/from_msg': 0.0,\n",
       "  'total_payments': 7961.0},\n",
       " 40: {'bonus': 0.0,\n",
       "  'eso/tsv': 0.8754089633971995,\n",
       "  'expenses': 0.0,\n",
       "  'from_poi/to_msg': 0.017445917655268667,\n",
       "  'other': 0.0,\n",
       "  'poi': False,\n",
       "  'restricted_stock': 94556.0,\n",
       "  'salary': 0.0,\n",
       "  'shared_receipt_with_poi': 508.0,\n",
       "  'to_poi/from_msg': 0.009302325581395349,\n",
       "  'total_payments': 0.0},\n",
       " 41: {'bonus': 800000.0,\n",
       "  'eso/tsv': 0.0,\n",
       "  'expenses': 118134.0,\n",
       "  'from_poi/to_msg': 0.0,\n",
       "  'other': 907502.0,\n",
       "  'poi': True,\n",
       "  'restricted_stock': 985032.0,\n",
       "  'salary': 224305.0,\n",
       "  'shared_receipt_with_poi': 0.0,\n",
       "  'to_poi/from_msg': 0.0,\n",
       "  'total_payments': 2652612.0},\n",
       " 42: {'bonus': 1000000.0,\n",
       "  'eso/tsv': 0.0,\n",
       "  'expenses': 0.0,\n",
       "  'from_poi/to_msg': 0.02374202693125443,\n",
       "  'other': 3083.0,\n",
       "  'poi': False,\n",
       "  'restricted_stock': 360528.0,\n",
       "  'salary': 273746.0,\n",
       "  'shared_receipt_with_poi': 2672.0,\n",
       "  'to_poi/from_msg': 0.2222222222222222,\n",
       "  'total_payments': 2664228.0},\n",
       " 43: {'bonus': 8000000.0,\n",
       "  'eso/tsv': 0.80489241252034,\n",
       "  'expenses': 49537.0,\n",
       "  'from_poi/to_msg': 0.07273729163796666,\n",
       "  'other': 1552.0,\n",
       "  'poi': False,\n",
       "  'restricted_stock': 1008149.0,\n",
       "  'salary': 339288.0,\n",
       "  'shared_receipt_with_poi': 3962.0,\n",
       "  'to_poi/from_msg': 0.15899419729206962,\n",
       "  'total_payments': 10425757.0},\n",
       " 44: {'bonus': 0.0,\n",
       "  'eso/tsv': 0.6514218708895034,\n",
       "  'expenses': 11892.0,\n",
       "  'from_poi/to_msg': 0.0,\n",
       "  'other': 0.0,\n",
       "  'poi': False,\n",
       "  'restricted_stock': 869220.0,\n",
       "  'salary': 216582.0,\n",
       "  'shared_receipt_with_poi': 0.0,\n",
       "  'to_poi/from_msg': 0.0,\n",
       "  'total_payments': 228474.0},\n",
       " 45: {'bonus': 425000.0,\n",
       "  'eso/tsv': 1.0,\n",
       "  'expenses': 52255.0,\n",
       "  'from_poi/to_msg': 0.0,\n",
       "  'other': 1105.0,\n",
       "  'poi': False,\n",
       "  'restricted_stock': 315068.0,\n",
       "  'salary': 210500.0,\n",
       "  'shared_receipt_with_poi': 0.0,\n",
       "  'to_poi/from_msg': 0.0,\n",
       "  'total_payments': 1204583.0},\n",
       " 46: {'bonus': 0.0,\n",
       "  'eso/tsv': 0.0,\n",
       "  'expenses': 103773.0,\n",
       "  'from_poi/to_msg': 0.0,\n",
       "  'other': 0.0,\n",
       "  'poi': False,\n",
       "  'restricted_stock': 0.0,\n",
       "  'salary': 0.0,\n",
       "  'shared_receipt_with_poi': 0.0,\n",
       "  'to_poi/from_msg': 0.0,\n",
       "  'total_payments': 213071.0},\n",
       " 47: {'bonus': 0.0,\n",
       "  'eso/tsv': 0.0,\n",
       "  'expenses': 0.0,\n",
       "  'from_poi/to_msg': 0.0,\n",
       "  'other': 0.0,\n",
       "  'poi': False,\n",
       "  'restricted_stock': 0.0,\n",
       "  'salary': 0.0,\n",
       "  'shared_receipt_with_poi': 12.0,\n",
       "  'to_poi/from_msg': 0.0,\n",
       "  'total_payments': 0.0},\n",
       " 48: {'bonus': 750000.0,\n",
       "  'eso/tsv': 0.4973900737342627,\n",
       "  'expenses': 0.0,\n",
       "  'from_poi/to_msg': 0.0,\n",
       "  'other': 819288.0,\n",
       "  'poi': False,\n",
       "  'restricted_stock': 441096.0,\n",
       "  'salary': 272880.0,\n",
       "  'shared_receipt_with_poi': 0.0,\n",
       "  'to_poi/from_msg': 0.0,\n",
       "  'total_payments': 2146973.0},\n",
       " 49: {'bonus': 0.0,\n",
       "  'eso/tsv': 0.7716538631639595,\n",
       "  'expenses': 56301.0,\n",
       "  'from_poi/to_msg': 0.06890459363957598,\n",
       "  'other': 864523.0,\n",
       "  'poi': False,\n",
       "  'restricted_stock': 1757552.0,\n",
       "  'salary': 477.0,\n",
       "  'shared_receipt_with_poi': 465.0,\n",
       "  'to_poi/from_msg': 0.0,\n",
       "  'total_payments': 916197.0},\n",
       " 50: {'bonus': 0.0,\n",
       "  'eso/tsv': 1.0,\n",
       "  'expenses': 0.0,\n",
       "  'from_poi/to_msg': 0.0,\n",
       "  'other': 0.0,\n",
       "  'poi': False,\n",
       "  'restricted_stock': 0.0,\n",
       "  'salary': 0.0,\n",
       "  'shared_receipt_with_poi': 0.0,\n",
       "  'to_poi/from_msg': 0.0,\n",
       "  'total_payments': 77492.0},\n",
       " 51: {'bonus': 650000.0,\n",
       "  'eso/tsv': 0.6158423345062467,\n",
       "  'expenses': 137767.0,\n",
       "  'from_poi/to_msg': 0.0048848108786058485,\n",
       "  'other': 705.0,\n",
       "  'poi': False,\n",
       "  'restricted_stock': 379164.0,\n",
       "  'salary': 269076.0,\n",
       "  'shared_receipt_with_poi': 4527.0,\n",
       "  'to_poi/from_msg': 0.053497942386831275,\n",
       "  'total_payments': 1057548.0},\n",
       " 52: {'bonus': 1500000.0,\n",
       "  'eso/tsv': 0.5866310512492562,\n",
       "  'expenses': 0.0,\n",
       "  'from_poi/to_msg': 0.008785691873235017,\n",
       "  'other': 1852186.0,\n",
       "  'poi': False,\n",
       "  'restricted_stock': 1293424.0,\n",
       "  'salary': 428780.0,\n",
       "  'shared_receipt_with_poi': 2103.0,\n",
       "  'to_poi/from_msg': 0.25,\n",
       "  'total_payments': 4335388.0},\n",
       " 53: {'bonus': 200000.0,\n",
       "  'eso/tsv': 0.6514218708895034,\n",
       "  'expenses': 22884.0,\n",
       "  'from_poi/to_msg': 0.057777777777777775,\n",
       "  'other': 1573324.0,\n",
       "  'poi': True,\n",
       "  'restricted_stock': 869220.0,\n",
       "  'salary': 211844.0,\n",
       "  'shared_receipt_with_poi': 91.0,\n",
       "  'to_poi/from_msg': 0.358974358974359,\n",
       "  'total_payments': 2003885.0},\n",
       " 54: {'bonus': 0.0,\n",
       "  'eso/tsv': 1.0,\n",
       "  'expenses': 0.0,\n",
       "  'from_poi/to_msg': 0.0,\n",
       "  'other': 0.0,\n",
       "  'poi': False,\n",
       "  'restricted_stock': 0.0,\n",
       "  'salary': 0.0,\n",
       "  'shared_receipt_with_poi': 0.0,\n",
       "  'to_poi/from_msg': 0.0,\n",
       "  'total_payments': 87492.0},\n",
       " 55: {'bonus': 600000.0,\n",
       "  'eso/tsv': 0.10915074963413332,\n",
       "  'expenses': 41626.0,\n",
       "  'from_poi/to_msg': 0.16106442577030813,\n",
       "  'other': 25553.0,\n",
       "  'poi': False,\n",
       "  'restricted_stock': 141833.0,\n",
       "  'salary': 206121.0,\n",
       "  'shared_receipt_with_poi': 552.0,\n",
       "  'to_poi/from_msg': 0.05405405405405406,\n",
       "  'total_payments': 1208649.0},\n",
       " 56: {'bonus': 0.0,\n",
       "  'eso/tsv': 0.0,\n",
       "  'expenses': 116335.0,\n",
       "  'from_poi/to_msg': 0.0,\n",
       "  'other': 465357.0,\n",
       "  'poi': False,\n",
       "  'restricted_stock': 1034346.0,\n",
       "  'salary': 174246.0,\n",
       "  'shared_receipt_with_poi': 0.0,\n",
       "  'to_poi/from_msg': 0.0,\n",
       "  'total_payments': 704896.0},\n",
       " 57: {'bonus': 3000000.0,\n",
       "  'eso/tsv': 0.5400371796194098,\n",
       "  'expenses': 57838.0,\n",
       "  'from_poi/to_msg': 0.03090214321315833,\n",
       "  'other': 301026.0,\n",
       "  'poi': False,\n",
       "  'restricted_stock': 2796177.0,\n",
       "  'salary': 510364.0,\n",
       "  'shared_receipt_with_poi': 3920.0,\n",
       "  'to_poi/from_msg': 0.04316546762589928,\n",
       "  'total_payments': 4677574.0},\n",
       " 58: {'bonus': 1100000.0,\n",
       "  'eso/tsv': 0.5233356947246603,\n",
       "  'expenses': 81364.0,\n",
       "  'from_poi/to_msg': 0.02763592670471613,\n",
       "  'other': 540.0,\n",
       "  'poi': False,\n",
       "  'restricted_stock': 1478269.0,\n",
       "  'salary': 365038.0,\n",
       "  'shared_receipt_with_poi': 2189.0,\n",
       "  'to_poi/from_msg': 0.07075127644055434,\n",
       "  'total_payments': 2101364.0},\n",
       " 59: {'bonus': 0.0,\n",
       "  'eso/tsv': 0.0,\n",
       "  'expenses': 0.0,\n",
       "  'from_poi/to_msg': 0.0,\n",
       "  'other': 0.0,\n",
       "  'poi': False,\n",
       "  'restricted_stock': 47304.0,\n",
       "  'salary': 0.0,\n",
       "  'shared_receipt_with_poi': 3.0,\n",
       "  'to_poi/from_msg': 0.0625,\n",
       "  'total_payments': 0.0},\n",
       " 60: {'bonus': 3000000.0,\n",
       "  'eso/tsv': 0.6339091172441614,\n",
       "  'expenses': 86174.0,\n",
       "  'from_poi/to_msg': 0.02133850630455868,\n",
       "  'other': 1661.0,\n",
       "  'poi': True,\n",
       "  'restricted_stock': 1323148.0,\n",
       "  'salary': 365163.0,\n",
       "  'shared_receipt_with_poi': 2097.0,\n",
       "  'to_poi/from_msg': 0.198435972629521,\n",
       "  'total_payments': 4747979.0},\n",
       " 61: {'bonus': 100000.0,\n",
       "  'eso/tsv': 1.0,\n",
       "  'expenses': 0.0,\n",
       "  'from_poi/to_msg': 0.0,\n",
       "  'other': 162.0,\n",
       "  'poi': False,\n",
       "  'restricted_stock': 0.0,\n",
       "  'salary': 162779.0,\n",
       "  'shared_receipt_with_poi': 0.0,\n",
       "  'to_poi/from_msg': 0.0,\n",
       "  'total_payments': 999356.0},\n",
       " 62: {'bonus': 0.0,\n",
       "  'eso/tsv': 1.0,\n",
       "  'expenses': 0.0,\n",
       "  'from_poi/to_msg': 0.0,\n",
       "  'other': 0.0,\n",
       "  'poi': False,\n",
       "  'restricted_stock': 0.0,\n",
       "  'salary': 0.0,\n",
       "  'shared_receipt_with_poi': 0.0,\n",
       "  'to_poi/from_msg': 0.0,\n",
       "  'total_payments': 0.0},\n",
       " 63: {'bonus': 200000.0,\n",
       "  'eso/tsv': 0.8319804008083003,\n",
       "  'expenses': 57727.0,\n",
       "  'from_poi/to_msg': 0.0,\n",
       "  'other': 2630.0,\n",
       "  'poi': False,\n",
       "  'restricted_stock': 514847.0,\n",
       "  'salary': 236457.0,\n",
       "  'shared_receipt_with_poi': 0.0,\n",
       "  'to_poi/from_msg': 0.0,\n",
       "  'total_payments': 875889.0},\n",
       " 64: {'bonus': 0.0,\n",
       "  'eso/tsv': 0.0,\n",
       "  'expenses': 2151.0,\n",
       "  'from_poi/to_msg': 0.0,\n",
       "  'other': 0.0,\n",
       "  'poi': False,\n",
       "  'restricted_stock': 0.0,\n",
       "  'salary': 0.0,\n",
       "  'shared_receipt_with_poi': 0.0,\n",
       "  'to_poi/from_msg': 0.0,\n",
       "  'total_payments': 2151.0},\n",
       " 65: {'bonus': 7000000.0,\n",
       "  'eso/tsv': 0.6994161972212709,\n",
       "  'expenses': 99832.0,\n",
       "  'from_poi/to_msg': 0.028785396676807865,\n",
       "  'other': 10359729.0,\n",
       "  'poi': True,\n",
       "  'restricted_stock': 14761694.0,\n",
       "  'salary': 1072321.0,\n",
       "  'shared_receipt_with_poi': 2411.0,\n",
       "  'to_poi/from_msg': 0.4444444444444444,\n",
       "  'total_payments': 103559793.0},\n",
       " 66: {'bonus': 750000.0,\n",
       "  'eso/tsv': 0.0,\n",
       "  'expenses': 9410.0,\n",
       "  'from_poi/to_msg': 0.0,\n",
       "  'other': 150656.0,\n",
       "  'poi': False,\n",
       "  'restricted_stock': 417619.0,\n",
       "  'salary': 261516.0,\n",
       "  'shared_receipt_with_poi': 0.0,\n",
       "  'to_poi/from_msg': 0.0,\n",
       "  'total_payments': 1271582.0},\n",
       " 67: {'bonus': 750000.0,\n",
       "  'eso/tsv': 0.6279949500587511,\n",
       "  'expenses': 63791.0,\n",
       "  'from_poi/to_msg': 0.016891891891891893,\n",
       "  'other': 972.0,\n",
       "  'poi': False,\n",
       "  'restricted_stock': 969729.0,\n",
       "  'salary': 329078.0,\n",
       "  'shared_receipt_with_poi': 856.0,\n",
       "  'to_poi/from_msg': 0.28846153846153844,\n",
       "  'total_payments': 1321557.0},\n",
       " 68: {'bonus': 0.0,\n",
       "  'eso/tsv': 0.4477451953036776,\n",
       "  'expenses': 0.0,\n",
       "  'from_poi/to_msg': 0.06040268456375839,\n",
       "  'other': 0.0,\n",
       "  'poi': False,\n",
       "  'restricted_stock': 934065.0,\n",
       "  'salary': 0.0,\n",
       "  'shared_receipt_with_poi': 720.0,\n",
       "  'to_poi/from_msg': 0.07692307692307693,\n",
       "  'total_payments': 0.0},\n",
       " 69: {'bonus': 325000.0,\n",
       "  'eso/tsv': 0.0,\n",
       "  'expenses': 22344.0,\n",
       "  'from_poi/to_msg': 0.0,\n",
       "  'other': 713.0,\n",
       "  'poi': False,\n",
       "  'restricted_stock': 207940.0,\n",
       "  'salary': 184899.0,\n",
       "  'shared_receipt_with_poi': 0.0,\n",
       "  'to_poi/from_msg': 0.0,\n",
       "  'total_payments': 807956.0},\n",
       " 70: {'bonus': 509870.0,\n",
       "  'eso/tsv': 0.2612528914932817,\n",
       "  'expenses': 50080.0,\n",
       "  'from_poi/to_msg': 0.0,\n",
       "  'other': 76547.0,\n",
       "  'poi': False,\n",
       "  'restricted_stock': 235370.0,\n",
       "  'salary': 192008.0,\n",
       "  'shared_receipt_with_poi': 0.0,\n",
       "  'to_poi/from_msg': 0.0,\n",
       "  'total_payments': 900585.0},\n",
       " 71: {'bonus': 900000.0,\n",
       "  'eso/tsv': 0.534640627686971,\n",
       "  'expenses': 228763.0,\n",
       "  'from_poi/to_msg': 0.02981651376146789,\n",
       "  'other': 51587.0,\n",
       "  'poi': False,\n",
       "  'restricted_stock': 441096.0,\n",
       "  'salary': 263413.0,\n",
       "  'shared_receipt_with_poi': 1469.0,\n",
       "  'to_poi/from_msg': 0.0,\n",
       "  'total_payments': 1318763.0},\n",
       " 72: {'bonus': 700000.0,\n",
       "  'eso/tsv': 0.2806331682960852,\n",
       "  'expenses': 48357.0,\n",
       "  'from_poi/to_msg': 0.0,\n",
       "  'other': 416441.0,\n",
       "  'poi': False,\n",
       "  'restricted_stock': 480632.0,\n",
       "  'salary': 262663.0,\n",
       "  'shared_receipt_with_poi': 0.0,\n",
       "  'to_poi/from_msg': 0.0,\n",
       "  'total_payments': 1297461.0},\n",
       " 73: {'bonus': 0.0,\n",
       "  'eso/tsv': 1.0,\n",
       "  'expenses': 0.0,\n",
       "  'from_poi/to_msg': 0.0,\n",
       "  'other': 0.0,\n",
       "  'poi': False,\n",
       "  'restricted_stock': 0.0,\n",
       "  'salary': 0.0,\n",
       "  'shared_receipt_with_poi': 0.0,\n",
       "  'to_poi/from_msg': 0.0,\n",
       "  'total_payments': 0.0},\n",
       " 74: {'bonus': 0.0,\n",
       "  'eso/tsv': 0.9015123164864087,\n",
       "  'expenses': 0.0,\n",
       "  'from_poi/to_msg': 0.0,\n",
       "  'other': 0.0,\n",
       "  'poi': False,\n",
       "  'restricted_stock': 264013.0,\n",
       "  'salary': 0.0,\n",
       "  'shared_receipt_with_poi': 0.0,\n",
       "  'to_poi/from_msg': 0.0,\n",
       "  'total_payments': 0.0},\n",
       " 75: {'bonus': 1150000.0,\n",
       "  'eso/tsv': 0.7580059121348186,\n",
       "  'expenses': 76169.0,\n",
       "  'from_poi/to_msg': 0.04489897730107259,\n",
       "  'other': 52382.0,\n",
       "  'poi': False,\n",
       "  'restricted_stock': 524169.0,\n",
       "  'salary': 374125.0,\n",
       "  'shared_receipt_with_poi': 1847.0,\n",
       "  'to_poi/from_msg': 0.03142709943328181,\n",
       "  'total_payments': 3859065.0},\n",
       " 76: {'bonus': 1350000.0,\n",
       "  'eso/tsv': 0.0,\n",
       "  'expenses': 65907.0,\n",
       "  'from_poi/to_msg': 0.07534983853606028,\n",
       "  'other': 1621.0,\n",
       "  'poi': True,\n",
       "  'restricted_stock': 252055.0,\n",
       "  'salary': 278601.0,\n",
       "  'shared_receipt_with_poi': 1593.0,\n",
       "  'to_poi/from_msg': 0.5555555555555556,\n",
       "  'total_payments': 2669589.0},\n",
       " 77: {'bonus': 0.0,\n",
       "  'eso/tsv': 0.11446620193598861,\n",
       "  'expenses': 0.0,\n",
       "  'from_poi/to_msg': 0.0,\n",
       "  'other': 0.0,\n",
       "  'poi': False,\n",
       "  'restricted_stock': 75838.0,\n",
       "  'salary': 0.0,\n",
       "  'shared_receipt_with_poi': 0.0,\n",
       "  'to_poi/from_msg': 0.0,\n",
       "  'total_payments': 0.0},\n",
       " 78: {'bonus': 350000.0,\n",
       "  'eso/tsv': 0.40984841195236227,\n",
       "  'expenses': 23870.0,\n",
       "  'from_poi/to_msg': 0.0010683760683760685,\n",
       "  'other': 285414.0,\n",
       "  'poi': False,\n",
       "  'restricted_stock': 956775.0,\n",
       "  'salary': 199157.0,\n",
       "  'shared_receipt_with_poi': 723.0,\n",
       "  'to_poi/from_msg': 0.5,\n",
       "  'total_payments': 1414857.0},\n",
       " 79: {'bonus': 0.0,\n",
       "  'eso/tsv': 0.2692354651557151,\n",
       "  'expenses': 0.0,\n",
       "  'from_poi/to_msg': 0.0,\n",
       "  'other': 0.0,\n",
       "  'poi': False,\n",
       "  'restricted_stock': 161602.0,\n",
       "  'salary': 0.0,\n",
       "  'shared_receipt_with_poi': 127.0,\n",
       "  'to_poi/from_msg': 0.0,\n",
       "  'total_payments': 0.0},\n",
       " 80: {'bonus': 0.0,\n",
       "  'eso/tsv': 0.951676889314051,\n",
       "  'expenses': 14689.0,\n",
       "  'from_poi/to_msg': 0.12208258527827648,\n",
       "  'other': 0.0,\n",
       "  'poi': False,\n",
       "  'restricted_stock': 381285.0,\n",
       "  'salary': 96840.0,\n",
       "  'shared_receipt_with_poi': 1063.0,\n",
       "  'to_poi/from_msg': 0.22171945701357465,\n",
       "  'total_payments': 111529.0},\n",
       " 81: {'bonus': 0.0,\n",
       "  'eso/tsv': 1.0,\n",
       "  'expenses': 0.0,\n",
       "  'from_poi/to_msg': 0.0,\n",
       "  'other': 874.0,\n",
       "  'poi': False,\n",
       "  'restricted_stock': 0.0,\n",
       "  'salary': 80818.0,\n",
       "  'shared_receipt_with_poi': 0.0,\n",
       "  'to_poi/from_msg': 0.0,\n",
       "  'total_payments': 860136.0},\n",
       " 82: {'bonus': 5249999.0,\n",
       "  'eso/tsv': 0.8581360487258093,\n",
       "  'expenses': 17355.0,\n",
       "  'from_poi/to_msg': 0.028532098610937303,\n",
       "  'other': 210698.0,\n",
       "  'poi': True,\n",
       "  'restricted_stock': 157569.0,\n",
       "  'salary': 213999.0,\n",
       "  'shared_receipt_with_poi': 5521.0,\n",
       "  'to_poi/from_msg': 0.2231404958677686,\n",
       "  'total_payments': 5501630.0},\n",
       " 83: {'bonus': 750000.0,\n",
       "  'eso/tsv': 0.8847950222742259,\n",
       "  'expenses': 25785.0,\n",
       "  'from_poi/to_msg': 0.1172566371681416,\n",
       "  'other': 1568.0,\n",
       "  'poi': False,\n",
       "  'restricted_stock': 189041.0,\n",
       "  'salary': 210692.0,\n",
       "  'shared_receipt_with_poi': 599.0,\n",
       "  'to_poi/from_msg': 0.25,\n",
       "  'total_payments': 2093263.0},\n",
       " 84: {'bonus': 0.0,\n",
       "  'eso/tsv': 0.9241727960254025,\n",
       "  'expenses': 46145.0,\n",
       "  'from_poi/to_msg': 0.0,\n",
       "  'other': 426629.0,\n",
       "  'poi': False,\n",
       "  'restricted_stock': 365320.0,\n",
       "  'salary': 222093.0,\n",
       "  'shared_receipt_with_poi': 73.0,\n",
       "  'to_poi/from_msg': 0.0,\n",
       "  'total_payments': 911453.0},\n",
       " 85: {'bonus': 1300000.0,\n",
       "  'eso/tsv': 0.0,\n",
       "  'expenses': 55921.0,\n",
       "  'from_poi/to_msg': 0.0,\n",
       "  'other': 277464.0,\n",
       "  'poi': True,\n",
       "  'restricted_stock': 1794412.0,\n",
       "  'salary': 440698.0,\n",
       "  'shared_receipt_with_poi': 0.0,\n",
       "  'to_poi/from_msg': 0.0,\n",
       "  'total_payments': 2424083.0},\n",
       " 86: {'bonus': 0.0,\n",
       "  'eso/tsv': 1.0,\n",
       "  'expenses': 0.0,\n",
       "  'from_poi/to_msg': 0.0,\n",
       "  'other': 0.0,\n",
       "  'poi': False,\n",
       "  'restricted_stock': 0.0,\n",
       "  'salary': 0.0,\n",
       "  'shared_receipt_with_poi': 2.0,\n",
       "  'to_poi/from_msg': 0.0,\n",
       "  'total_payments': 181755.0},\n",
       " 87: {'bonus': 1250000.0,\n",
       "  'eso/tsv': 0.0,\n",
       "  'expenses': 35818.0,\n",
       "  'from_poi/to_msg': 0.07659738260200154,\n",
       "  'other': 486.0,\n",
       "  'poi': True,\n",
       "  'restricted_stock': 126027.0,\n",
       "  'salary': 240189.0,\n",
       "  'shared_receipt_with_poi': 2188.0,\n",
       "  'to_poi/from_msg': 0.1736111111111111,\n",
       "  'total_payments': 1639297.0},\n",
       " 88: {'bonus': 1750000.0,\n",
       "  'eso/tsv': 0.8780809916753388,\n",
       "  'expenses': 46950.0,\n",
       "  'from_poi/to_msg': 0.04640883977900553,\n",
       "  'other': 174839.0,\n",
       "  'poi': True,\n",
       "  'restricted_stock': 2748364.0,\n",
       "  'salary': 420636.0,\n",
       "  'shared_receipt_with_poi': 864.0,\n",
       "  'to_poi/from_msg': 0.2222222222222222,\n",
       "  'total_payments': 505050.0},\n",
       " 89: {'bonus': 400000.0,\n",
       "  'eso/tsv': 0.8708788703706929,\n",
       "  'expenses': 83585.0,\n",
       "  'from_poi/to_msg': 0.008899500759713479,\n",
       "  'other': 4669.0,\n",
       "  'poi': False,\n",
       "  'restricted_stock': 126027.0,\n",
       "  'salary': 275101.0,\n",
       "  'shared_receipt_with_poi': 583.0,\n",
       "  'to_poi/from_msg': 0.011901447661469933,\n",
       "  'total_payments': 1086821.0},\n",
       " 90: {'bonus': 0.0,\n",
       "  'eso/tsv': 0.0,\n",
       "  'expenses': 0.0,\n",
       "  'from_poi/to_msg': 0.0,\n",
       "  'other': 0.0,\n",
       "  'poi': False,\n",
       "  'restricted_stock': 0.0,\n",
       "  'salary': 0.0,\n",
       "  'shared_receipt_with_poi': 0.0,\n",
       "  'to_poi/from_msg': 0.0,\n",
       "  'total_payments': 0.0},\n",
       " 91: {'bonus': 800000.0,\n",
       "  'eso/tsv': 0.23717347311417925,\n",
       "  'expenses': 27861.0,\n",
       "  'from_poi/to_msg': 0.0,\n",
       "  'other': 494.0,\n",
       "  'poi': False,\n",
       "  'restricted_stock': 378082.0,\n",
       "  'salary': 314288.0,\n",
       "  'shared_receipt_with_poi': 71.0,\n",
       "  'to_poi/from_msg': 0.12121212121212122,\n",
       "  'total_payments': 1101393.0},\n",
       " 92: {'bonus': 0.0,\n",
       "  'eso/tsv': 0.7206993163550137,\n",
       "  'expenses': 18834.0,\n",
       "  'from_poi/to_msg': 0.0,\n",
       "  'other': 176.0,\n",
       "  'poi': False,\n",
       "  'restricted_stock': 2041016.0,\n",
       "  'salary': 94941.0,\n",
       "  'shared_receipt_with_poi': 0.0,\n",
       "  'to_poi/from_msg': 0.0,\n",
       "  'total_payments': 249787.0},\n",
       " 93: {'bonus': 0.0,\n",
       "  'eso/tsv': 0.0,\n",
       "  'expenses': 27942.0,\n",
       "  'from_poi/to_msg': 0.0,\n",
       "  'other': 0.0,\n",
       "  'poi': False,\n",
       "  'restricted_stock': 0.0,\n",
       "  'salary': 0.0,\n",
       "  'shared_receipt_with_poi': 0.0,\n",
       "  'to_poi/from_msg': 0.0,\n",
       "  'total_payments': 27942.0},\n",
       " 94: {'bonus': 500000.0,\n",
       "  'eso/tsv': 0.0,\n",
       "  'expenses': 16514.0,\n",
       "  'from_poi/to_msg': 0.0,\n",
       "  'other': 356071.0,\n",
       "  'poi': False,\n",
       "  'restricted_stock': 511734.0,\n",
       "  'salary': 239502.0,\n",
       "  'shared_receipt_with_poi': 0.0,\n",
       "  'to_poi/from_msg': 0.0,\n",
       "  'total_payments': 1112087.0},\n",
       " 95: {'bonus': 5600000.0,\n",
       "  'eso/tsv': 0.7377267561269261,\n",
       "  'expenses': 29336.0,\n",
       "  'from_poi/to_msg': 0.0242624758753791,\n",
       "  'other': 22122.0,\n",
       "  'poi': True,\n",
       "  'restricted_stock': 6843672.0,\n",
       "  'salary': 1111258.0,\n",
       "  'shared_receipt_with_poi': 2042.0,\n",
       "  'to_poi/from_msg': 0.2777777777777778,\n",
       "  'total_payments': 8682716.0},\n",
       " 96: {'bonus': 0.0,\n",
       "  'eso/tsv': 0.0,\n",
       "  'expenses': 1279.0,\n",
       "  'from_poi/to_msg': 0.0,\n",
       "  'other': 0.0,\n",
       "  'poi': False,\n",
       "  'restricted_stock': 0.0,\n",
       "  'salary': 0.0,\n",
       "  'shared_receipt_with_poi': 0.0,\n",
       "  'to_poi/from_msg': 0.0,\n",
       "  'total_payments': 1279.0},\n",
       " 97: {'bonus': 0.0,\n",
       "  'eso/tsv': 0.7784414243522942,\n",
       "  'expenses': 0.0,\n",
       "  'from_poi/to_msg': 0.0636215334420881,\n",
       "  'other': 0.0,\n",
       "  'poi': False,\n",
       "  'restricted_stock': 405999.0,\n",
       "  'salary': 0.0,\n",
       "  'shared_receipt_with_poi': 583.0,\n",
       "  'to_poi/from_msg': 0.72,\n",
       "  'total_payments': 0.0},\n",
       " 98: {'bonus': 0.0,\n",
       "  'eso/tsv': 0.8093138150204559,\n",
       "  'expenses': 0.0,\n",
       "  'from_poi/to_msg': 0.0,\n",
       "  'other': 0.0,\n",
       "  'poi': False,\n",
       "  'restricted_stock': 208809.0,\n",
       "  'salary': 0.0,\n",
       "  'shared_receipt_with_poi': 0.0,\n",
       "  'to_poi/from_msg': 0.0,\n",
       "  'total_payments': 564348.0},\n",
       " 99: {'bonus': 0.0,\n",
       "  'eso/tsv': 0.0,\n",
       "  'expenses': 0.0,\n",
       "  'from_poi/to_msg': 0.0,\n",
       "  'other': 680833.0,\n",
       "  'poi': False,\n",
       "  'restricted_stock': 0.0,\n",
       "  'salary': 6615.0,\n",
       "  'shared_receipt_with_poi': 0.0,\n",
       "  'to_poi/from_msg': 0.0,\n",
       "  'total_payments': 1146658.0},\n",
       " 100: {'bonus': 300000.0,\n",
       "  'eso/tsv': 1.0,\n",
       "  'expenses': 31653.0,\n",
       "  'from_poi/to_msg': 0.0077951002227171495,\n",
       "  'other': 0.0,\n",
       "  'poi': False,\n",
       "  'restricted_stock': 0.0,\n",
       "  'salary': 655037.0,\n",
       "  'shared_receipt_with_poi': 728.0,\n",
       "  'to_poi/from_msg': 0.0,\n",
       "  'total_payments': 1386690.0},\n",
       " 101: {'bonus': 0.0,\n",
       "  'eso/tsv': 0.0,\n",
       "  'expenses': 0.0,\n",
       "  'from_poi/to_msg': 0.0,\n",
       "  'other': 362096.0,\n",
       "  'poi': False,\n",
       "  'restricted_stock': 0.0,\n",
       "  'salary': 0.0,\n",
       "  'shared_receipt_with_poi': 0.0,\n",
       "  'to_poi/from_msg': 0.0,\n",
       "  'total_payments': 362096.0},\n",
       " 102: {'bonus': 0.0,\n",
       "  'eso/tsv': 0.0,\n",
       "  'expenses': 0.0,\n",
       "  'from_poi/to_msg': 0.0,\n",
       "  'other': 0.0,\n",
       "  'poi': False,\n",
       "  'restricted_stock': 463261.0,\n",
       "  'salary': 0.0,\n",
       "  'shared_receipt_with_poi': 0.0,\n",
       "  'to_poi/from_msg': 0.0,\n",
       "  'total_payments': 774401.0},\n",
       " 103: {'bonus': 1000000.0,\n",
       "  'eso/tsv': 0.32859370109603386,\n",
       "  'expenses': 41953.0,\n",
       "  'from_poi/to_msg': 0.010976948408342482,\n",
       "  'other': 1231.0,\n",
       "  'poi': False,\n",
       "  'restricted_stock': 4131594.0,\n",
       "  'salary': 404338.0,\n",
       "  'shared_receipt_with_poi': 3639.0,\n",
       "  'to_poi/from_msg': 0.05725699067909454,\n",
       "  'total_payments': 1747522.0},\n",
       " 104: {'bonus': 97343619.0,\n",
       "  'eso/tsv': 0.7175078844246519,\n",
       "  'expenses': 5235198.0,\n",
       "  'from_poi/to_msg': 0.0,\n",
       "  'other': 42667589.0,\n",
       "  'poi': False,\n",
       "  'restricted_stock': 130322299.0,\n",
       "  'salary': 26704229.0,\n",
       "  'shared_receipt_with_poi': 0.0,\n",
       "  'to_poi/from_msg': 0.0,\n",
       "  'total_payments': 309886585.0},\n",
       " 105: {'bonus': 0.0,\n",
       "  'eso/tsv': 0.7027878528057863,\n",
       "  'expenses': 0.0,\n",
       "  'from_poi/to_msg': 0.0,\n",
       "  'other': 0.0,\n",
       "  'poi': False,\n",
       "  'restricted_stock': 560170.0,\n",
       "  'salary': 0.0,\n",
       "  'shared_receipt_with_poi': 10.0,\n",
       "  'to_poi/from_msg': 0.0,\n",
       "  'total_payments': 0.0},\n",
       " 106: {'bonus': 325000.0,\n",
       "  'eso/tsv': 0.8112420231790382,\n",
       "  'expenses': 0.0,\n",
       "  'from_poi/to_msg': 0.055,\n",
       "  'other': 1425.0,\n",
       "  'poi': False,\n",
       "  'restricted_stock': 388167.0,\n",
       "  'salary': 259996.0,\n",
       "  'shared_receipt_with_poi': 337.0,\n",
       "  'to_poi/from_msg': 0.23333333333333334,\n",
       "  'total_payments': 1034395.0},\n",
       " 107: {'bonus': 450000.0,\n",
       "  'eso/tsv': 0.08564701963923563,\n",
       "  'expenses': 81353.0,\n",
       "  'from_poi/to_msg': 0.0,\n",
       "  'other': 1085463.0,\n",
       "  'poi': False,\n",
       "  'restricted_stock': 13847074.0,\n",
       "  'salary': 317543.0,\n",
       "  'shared_receipt_with_poi': 0.0,\n",
       "  'to_poi/from_msg': 0.0,\n",
       "  'total_payments': 1934359.0},\n",
       " 108: {'bonus': 0.0,\n",
       "  'eso/tsv': 0.8435755201027989,\n",
       "  'expenses': 0.0,\n",
       "  'from_poi/to_msg': 0.0,\n",
       "  'other': 0.0,\n",
       "  'poi': False,\n",
       "  'restricted_stock': 950730.0,\n",
       "  'salary': 0.0,\n",
       "  'shared_receipt_with_poi': 0.0,\n",
       "  'to_poi/from_msg': 0.0,\n",
       "  'total_payments': 0.0},\n",
       " 109: {'bonus': 4175000.0,\n",
       "  'eso/tsv': 1.0,\n",
       "  'expenses': 13868.0,\n",
       "  'from_poi/to_msg': 0.016195727084769126,\n",
       "  'other': 152.0,\n",
       "  'poi': False,\n",
       "  'restricted_stock': 126027.0,\n",
       "  'salary': 201955.0,\n",
       "  'shared_receipt_with_poi': 1407.0,\n",
       "  'to_poi/from_msg': 0.029612756264236904,\n",
       "  'total_payments': 4484442.0},\n",
       " 110: {'bonus': 600000.0,\n",
       "  'eso/tsv': 0.5688170867939191,\n",
       "  'expenses': 116337.0,\n",
       "  'from_poi/to_msg': 0.007653061224489796,\n",
       "  'other': 2401.0,\n",
       "  'poi': False,\n",
       "  'restricted_stock': 213063.0,\n",
       "  'salary': 248146.0,\n",
       "  'shared_receipt_with_poi': 2477.0,\n",
       "  'to_poi/from_msg': 0.04411764705882353,\n",
       "  'total_payments': 1576511.0},\n",
       " 111: {'bonus': 0.0,\n",
       "  'eso/tsv': 1.0,\n",
       "  'expenses': 0.0,\n",
       "  'from_poi/to_msg': 0.0,\n",
       "  'other': 0.0,\n",
       "  'poi': False,\n",
       "  'restricted_stock': 44093.0,\n",
       "  'salary': 0.0,\n",
       "  'shared_receipt_with_poi': 0.0,\n",
       "  'to_poi/from_msg': 0.0,\n",
       "  'total_payments': 83750.0},\n",
       " 112: {'bonus': 0.0,\n",
       "  'eso/tsv': 0.0,\n",
       "  'expenses': 1413.0,\n",
       "  'from_poi/to_msg': 0.0,\n",
       "  'other': 0.0,\n",
       "  'poi': False,\n",
       "  'restricted_stock': 0.0,\n",
       "  'salary': 0.0,\n",
       "  'shared_receipt_with_poi': 0.0,\n",
       "  'to_poi/from_msg': 0.0,\n",
       "  'total_payments': 84992.0},\n",
       " 113: {'bonus': 0.0,\n",
       "  'eso/tsv': 0.0,\n",
       "  'expenses': 49288.0,\n",
       "  'from_poi/to_msg': 0.008748317631224764,\n",
       "  'other': 0.0,\n",
       "  'poi': False,\n",
       "  'restricted_stock': 0.0,\n",
       "  'salary': 0.0,\n",
       "  'shared_receipt_with_poi': 761.0,\n",
       "  'to_poi/from_msg': 0.024390243902439025,\n",
       "  'total_payments': 49288.0},\n",
       " 114: {'bonus': 0.0,\n",
       "  'eso/tsv': 1.0,\n",
       "  'expenses': 3486.0,\n",
       "  'from_poi/to_msg': 0.0,\n",
       "  'other': 0.0,\n",
       "  'poi': False,\n",
       "  'restricted_stock': 0.0,\n",
       "  'salary': 0.0,\n",
       "  'shared_receipt_with_poi': 0.0,\n",
       "  'to_poi/from_msg': 0.0,\n",
       "  'total_payments': 182466.0},\n",
       " 115: {'bonus': 0.0,\n",
       "  'eso/tsv': 0.6750447516706992,\n",
       "  'expenses': 0.0,\n",
       "  'from_poi/to_msg': 0.048678720445062586,\n",
       "  'other': 0.0,\n",
       "  'poi': False,\n",
       "  'restricted_stock': 363428.0,\n",
       "  'salary': 0.0,\n",
       "  'shared_receipt_with_poi': 589.0,\n",
       "  'to_poi/from_msg': 0.14705882352941177,\n",
       "  'total_payments': 0.0},\n",
       " 116: {'bonus': 100000.0,\n",
       "  'eso/tsv': 0.9854996256416853,\n",
       "  'expenses': 8409.0,\n",
       "  'from_poi/to_msg': 0.0,\n",
       "  'other': 202052.0,\n",
       "  'poi': False,\n",
       "  'restricted_stock': 201483.0,\n",
       "  'salary': 76399.0,\n",
       "  'shared_receipt_with_poi': 0.0,\n",
       "  'to_poi/from_msg': 0.0,\n",
       "  'total_payments': 394475.0},\n",
       " 117: {'bonus': 1000000.0,\n",
       "  'eso/tsv': 0.9848484848484849,\n",
       "  'expenses': 35812.0,\n",
       "  'from_poi/to_msg': 0.0,\n",
       "  'other': 374689.0,\n",
       "  'poi': False,\n",
       "  'restricted_stock': 126027.0,\n",
       "  'salary': 262788.0,\n",
       "  'shared_receipt_with_poi': 0.0,\n",
       "  'to_poi/from_msg': 0.0,\n",
       "  'total_payments': 2368151.0},\n",
       " 118: {'bonus': 0.0,\n",
       "  'eso/tsv': 0.0,\n",
       "  'expenses': 0.0,\n",
       "  'from_poi/to_msg': 0.0,\n",
       "  'other': 137864.0,\n",
       "  'poi': False,\n",
       "  'restricted_stock': -2604490.0,\n",
       "  'salary': 0.0,\n",
       "  'shared_receipt_with_poi': 463.0,\n",
       "  'to_poi/from_msg': 0.034482758620689655,\n",
       "  'total_payments': 15456290.0},\n",
       " 119: {'bonus': 300000.0,\n",
       "  'eso/tsv': 0.0,\n",
       "  'expenses': 0.0,\n",
       "  'from_poi/to_msg': 0.09294871794871795,\n",
       "  'other': 540.0,\n",
       "  'poi': False,\n",
       "  'restricted_stock': 307301.0,\n",
       "  'salary': 261809.0,\n",
       "  'shared_receipt_with_poi': 196.0,\n",
       "  'to_poi/from_msg': 0.4666666666666667,\n",
       "  'total_payments': 477557.0},\n",
       " 120: {'bonus': 500000.0,\n",
       "  'eso/tsv': 0.8136618350821336,\n",
       "  'expenses': 600.0,\n",
       "  'from_poi/to_msg': 0.0,\n",
       "  'other': 1215.0,\n",
       "  'poi': False,\n",
       "  'restricted_stock': 189041.0,\n",
       "  'salary': 248017.0,\n",
       "  'shared_receipt_with_poi': 23.0,\n",
       "  'to_poi/from_msg': 0.0,\n",
       "  'total_payments': 1054637.0},\n",
       " 121: {'bonus': 0.0,\n",
       "  'eso/tsv': 1.0,\n",
       "  'expenses': 55097.0,\n",
       "  'from_poi/to_msg': 0.0,\n",
       "  'other': 0.0,\n",
       "  'poi': False,\n",
       "  'restricted_stock': 0.0,\n",
       "  'salary': 0.0,\n",
       "  'shared_receipt_with_poi': 0.0,\n",
       "  'to_poi/from_msg': 0.0,\n",
       "  'total_payments': 55097.0},\n",
       " 122: {'bonus': 400000.0,\n",
       "  'eso/tsv': 0.6702998187329382,\n",
       "  'expenses': 57580.0,\n",
       "  'from_poi/to_msg': 0.005018248175182482,\n",
       "  'other': 330.0,\n",
       "  'poi': False,\n",
       "  'restricted_stock': 196983.0,\n",
       "  'salary': 229284.0,\n",
       "  'shared_receipt_with_poi': 395.0,\n",
       "  'to_poi/from_msg': 0.044444444444444446,\n",
       "  'total_payments': 812194.0},\n",
       " 123: {'bonus': 850000.0,\n",
       "  'eso/tsv': 0.7099747476156415,\n",
       "  'expenses': 48405.0,\n",
       "  'from_poi/to_msg': 0.04784688995215311,\n",
       "  'other': 60814.0,\n",
       "  'poi': False,\n",
       "  'restricted_stock': 259907.0,\n",
       "  'salary': 231946.0,\n",
       "  'shared_receipt_with_poi': 178.0,\n",
       "  'to_poi/from_msg': 0.6136363636363636,\n",
       "  'total_payments': 1566469.0},\n",
       " 124: {'bonus': 70000.0,\n",
       "  'eso/tsv': 0.0,\n",
       "  'expenses': 28164.0,\n",
       "  'from_poi/to_msg': 0.056818181818181816,\n",
       "  'other': 774.0,\n",
       "  'poi': False,\n",
       "  'restricted_stock': 0.0,\n",
       "  'salary': 221003.0,\n",
       "  'shared_receipt_with_poi': 114.0,\n",
       "  'to_poi/from_msg': 0.21428571428571427,\n",
       "  'total_payments': 319941.0},\n",
       " 125: {'bonus': 0.0,\n",
       "  'eso/tsv': 0.6990930736662875,\n",
       "  'expenses': 53947.0,\n",
       "  'from_poi/to_msg': 0.0,\n",
       "  'other': 147950.0,\n",
       "  'poi': True,\n",
       "  'restricted_stock': 3576206.0,\n",
       "  'salary': 158403.0,\n",
       "  'shared_receipt_with_poi': 0.0,\n",
       "  'to_poi/from_msg': 0.0,\n",
       "  'total_payments': 360300.0},\n",
       " 126: {'bonus': 0.0,\n",
       "  'eso/tsv': 1.0,\n",
       "  'expenses': 77978.0,\n",
       "  'from_poi/to_msg': 0.0,\n",
       "  'other': 2856.0,\n",
       "  'poi': True,\n",
       "  'restricted_stock': 0.0,\n",
       "  'salary': 0.0,\n",
       "  'shared_receipt_with_poi': 0.0,\n",
       "  'to_poi/from_msg': 0.0,\n",
       "  'total_payments': 91093.0},\n",
       " 127: {'bonus': 600000.0,\n",
       "  'eso/tsv': 0.8310706149364614,\n",
       "  'expenses': 3475.0,\n",
       "  'from_poi/to_msg': 0.11858475894245724,\n",
       "  'other': 473.0,\n",
       "  'poi': False,\n",
       "  'restricted_stock': 315068.0,\n",
       "  'salary': 250100.0,\n",
       "  'shared_receipt_with_poi': 1902.0,\n",
       "  'to_poi/from_msg': 0.2222222222222222,\n",
       "  'total_payments': 1410464.0},\n",
       " 128: {'bonus': 800000.0,\n",
       "  'eso/tsv': 1.0,\n",
       "  'expenses': 51124.0,\n",
       "  'from_poi/to_msg': 0.029344337459880788,\n",
       "  'other': 7482.0,\n",
       "  'poi': False,\n",
       "  'restricted_stock': 1787380.0,\n",
       "  'salary': 492375.0,\n",
       "  'shared_receipt_with_poi': 1401.0,\n",
       "  'to_poi/from_msg': 0.022002200220022004,\n",
       "  'total_payments': 550981.0},\n",
       " 129: {'bonus': 2000000.0,\n",
       "  'eso/tsv': 0.713540281428528,\n",
       "  'expenses': 86987.0,\n",
       "  'from_poi/to_msg': 0.07389312977099237,\n",
       "  'other': 7427621.0,\n",
       "  'poi': False,\n",
       "  'restricted_stock': 4188667.0,\n",
       "  'salary': 1060932.0,\n",
       "  'shared_receipt_with_poi': 2979.0,\n",
       "  'to_poi/from_msg': 0.2857142857142857,\n",
       "  'total_payments': 17252530.0},\n",
       " 130: {'bonus': 1000000.0,\n",
       "  'eso/tsv': 0.6450672665508715,\n",
       "  'expenses': 32047.0,\n",
       "  'from_poi/to_msg': 0.0,\n",
       "  'other': 1829457.0,\n",
       "  'poi': False,\n",
       "  'restricted_stock': 8453763.0,\n",
       "  'salary': 261879.0,\n",
       "  'shared_receipt_with_poi': 0.0,\n",
       "  'to_poi/from_msg': 0.0,\n",
       "  'total_payments': 3123383.0},\n",
       " 131: {'bonus': 400000.0,\n",
       "  'eso/tsv': 0.0,\n",
       "  'expenses': 129142.0,\n",
       "  'from_poi/to_msg': 0.0,\n",
       "  'other': 69.0,\n",
       "  'poi': False,\n",
       "  'restricted_stock': 145796.0,\n",
       "  'salary': 239671.0,\n",
       "  'shared_receipt_with_poi': 0.0,\n",
       "  'to_poi/from_msg': 0.0,\n",
       "  'total_payments': 827696.0},\n",
       " 132: {'bonus': 0.0,\n",
       "  'eso/tsv': 0.0,\n",
       "  'expenses': 0.0,\n",
       "  'from_poi/to_msg': 0.01321253303133258,\n",
       "  'other': 0.0,\n",
       "  'poi': False,\n",
       "  'restricted_stock': 346663.0,\n",
       "  'salary': 0.0,\n",
       "  'shared_receipt_with_poi': 571.0,\n",
       "  'to_poi/from_msg': 0.03581526861451461,\n",
       "  'total_payments': 0.0},\n",
       " 133: {'bonus': 0.0,\n",
       "  'eso/tsv': 1.0,\n",
       "  'expenses': 0.0,\n",
       "  'from_poi/to_msg': 0.0,\n",
       "  'other': 0.0,\n",
       "  'poi': False,\n",
       "  'restricted_stock': 0.0,\n",
       "  'salary': 0.0,\n",
       "  'shared_receipt_with_poi': 0.0,\n",
       "  'to_poi/from_msg': 0.0,\n",
       "  'total_payments': 50591.0},\n",
       " 134: {'bonus': 2500000.0,\n",
       "  'eso/tsv': 0.40312870996771993,\n",
       "  'expenses': 95924.0,\n",
       "  'from_poi/to_msg': 0.023931623931623933,\n",
       "  'other': 401481.0,\n",
       "  'poi': False,\n",
       "  'restricted_stock': 1392142.0,\n",
       "  'salary': 304588.0,\n",
       "  'shared_receipt_with_poi': 1604.0,\n",
       "  'to_poi/from_msg': 0.49333333333333335,\n",
       "  'total_payments': 3676340.0},\n",
       " 135: {'bonus': 700000.0,\n",
       "  'eso/tsv': 0.3498529990026327,\n",
       "  'expenses': 127017.0,\n",
       "  'from_poi/to_msg': 0.02232518955349621,\n",
       "  'other': 150458.0,\n",
       "  'poi': True,\n",
       "  'restricted_stock': 1248318.0,\n",
       "  'salary': 309946.0,\n",
       "  'shared_receipt_with_poi': 2271.0,\n",
       "  'to_poi/from_msg': 0.2459016393442623,\n",
       "  'total_payments': 1587421.0},\n",
       " 136: {'bonus': 0.0,\n",
       "  'eso/tsv': 0.0,\n",
       "  'expenses': 0.0,\n",
       "  'from_poi/to_msg': 0.0,\n",
       "  'other': 0.0,\n",
       "  'poi': False,\n",
       "  'restricted_stock': 0.0,\n",
       "  'salary': 0.0,\n",
       "  'shared_receipt_with_poi': 0.0,\n",
       "  'to_poi/from_msg': 0.0,\n",
       "  'total_payments': 3750.0},\n",
       " 137: {'bonus': 0.0,\n",
       "  'eso/tsv': 0.3720239588452194,\n",
       "  'expenses': 28093.0,\n",
       "  'from_poi/to_msg': 0.056451612903225805,\n",
       "  'other': 1553729.0,\n",
       "  'poi': False,\n",
       "  'restricted_stock': 3654808.0,\n",
       "  'salary': 85274.0,\n",
       "  'shared_receipt_with_poi': 437.0,\n",
       "  'to_poi/from_msg': 0.2631578947368421,\n",
       "  'total_payments': 1979596.0},\n",
       " 138: {'bonus': 300000.0,\n",
       "  'eso/tsv': 0.5061889897794771,\n",
       "  'expenses': 0.0,\n",
       "  'from_poi/to_msg': 0.021739130434782608,\n",
       "  'other': 152055.0,\n",
       "  'poi': False,\n",
       "  'restricted_stock': 576792.0,\n",
       "  'salary': 247338.0,\n",
       "  'shared_receipt_with_poi': 379.0,\n",
       "  'to_poi/from_msg': 0.5789473684210527,\n",
       "  'total_payments': 399393.0},\n",
       " 139: {'bonus': 0.0,\n",
       "  'eso/tsv': 1.0,\n",
       "  'expenses': 8211.0,\n",
       "  'from_poi/to_msg': 0.005256241787122208,\n",
       "  'other': 2818454.0,\n",
       "  'poi': False,\n",
       "  'restricted_stock': 0.0,\n",
       "  'salary': 349487.0,\n",
       "  'shared_receipt_with_poi': 477.0,\n",
       "  'to_poi/from_msg': 0.0,\n",
       "  'total_payments': 8407016.0},\n",
       " 140: {'bonus': 900000.0,\n",
       "  'eso/tsv': 0.7382305550636237,\n",
       "  'expenses': 0.0,\n",
       "  'from_poi/to_msg': 0.04428044280442804,\n",
       "  'other': 400572.0,\n",
       "  'poi': False,\n",
       "  'restricted_stock': 901657.0,\n",
       "  'salary': 330546.0,\n",
       "  'shared_receipt_with_poi': 2333.0,\n",
       "  'to_poi/from_msg': 0.06742640075973409,\n",
       "  'total_payments': 2355702.0},\n",
       " 141: {'bonus': 0.0,\n",
       "  'eso/tsv': 0.0,\n",
       "  'expenses': 0.0,\n",
       "  'from_poi/to_msg': 0.0,\n",
       "  'other': 0.0,\n",
       "  'poi': False,\n",
       "  'restricted_stock': 0.0,\n",
       "  'salary': 0.0,\n",
       "  'shared_receipt_with_poi': 0.0,\n",
       "  'to_poi/from_msg': 0.0,\n",
       "  'total_payments': 119292.0},\n",
       " 142: {'bonus': 1000000.0,\n",
       "  'eso/tsv': 0.0,\n",
       "  'expenses': 30674.0,\n",
       "  'from_poi/to_msg': 0.0306553911205074,\n",
       "  'other': 307895.0,\n",
       "  'poi': True,\n",
       "  'restricted_stock': 2502063.0,\n",
       "  'salary': 415189.0,\n",
       "  'shared_receipt_with_poi': 1585.0,\n",
       "  'to_poi/from_msg': 0.24489795918367346,\n",
       "  'total_payments': 1868758.0},\n",
       " 143: {'bonus': 600000.0,\n",
       "  'eso/tsv': 0.849455067064561,\n",
       "  'expenses': 0.0,\n",
       "  'from_poi/to_msg': 0.0,\n",
       "  'other': 0.0,\n",
       "  'poi': False,\n",
       "  'restricted_stock': 563798.0,\n",
       "  'salary': 265214.0,\n",
       "  'shared_receipt_with_poi': 300.0,\n",
       "  'to_poi/from_msg': 0.0,\n",
       "  'total_payments': 1092663.0},\n",
       " 144: {'bonus': 800000.0,\n",
       "  'eso/tsv': 0.7085370050361336,\n",
       "  'expenses': 96268.0,\n",
       "  'from_poi/to_msg': 0.21734104046242775,\n",
       "  'other': 891.0,\n",
       "  'poi': False,\n",
       "  'restricted_stock': 315068.0,\n",
       "  'salary': 278601.0,\n",
       "  'shared_receipt_with_poi': 772.0,\n",
       "  'to_poi/from_msg': 0.5,\n",
       "  'total_payments': 875760.0},\n",
       " 145: {'bonus': 600000.0,\n",
       "  'eso/tsv': 0.49416219465516487,\n",
       "  'expenses': 125978.0,\n",
       "  'from_poi/to_msg': 0.05956471935853379,\n",
       "  'other': 200308.0,\n",
       "  'poi': True,\n",
       "  'restricted_stock': 393818.0,\n",
       "  'salary': 274975.0,\n",
       "  'shared_receipt_with_poi': 874.0,\n",
       "  'to_poi/from_msg': 0.375,\n",
       "  'total_payments': 1272284.0}}"
      ]
     },
     "execution_count": 187,
     "metadata": {},
     "output_type": "execute_result"
    }
   ],
   "source": [
    "enron_data_sub"
   ]
  },
  {
   "cell_type": "code",
   "execution_count": 188,
   "metadata": {},
   "outputs": [
    {
     "name": "stdout",
     "output_type": "stream",
     "text": [
      "RandomForestClassifier(bootstrap=True, class_weight=None, criterion='gini',\n",
      "            max_depth=None, max_features='auto', max_leaf_nodes=None,\n",
      "            min_impurity_decrease=0.0, min_impurity_split=None,\n",
      "            min_samples_leaf=1, min_samples_split=2,\n",
      "            min_weight_fraction_leaf=0.0, n_estimators=10, n_jobs=1,\n",
      "            oob_score=False, random_state=None, verbose=0,\n",
      "            warm_start=False)\n",
      "\tAccuracy: 0.85480\tPrecision: 0.36834\tRecall: 0.12450\tF1: 0.18610\tF2: 0.14350\n",
      "\tTotal predictions: 15000\tTrue positives:  249\tFalse positives:  427\tFalse negatives: 1751\tTrue negatives: 12573\n",
      "\n"
     ]
    }
   ],
   "source": [
    "test_classifier(clf_rfc, enron_data_sub, list_cols)"
   ]
  },
  {
   "cell_type": "markdown",
   "metadata": {},
   "source": [
    "### Chossing and Training Classifiers"
   ]
  },
  {
   "cell_type": "markdown",
   "metadata": {},
   "source": [
    "Startified Shuffle split, on "
   ]
  },
  {
   "cell_type": "code",
   "execution_count": 190,
   "metadata": {
    "collapsed": true
   },
   "outputs": [],
   "source": [
    "model_labels = df_processing['poi'].copy(deep=True).astype(int).as_matrix()\n",
    "model_features = (df_processing.drop('poi', axis=1)).fillna(0).copy(deep=True).as_matrix()\n",
    "shuffle = StratifiedShuffleSplit(model_labels, 4, test_size=0.3, random_state=0)"
   ]
  },
  {
   "cell_type": "code",
   "execution_count": 191,
   "metadata": {},
   "outputs": [
    {
     "data": {
      "text/plain": [
       "array([0, 0, 0, 0, 1, 0, 0, 0, 0, 0, 0, 0, 0, 0, 0, 0, 1, 0, 0, 0, 0, 0, 0,\n",
       "       0, 0, 0, 0, 0, 0, 0, 1, 0, 0, 0, 0, 0, 0, 0, 0, 0, 0, 1, 0, 0, 0, 0,\n",
       "       0, 0, 0, 0, 0, 0, 0, 1, 0, 0, 0, 0, 0, 0, 1, 0, 0, 0, 0, 1, 0, 0, 0,\n",
       "       0, 0, 0, 0, 0, 0, 0, 1, 0, 0, 0, 0, 0, 1, 0, 0, 1, 0, 1, 1, 0, 0, 0,\n",
       "       0, 0, 0, 1, 0, 0, 0, 0, 0, 0, 0, 0, 0, 0, 0, 0, 0, 0, 0, 0, 0, 0, 0,\n",
       "       0, 0, 0, 0, 0, 0, 0, 0, 0, 0, 1, 1, 0, 0, 0, 0, 0, 0, 0, 0, 1, 0, 0,\n",
       "       0, 0, 0, 0, 1, 0, 0, 1])"
      ]
     },
     "execution_count": 191,
     "metadata": {},
     "output_type": "execute_result"
    }
   ],
   "source": [
    "model_labels"
   ]
  },
  {
   "cell_type": "code",
   "execution_count": 192,
   "metadata": {},
   "outputs": [
    {
     "data": {
      "text/plain": [
       "array([[  6.00000000e+05,   9.42990000e+04,   1.74000000e+03, ...,\n",
       "          0.00000000e+00,   4.70879802e-02,   3.44827586e-02],\n",
       "       [  1.20000000e+06,   1.12000000e+04,   2.66030300e+06, ...,\n",
       "          6.28860186e-01,   0.00000000e+00,   0.00000000e+00],\n",
       "       [  3.50000000e+05,   7.85520000e+04,   1.29610000e+04, ...,\n",
       "          7.32226088e-01,   0.00000000e+00,   0.00000000e+00],\n",
       "       ..., \n",
       "       [  6.00000000e+05,   0.00000000e+00,   0.00000000e+00, ...,\n",
       "          8.49455067e-01,   0.00000000e+00,   0.00000000e+00],\n",
       "       [  8.00000000e+05,   9.62680000e+04,   8.91000000e+02, ...,\n",
       "          7.08537005e-01,   2.17341040e-01,   5.00000000e-01],\n",
       "       [  6.00000000e+05,   1.25978000e+05,   2.00308000e+05, ...,\n",
       "          4.94162195e-01,   5.95647194e-02,   3.75000000e-01]])"
      ]
     },
     "execution_count": 192,
     "metadata": {},
     "output_type": "execute_result"
    }
   ],
   "source": [
    "model_features"
   ]
  },
  {
   "cell_type": "markdown",
   "metadata": {},
   "source": [
    "##### RandomForestClassifier"
   ]
  },
  {
   "cell_type": "code",
   "execution_count": 193,
   "metadata": {
    "collapsed": true
   },
   "outputs": [],
   "source": [
    "clf_rfc = RandomForestClassifier(n_estimators=10,)\n",
    "scored_rfc = cross_validation.cross_val_score(clf_rfc, model_features, model_labels)\n",
    "predicted_rfc = cross_val_predict(clf_rfc, model_features,model_labels, cv=10)\n",
    "precision_score_rfc = metrics.precision_score(model_labels, predicted_rfc) "
   ]
  },
  {
   "cell_type": "code",
   "execution_count": 194,
   "metadata": {},
   "outputs": [
    {
     "data": {
      "text/plain": [
       "array([ 0.83673469,  0.87755102,  0.875     ])"
      ]
     },
     "execution_count": 194,
     "metadata": {},
     "output_type": "execute_result"
    }
   ],
   "source": [
    "scored_rfc"
   ]
  },
  {
   "cell_type": "code",
   "execution_count": 195,
   "metadata": {},
   "outputs": [
    {
     "data": {
      "text/plain": [
       "0.5"
      ]
     },
     "execution_count": 195,
     "metadata": {},
     "output_type": "execute_result"
    }
   ],
   "source": [
    "precision_score_rfc"
   ]
  },
  {
   "cell_type": "code",
   "execution_count": 196,
   "metadata": {},
   "outputs": [
    {
     "name": "stdout",
     "output_type": "stream",
     "text": [
      "RandomForestClassifier(bootstrap=True, class_weight=None, criterion='gini',\n",
      "            max_depth=None, max_features='auto', max_leaf_nodes=None,\n",
      "            min_impurity_decrease=0.0, min_impurity_split=None,\n",
      "            min_samples_leaf=1, min_samples_split=2,\n",
      "            min_weight_fraction_leaf=0.0, n_estimators=10, n_jobs=1,\n",
      "            oob_score=False, random_state=None, verbose=0,\n",
      "            warm_start=False)\n",
      "\tAccuracy: 0.85373\tPrecision: 0.35819\tRecall: 0.12250\tF1: 0.18256\tF2: 0.14106\n",
      "\tTotal predictions: 15000\tTrue positives:  245\tFalse positives:  439\tFalse negatives: 1755\tTrue negatives: 12561\n",
      "\n"
     ]
    }
   ],
   "source": [
    "test_classifier(clf_rfc, enron_data_sub, list_cols)"
   ]
  },
  {
   "cell_type": "markdown",
   "metadata": {},
   "source": [
    "##### Gaussian Naive Bayes"
   ]
  },
  {
   "cell_type": "code",
   "execution_count": 197,
   "metadata": {
    "collapsed": true
   },
   "outputs": [],
   "source": [
    "clf_gnb = GaussianNB()\n",
    "scored_gnb = cross_validation.cross_val_score(clf_gnb, model_features, model_labels)\n",
    "predicted_gnb = cross_val_predict(clf_gnb, model_features,model_labels, cv=10)\n",
    "precision_score_gnb = metrics.precision_score(model_labels, predicted_gnb)"
   ]
  },
  {
   "cell_type": "code",
   "execution_count": 198,
   "metadata": {},
   "outputs": [
    {
     "data": {
      "text/plain": [
       "array([ 0.14285714,  0.10204082,  0.72916667])"
      ]
     },
     "execution_count": 198,
     "metadata": {},
     "output_type": "execute_result"
    }
   ],
   "source": [
    "scored_gnb"
   ]
  },
  {
   "cell_type": "code",
   "execution_count": 199,
   "metadata": {},
   "outputs": [
    {
     "data": {
      "text/plain": [
       "0.109375"
      ]
     },
     "execution_count": 199,
     "metadata": {},
     "output_type": "execute_result"
    }
   ],
   "source": [
    "precision_score_gnb"
   ]
  },
  {
   "cell_type": "code",
   "execution_count": 200,
   "metadata": {},
   "outputs": [
    {
     "name": "stdout",
     "output_type": "stream",
     "text": [
      "GaussianNB(priors=None)\n",
      "\tAccuracy: 0.20553\tPrecision: 0.12250\tRecall: 0.80450\tF1: 0.21262\tF2: 0.38065\n",
      "\tTotal predictions: 15000\tTrue positives: 1609\tFalse positives: 11526\tFalse negatives:  391\tTrue negatives: 1474\n",
      "\n"
     ]
    }
   ],
   "source": [
    "test_classifier(clf_gnb, enron_data_sub, list_cols)"
   ]
  },
  {
   "cell_type": "markdown",
   "metadata": {},
   "source": [
    "#### SVC"
   ]
  },
  {
   "cell_type": "code",
   "execution_count": 201,
   "metadata": {},
   "outputs": [
    {
     "name": "stderr",
     "output_type": "stream",
     "text": [
      "/Users/sushantgandhi/anaconda3/envs/mlnd/lib/python2.7/site-packages/sklearn/metrics/classification.py:1135: UndefinedMetricWarning: Precision is ill-defined and being set to 0.0 due to no predicted samples.\n",
      "  'precision', 'predicted', average, warn_for)\n"
     ]
    }
   ],
   "source": [
    "clf_svc = SVC()\n",
    "scored_svc = cross_validation.cross_val_score(clf_svc, model_features, model_labels)\n",
    "predicted_svc = cross_val_predict(clf_svc, model_features,model_labels, cv=10)\n",
    "precision_score_svc = metrics.precision_score(model_labels, predicted_svc)"
   ]
  },
  {
   "cell_type": "code",
   "execution_count": 202,
   "metadata": {},
   "outputs": [
    {
     "data": {
      "text/plain": [
       "array([ 0.87755102,  0.87755102,  0.875     ])"
      ]
     },
     "execution_count": 202,
     "metadata": {},
     "output_type": "execute_result"
    }
   ],
   "source": [
    "scored_svc"
   ]
  },
  {
   "cell_type": "code",
   "execution_count": 203,
   "metadata": {},
   "outputs": [
    {
     "data": {
      "text/plain": [
       "array([0, 0, 0, 0, 0, 0, 0, 0, 0, 0, 0, 0, 0, 0, 0, 0, 0, 0, 0, 0, 0, 0, 0,\n",
       "       0, 0, 0, 0, 0, 0, 0, 0, 0, 0, 0, 0, 0, 0, 0, 0, 0, 0, 0, 0, 0, 0, 0,\n",
       "       0, 0, 0, 0, 0, 0, 0, 0, 0, 0, 0, 0, 0, 0, 0, 0, 0, 0, 0, 0, 0, 0, 0,\n",
       "       0, 0, 0, 0, 0, 0, 0, 0, 0, 0, 0, 0, 0, 0, 0, 0, 0, 0, 0, 0, 0, 0, 0,\n",
       "       0, 0, 0, 0, 0, 0, 0, 0, 0, 0, 0, 0, 0, 0, 0, 0, 0, 0, 0, 0, 0, 0, 0,\n",
       "       0, 0, 0, 0, 0, 0, 0, 0, 0, 0, 0, 0, 0, 0, 0, 0, 0, 0, 0, 0, 0, 0, 0,\n",
       "       0, 0, 0, 0, 0, 0, 0, 0])"
      ]
     },
     "execution_count": 203,
     "metadata": {},
     "output_type": "execute_result"
    }
   ],
   "source": [
    "predicted_svc"
   ]
  },
  {
   "cell_type": "markdown",
   "metadata": {},
   "source": [
    "^^Got Divide by Zero error"
   ]
  },
  {
   "cell_type": "markdown",
   "metadata": {},
   "source": [
    "##### AdaBoost"
   ]
  },
  {
   "cell_type": "code",
   "execution_count": 204,
   "metadata": {
    "collapsed": true
   },
   "outputs": [],
   "source": [
    "clf_abc = AdaBoostClassifier(algorithm='SAMME.R', base_estimator=None,learning_rate=1.0, n_estimators=50, random_state=None)\n",
    "scored_abc = cross_validation.cross_val_score(clf_abc, model_features, model_labels)\n",
    "predicted_abc = cross_val_predict(clf_abc, model_features,model_labels, cv=10)\n",
    "precision_score_abc = metrics.precision_score(model_labels, predicted_abc)"
   ]
  },
  {
   "cell_type": "code",
   "execution_count": 212,
   "metadata": {},
   "outputs": [
    {
     "data": {
      "text/plain": [
       "array([ 0.87755102,  0.87755102,  0.8125    ])"
      ]
     },
     "execution_count": 212,
     "metadata": {},
     "output_type": "execute_result"
    }
   ],
   "source": [
    "scored_abc"
   ]
  },
  {
   "cell_type": "code",
   "execution_count": 213,
   "metadata": {},
   "outputs": [
    {
     "data": {
      "text/plain": [
       "0.38461538461538464"
      ]
     },
     "execution_count": 213,
     "metadata": {},
     "output_type": "execute_result"
    }
   ],
   "source": [
    "precision_score_abc"
   ]
  },
  {
   "cell_type": "code",
   "execution_count": 207,
   "metadata": {},
   "outputs": [
    {
     "name": "stdout",
     "output_type": "stream",
     "text": [
      "AdaBoostClassifier(algorithm='SAMME.R', base_estimator=None,\n",
      "          learning_rate=1.0, n_estimators=50, random_state=None)\n",
      "\tAccuracy: 0.83640\tPrecision: 0.36005\tRecall: 0.29200\tF1: 0.32247\tF2: 0.30347\n",
      "\tTotal predictions: 15000\tTrue positives:  584\tFalse positives: 1038\tFalse negatives: 1416\tTrue negatives: 11962\n",
      "\n"
     ]
    }
   ],
   "source": [
    "test_classifier(clf_abc, enron_data_sub, list_cols)"
   ]
  },
  {
   "cell_type": "markdown",
   "metadata": {},
   "source": [
    "##### Bagging"
   ]
  },
  {
   "cell_type": "code",
   "execution_count": 214,
   "metadata": {
    "collapsed": true
   },
   "outputs": [],
   "source": [
    "clf_bag = BaggingClassifier(base_estimator=None, bootstrap=True,\n",
    "         bootstrap_features=False, max_features=1.0, max_samples=1.0,\n",
    "         n_estimators=10, n_jobs=1, oob_score=False, random_state=None,\n",
    "         verbose=0, warm_start=False)\n",
    "scored_bag = cross_validation.cross_val_score(clf_bag, model_features, model_labels)\n",
    "predicted_bag = cross_val_predict(clf_bag, model_features,model_labels, cv=10)\n",
    "precision_score_bag = metrics.precision_score(model_labels, predicted_bag)"
   ]
  },
  {
   "cell_type": "code",
   "execution_count": 215,
   "metadata": {},
   "outputs": [
    {
     "data": {
      "text/plain": [
       "array([ 0.81632653,  0.85714286,  0.85416667])"
      ]
     },
     "execution_count": 215,
     "metadata": {},
     "output_type": "execute_result"
    }
   ],
   "source": [
    "scored_bag"
   ]
  },
  {
   "cell_type": "code",
   "execution_count": 216,
   "metadata": {},
   "outputs": [
    {
     "data": {
      "text/plain": [
       "0.42857142857142855"
      ]
     },
     "execution_count": 216,
     "metadata": {},
     "output_type": "execute_result"
    }
   ],
   "source": [
    "precision_score_bag"
   ]
  },
  {
   "cell_type": "code",
   "execution_count": 217,
   "metadata": {},
   "outputs": [
    {
     "name": "stdout",
     "output_type": "stream",
     "text": [
      "BaggingClassifier(base_estimator=None, bootstrap=True,\n",
      "         bootstrap_features=False, max_features=1.0, max_samples=1.0,\n",
      "         n_estimators=10, n_jobs=1, oob_score=False, random_state=None,\n",
      "         verbose=0, warm_start=False)\n",
      "\tAccuracy: 0.85080\tPrecision: 0.37093\tRecall: 0.17100\tF1: 0.23409\tF2: 0.19166\n",
      "\tTotal predictions: 15000\tTrue positives:  342\tFalse positives:  580\tFalse negatives: 1658\tTrue negatives: 12420\n",
      "\n"
     ]
    }
   ],
   "source": [
    "test_classifier(clf_bag, enron_data_sub, list_cols)"
   ]
  },
  {
   "cell_type": "markdown",
   "metadata": {},
   "source": [
    "### Parameter Tuning"
   ]
  },
  {
   "cell_type": "markdown",
   "metadata": {},
   "source": [
    "After above experimentation, I am chossing Adabost and randomforest, as they  had most promising reuslts, and with proper tuning can be used to get better overall metrics"
   ]
  },
  {
   "cell_type": "markdown",
   "metadata": {},
   "source": [
    "For Paramter Tuning, there are various methods, like manual comparison, plotting evaluation metrics, I have used GridSearchCV to get optmised parameter values.\n",
    "\n",
    "Also we have a requirement that the precision and recall must be at least 0.3, For that there a custom scoring funciton needs to be defined"
   ]
  },
  {
   "cell_type": "code",
   "execution_count": 218,
   "metadata": {
    "collapsed": true
   },
   "outputs": [],
   "source": [
    "cv = cross_validation.StratifiedShuffleSplit(model_labels, n_iter=10)\n",
    "\n",
    "def scoring(estimator, features_test, labels_test):\n",
    "     labels_pred = estimator.predict(features_test)\n",
    "     p = metrics.precision_score(labels_test, labels_pred, average='micro')\n",
    "     r = metrics.recall_score(labels_test, labels_pred, average='micro')\n",
    "     if p > 0.3 and r > 0.3:\n",
    "            return metrics.f1_score(labels_test, labels_pred, average='macro')\n",
    "     return 0\n"
   ]
  },
  {
   "cell_type": "markdown",
   "metadata": {},
   "source": [
    "#### AdaBoost"
   ]
  },
  {
   "cell_type": "code",
   "execution_count": 219,
   "metadata": {},
   "outputs": [
    {
     "name": "stderr",
     "output_type": "stream",
     "text": [
      "/Users/sushantgandhi/anaconda3/envs/mlnd/lib/python2.7/site-packages/sklearn/metrics/classification.py:1135: UndefinedMetricWarning: F-score is ill-defined and being set to 0.0 in labels with no predicted samples.\n",
      "  'precision', 'predicted', average, warn_for)\n"
     ]
    },
    {
     "data": {
      "text/plain": [
       "GridSearchCV(cv=StratifiedShuffleSplit(labels=[0 0 ..., 0 1], n_iter=10, test_size=0.1, random_state=None),\n",
       "       error_score='raise',\n",
       "       estimator=AdaBoostClassifier(algorithm='SAMME.R',\n",
       "          base_estimator=DecisionTreeClassifier(class_weight=None, criterion='gini', max_depth=8,\n",
       "            max_features=None, max_leaf_nodes=None,\n",
       "            min_impurity_decrease=0.0, min_impurity_split=None,\n",
       "            min_samples_leaf=1, min_samples_split=2,\n",
       "            min_weight_fraction_leaf=0.0, presort=False, random_state=None,\n",
       "            splitter='best'),\n",
       "          learning_rate=1.0, n_estimators=50, random_state=None),\n",
       "       fit_params=None, iid=True, n_jobs=1,\n",
       "       param_grid={'n_estimators': [100, 300, 500, 850, 1000, 2000, 5000], 'learning_rate': [0.01, 0.1, 0.6, 1.0, 1.5, 2.0], 'algorithm': ['SAMME.R', 'SAMME']},\n",
       "       pre_dispatch='2*n_jobs', refit=True, return_train_score=True,\n",
       "       scoring=<function scoring at 0x1a1ff6b6e0>, verbose=0)"
      ]
     },
     "execution_count": 219,
     "metadata": {},
     "output_type": "execute_result"
    }
   ],
   "source": [
    "num_iteration = [100,300,500,850,1000,2000,5000]\n",
    "learning = [0.01, 0.1, 0.6, 1.0, 1.5, 2.0]\n",
    "\n",
    "clf_adb = AdaBoostClassifier(DecisionTreeClassifier(max_depth=8))\n",
    "\n",
    "parameters_adaboost = {'n_estimators':num_iteration,'learning_rate':learning,'algorithm':['SAMME.R','SAMME']}\n",
    "adaclf = GridSearchCV(clf_adb, parameters_adaboost, scoring = scoring, cv = cv)\n",
    "adaclf.fit(model_features, model_labels)\n"
   ]
  },
  {
   "cell_type": "code",
   "execution_count": 220,
   "metadata": {},
   "outputs": [
    {
     "data": {
      "text/plain": [
       "AdaBoostClassifier(algorithm='SAMME.R',\n",
       "          base_estimator=DecisionTreeClassifier(class_weight=None, criterion='gini', max_depth=8,\n",
       "            max_features=None, max_leaf_nodes=None,\n",
       "            min_impurity_decrease=0.0, min_impurity_split=None,\n",
       "            min_samples_leaf=1, min_samples_split=2,\n",
       "            min_weight_fraction_leaf=0.0, presort=False, random_state=None,\n",
       "            splitter='best'),\n",
       "          learning_rate=0.6, n_estimators=5000, random_state=None)"
      ]
     },
     "execution_count": 220,
     "metadata": {},
     "output_type": "execute_result"
    }
   ],
   "source": [
    "adaclf.best_estimator_"
   ]
  },
  {
   "cell_type": "code",
   "execution_count": 221,
   "metadata": {},
   "outputs": [
    {
     "data": {
      "text/plain": [
       "0.6553472067385111"
      ]
     },
     "execution_count": 221,
     "metadata": {},
     "output_type": "execute_result"
    }
   ],
   "source": [
    "adaclf.best_score_"
   ]
  },
  {
   "cell_type": "markdown",
   "metadata": {},
   "source": [
    "#### RandomForest"
   ]
  },
  {
   "cell_type": "code",
   "execution_count": 222,
   "metadata": {},
   "outputs": [
    {
     "data": {
      "text/plain": [
       "GridSearchCV(cv=StratifiedShuffleSplit(labels=[0 0 ..., 0 1], n_iter=10, test_size=0.1, random_state=None),\n",
       "       error_score='raise',\n",
       "       estimator=RandomForestClassifier(bootstrap=True, class_weight=None, criterion='gini',\n",
       "            max_depth=None, max_features='auto', max_leaf_nodes=None,\n",
       "            min_impurity_decrease=0.0, min_impurity_split=None,\n",
       "            min_samples_leaf=1, min_samples_split=2,\n",
       "            min_weight_fraction_leaf=0.0, n_estimators=10, n_jobs=1,\n",
       "            oob_score=False, random_state=None, verbose=0,\n",
       "            warm_start=False),\n",
       "       fit_params=None, iid=True, n_jobs=1,\n",
       "       param_grid={'min_samples_split': [2, 3, 4, 5], 'n_estimators': [10, 20, 50], 'criterion': ('gini', 'entropy'), 'max_depth': [2, 3, 4, 5, 6], 'min_samples_leaf': [1, 2, 3, 4]},\n",
       "       pre_dispatch='2*n_jobs', refit=True, return_train_score=True,\n",
       "       scoring=<function scoring at 0x1a1ff6b6e0>, verbose=0)"
      ]
     },
     "execution_count": 222,
     "metadata": {},
     "output_type": "execute_result"
    }
   ],
   "source": [
    "parameters = {'max_depth': [2,3,4,5,6],'min_samples_split':[2,3,4,5], 'n_estimators':[10,20,50], 'min_samples_leaf':[1,2,3,4], 'criterion':('gini', 'entropy')}\n",
    "clf_rfc = RandomForestClassifier()\n",
    "rfclf = GridSearchCV(clf_rfc, parameters, scoring = scoring, cv = cv)\n",
    "rfclf.fit(model_features, model_labels)"
   ]
  },
  {
   "cell_type": "code",
   "execution_count": 223,
   "metadata": {},
   "outputs": [
    {
     "data": {
      "text/plain": [
       "RandomForestClassifier(bootstrap=True, class_weight=None, criterion='entropy',\n",
       "            max_depth=6, max_features='auto', max_leaf_nodes=None,\n",
       "            min_impurity_decrease=0.0, min_impurity_split=None,\n",
       "            min_samples_leaf=3, min_samples_split=4,\n",
       "            min_weight_fraction_leaf=0.0, n_estimators=10, n_jobs=1,\n",
       "            oob_score=False, random_state=None, verbose=0,\n",
       "            warm_start=False)"
      ]
     },
     "execution_count": 223,
     "metadata": {},
     "output_type": "execute_result"
    }
   ],
   "source": [
    "rfclf.best_estimator_"
   ]
  },
  {
   "cell_type": "code",
   "execution_count": 224,
   "metadata": {},
   "outputs": [
    {
     "data": {
      "text/plain": [
       "0.70965608465608454"
      ]
     },
     "execution_count": 224,
     "metadata": {},
     "output_type": "execute_result"
    }
   ],
   "source": [
    "rfclf.best_score_"
   ]
  },
  {
   "cell_type": "code",
   "execution_count": 225,
   "metadata": {
    "collapsed": true
   },
   "outputs": [],
   "source": [
    "rf_best_clf = rfclf.best_estimator_"
   ]
  },
  {
   "cell_type": "code",
   "execution_count": 226,
   "metadata": {},
   "outputs": [
    {
     "name": "stdout",
     "output_type": "stream",
     "text": [
      "RandomForestClassifier(bootstrap=True, class_weight=None, criterion='entropy',\n",
      "            max_depth=6, max_features='auto', max_leaf_nodes=None,\n",
      "            min_impurity_decrease=0.0, min_impurity_split=None,\n",
      "            min_samples_leaf=3, min_samples_split=4,\n",
      "            min_weight_fraction_leaf=0.0, n_estimators=10, n_jobs=1,\n",
      "            oob_score=False, random_state=None, verbose=0,\n",
      "            warm_start=False)\n",
      "\tAccuracy: 0.86193\tPrecision: 0.45170\tRecall: 0.16600\tF1: 0.24278\tF2: 0.19004\n",
      "\tTotal predictions: 15000\tTrue positives:  332\tFalse positives:  403\tFalse negatives: 1668\tTrue negatives: 12597\n",
      "\n"
     ]
    }
   ],
   "source": [
    "test_classifier(rf_best_clf, enron_data_sub, list_cols)"
   ]
  },
  {
   "cell_type": "code",
   "execution_count": 227,
   "metadata": {},
   "outputs": [
    {
     "name": "stdout",
     "output_type": "stream",
     "text": [
      "AdaBoostClassifier(algorithm='SAMME.R',\n",
      "          base_estimator=DecisionTreeClassifier(class_weight=None, criterion='gini', max_depth=8,\n",
      "            max_features=None, max_leaf_nodes=None,\n",
      "            min_impurity_decrease=0.0, min_impurity_split=None,\n",
      "            min_samples_leaf=1, min_samples_split=2,\n",
      "            min_weight_fraction_leaf=0.0, presort=False, random_state=None,\n",
      "            splitter='best'),\n",
      "          learning_rate=0.6, n_estimators=5000, random_state=None)\n",
      "\tAccuracy: 0.82380\tPrecision: 0.34580\tRecall: 0.36050\tF1: 0.35300\tF2: 0.35746\n",
      "\tTotal predictions: 15000\tTrue positives:  721\tFalse positives: 1364\tFalse negatives: 1279\tTrue negatives: 11636\n",
      "\n"
     ]
    }
   ],
   "source": [
    "ada_best_clf = adaclf.best_estimator_\n",
    "test_classifier(ada_best_clf, enron_data_sub, list_cols)"
   ]
  },
  {
   "cell_type": "markdown",
   "metadata": {},
   "source": [
    "Both Precision and Recall of AdaBoost is above 0.3, going with that for final dumping of classifier. (Done in Python File)"
   ]
  },
  {
   "cell_type": "markdown",
   "metadata": {},
   "source": [
    "#### List of Resources"
   ]
  },
  {
   "cell_type": "markdown",
   "metadata": {},
   "source": [
    "- scikit-learn.org/stable/modules/generated/sklearn.model_selection.GridSearchCV.html\n",
    "- http://www.investopedia.com/updates/enron-scandal-summary/\n",
    "- https://pandas.pydata.org/pandas-docs/stable/generated/pandas.DataFrame.as_matrix.html\n",
    "- http://scikit-learn.org/stable/modules/generated/sklearn.ensemble.AdaBoostClassifier.html\n",
    "- https://www.analyticsvidhya.com/blog/2015/11/quick-introduction-boosting-algorithms-machine-learning/"
   ]
  }
 ],
 "metadata": {
  "anaconda-cloud": {},
  "kernelspec": {
   "display_name": "Python 2",
   "language": "python",
   "name": "python2"
  },
  "language_info": {
   "codemirror_mode": {
    "name": "ipython",
    "version": 2
   },
   "file_extension": ".py",
   "mimetype": "text/x-python",
   "name": "python",
   "nbconvert_exporter": "python",
   "pygments_lexer": "ipython2",
   "version": "2.7.13"
  }
 },
 "nbformat": 4,
 "nbformat_minor": 2
}
